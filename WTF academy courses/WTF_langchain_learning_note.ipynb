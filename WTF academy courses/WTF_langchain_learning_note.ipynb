{
  "nbformat": 4,
  "nbformat_minor": 0,
  "metadata": {
    "colab": {
      "provenance": [],
      "toc_visible": true
    },
    "kernelspec": {
      "name": "python3",
      "display_name": "Python 3"
    },
    "language_info": {
      "name": "python"
    }
  },
  "cells": [
    {
      "cell_type": "markdown",
      "source": [
        "# 01 : Hello Langchain"
      ],
      "metadata": {
        "id": "cKT1usxwS4g4"
      }
    },
    {
      "cell_type": "markdown",
      "source": [
        "## 1.安装最新版的库: langchain, openai"
      ],
      "metadata": {
        "id": "INmPrtxgKda7"
      }
    },
    {
      "cell_type": "code",
      "source": [
        "!pip install openai --upgrade"
      ],
      "metadata": {
        "colab": {
          "base_uri": "https://localhost:8080/"
        },
        "id": "nAcCGR9A1HrS",
        "outputId": "d01acea7-0bd9-45dd-8e04-babcd641baa7"
      },
      "execution_count": null,
      "outputs": [
        {
          "output_type": "stream",
          "name": "stdout",
          "text": [
            "Requirement already satisfied: openai in /usr/local/lib/python3.11/dist-packages (1.59.6)\n",
            "Collecting openai\n",
            "  Downloading openai-1.59.9-py3-none-any.whl.metadata (27 kB)\n",
            "Requirement already satisfied: anyio<5,>=3.5.0 in /usr/local/lib/python3.11/dist-packages (from openai) (3.7.1)\n",
            "Requirement already satisfied: distro<2,>=1.7.0 in /usr/local/lib/python3.11/dist-packages (from openai) (1.9.0)\n",
            "Requirement already satisfied: httpx<1,>=0.23.0 in /usr/local/lib/python3.11/dist-packages (from openai) (0.28.1)\n",
            "Requirement already satisfied: jiter<1,>=0.4.0 in /usr/local/lib/python3.11/dist-packages (from openai) (0.8.2)\n",
            "Requirement already satisfied: pydantic<3,>=1.9.0 in /usr/local/lib/python3.11/dist-packages (from openai) (2.10.5)\n",
            "Requirement already satisfied: sniffio in /usr/local/lib/python3.11/dist-packages (from openai) (1.3.1)\n",
            "Requirement already satisfied: tqdm>4 in /usr/local/lib/python3.11/dist-packages (from openai) (4.67.1)\n",
            "Requirement already satisfied: typing-extensions<5,>=4.11 in /usr/local/lib/python3.11/dist-packages (from openai) (4.12.2)\n",
            "Requirement already satisfied: idna>=2.8 in /usr/local/lib/python3.11/dist-packages (from anyio<5,>=3.5.0->openai) (3.10)\n",
            "Requirement already satisfied: certifi in /usr/local/lib/python3.11/dist-packages (from httpx<1,>=0.23.0->openai) (2024.12.14)\n",
            "Requirement already satisfied: httpcore==1.* in /usr/local/lib/python3.11/dist-packages (from httpx<1,>=0.23.0->openai) (1.0.7)\n",
            "Requirement already satisfied: h11<0.15,>=0.13 in /usr/local/lib/python3.11/dist-packages (from httpcore==1.*->httpx<1,>=0.23.0->openai) (0.14.0)\n",
            "Requirement already satisfied: annotated-types>=0.6.0 in /usr/local/lib/python3.11/dist-packages (from pydantic<3,>=1.9.0->openai) (0.7.0)\n",
            "Requirement already satisfied: pydantic-core==2.27.2 in /usr/local/lib/python3.11/dist-packages (from pydantic<3,>=1.9.0->openai) (2.27.2)\n",
            "Downloading openai-1.59.9-py3-none-any.whl (455 kB)\n",
            "\u001b[2K   \u001b[90m━━━━━━━━━━━━━━━━━━━━━━━━━━━━━━━━━━━━━━━━\u001b[0m \u001b[32m455.5/455.5 kB\u001b[0m \u001b[31m28.2 MB/s\u001b[0m eta \u001b[36m0:00:00\u001b[0m\n",
            "\u001b[?25hInstalling collected packages: openai\n",
            "  Attempting uninstall: openai\n",
            "    Found existing installation: openai 1.59.6\n",
            "    Uninstalling openai-1.59.6:\n",
            "      Successfully uninstalled openai-1.59.6\n",
            "Successfully installed openai-1.59.9\n"
          ]
        }
      ]
    },
    {
      "cell_type": "code",
      "source": [
        "!pip install langchain --upgrade"
      ],
      "metadata": {
        "colab": {
          "base_uri": "https://localhost:8080/"
        },
        "id": "1QzfIkinz_0w",
        "outputId": "ce6d9f8b-204b-4aaf-93fd-d5f0379260d7"
      },
      "execution_count": null,
      "outputs": [
        {
          "output_type": "stream",
          "name": "stdout",
          "text": [
            "Requirement already satisfied: langchain in /usr/local/lib/python3.11/dist-packages (0.3.15)\n",
            "Requirement already satisfied: PyYAML>=5.3 in /usr/local/lib/python3.11/dist-packages (from langchain) (6.0.2)\n",
            "Requirement already satisfied: SQLAlchemy<3,>=1.4 in /usr/local/lib/python3.11/dist-packages (from langchain) (2.0.37)\n",
            "Requirement already satisfied: aiohttp<4.0.0,>=3.8.3 in /usr/local/lib/python3.11/dist-packages (from langchain) (3.11.11)\n",
            "Requirement already satisfied: langchain-core<0.4.0,>=0.3.31 in /usr/local/lib/python3.11/dist-packages (from langchain) (0.3.31)\n",
            "Requirement already satisfied: langchain-text-splitters<0.4.0,>=0.3.3 in /usr/local/lib/python3.11/dist-packages (from langchain) (0.3.5)\n",
            "Requirement already satisfied: langsmith<0.4,>=0.1.17 in /usr/local/lib/python3.11/dist-packages (from langchain) (0.2.10)\n",
            "Requirement already satisfied: numpy<2,>=1.22.4 in /usr/local/lib/python3.11/dist-packages (from langchain) (1.26.4)\n",
            "Requirement already satisfied: pydantic<3.0.0,>=2.7.4 in /usr/local/lib/python3.11/dist-packages (from langchain) (2.10.5)\n",
            "Requirement already satisfied: requests<3,>=2 in /usr/local/lib/python3.11/dist-packages (from langchain) (2.32.3)\n",
            "Requirement already satisfied: tenacity!=8.4.0,<10,>=8.1.0 in /usr/local/lib/python3.11/dist-packages (from langchain) (9.0.0)\n",
            "Requirement already satisfied: aiohappyeyeballs>=2.3.0 in /usr/local/lib/python3.11/dist-packages (from aiohttp<4.0.0,>=3.8.3->langchain) (2.4.4)\n",
            "Requirement already satisfied: aiosignal>=1.1.2 in /usr/local/lib/python3.11/dist-packages (from aiohttp<4.0.0,>=3.8.3->langchain) (1.3.2)\n",
            "Requirement already satisfied: attrs>=17.3.0 in /usr/local/lib/python3.11/dist-packages (from aiohttp<4.0.0,>=3.8.3->langchain) (24.3.0)\n",
            "Requirement already satisfied: frozenlist>=1.1.1 in /usr/local/lib/python3.11/dist-packages (from aiohttp<4.0.0,>=3.8.3->langchain) (1.5.0)\n",
            "Requirement already satisfied: multidict<7.0,>=4.5 in /usr/local/lib/python3.11/dist-packages (from aiohttp<4.0.0,>=3.8.3->langchain) (6.1.0)\n",
            "Requirement already satisfied: propcache>=0.2.0 in /usr/local/lib/python3.11/dist-packages (from aiohttp<4.0.0,>=3.8.3->langchain) (0.2.1)\n",
            "Requirement already satisfied: yarl<2.0,>=1.17.0 in /usr/local/lib/python3.11/dist-packages (from aiohttp<4.0.0,>=3.8.3->langchain) (1.18.3)\n",
            "Requirement already satisfied: jsonpatch<2.0,>=1.33 in /usr/local/lib/python3.11/dist-packages (from langchain-core<0.4.0,>=0.3.31->langchain) (1.33)\n",
            "Requirement already satisfied: packaging<25,>=23.2 in /usr/local/lib/python3.11/dist-packages (from langchain-core<0.4.0,>=0.3.31->langchain) (24.2)\n",
            "Requirement already satisfied: typing-extensions>=4.7 in /usr/local/lib/python3.11/dist-packages (from langchain-core<0.4.0,>=0.3.31->langchain) (4.12.2)\n",
            "Requirement already satisfied: httpx<1,>=0.23.0 in /usr/local/lib/python3.11/dist-packages (from langsmith<0.4,>=0.1.17->langchain) (0.28.1)\n",
            "Requirement already satisfied: orjson<4.0.0,>=3.9.14 in /usr/local/lib/python3.11/dist-packages (from langsmith<0.4,>=0.1.17->langchain) (3.10.14)\n",
            "Requirement already satisfied: requests-toolbelt<2.0.0,>=1.0.0 in /usr/local/lib/python3.11/dist-packages (from langsmith<0.4,>=0.1.17->langchain) (1.0.0)\n",
            "Requirement already satisfied: annotated-types>=0.6.0 in /usr/local/lib/python3.11/dist-packages (from pydantic<3.0.0,>=2.7.4->langchain) (0.7.0)\n",
            "Requirement already satisfied: pydantic-core==2.27.2 in /usr/local/lib/python3.11/dist-packages (from pydantic<3.0.0,>=2.7.4->langchain) (2.27.2)\n",
            "Requirement already satisfied: charset-normalizer<4,>=2 in /usr/local/lib/python3.11/dist-packages (from requests<3,>=2->langchain) (3.4.1)\n",
            "Requirement already satisfied: idna<4,>=2.5 in /usr/local/lib/python3.11/dist-packages (from requests<3,>=2->langchain) (3.10)\n",
            "Requirement already satisfied: urllib3<3,>=1.21.1 in /usr/local/lib/python3.11/dist-packages (from requests<3,>=2->langchain) (2.3.0)\n",
            "Requirement already satisfied: certifi>=2017.4.17 in /usr/local/lib/python3.11/dist-packages (from requests<3,>=2->langchain) (2024.12.14)\n",
            "Requirement already satisfied: greenlet!=0.4.17 in /usr/local/lib/python3.11/dist-packages (from SQLAlchemy<3,>=1.4->langchain) (3.1.1)\n",
            "Requirement already satisfied: anyio in /usr/local/lib/python3.11/dist-packages (from httpx<1,>=0.23.0->langsmith<0.4,>=0.1.17->langchain) (3.7.1)\n",
            "Requirement already satisfied: httpcore==1.* in /usr/local/lib/python3.11/dist-packages (from httpx<1,>=0.23.0->langsmith<0.4,>=0.1.17->langchain) (1.0.7)\n",
            "Requirement already satisfied: h11<0.15,>=0.13 in /usr/local/lib/python3.11/dist-packages (from httpcore==1.*->httpx<1,>=0.23.0->langsmith<0.4,>=0.1.17->langchain) (0.14.0)\n",
            "Requirement already satisfied: jsonpointer>=1.9 in /usr/local/lib/python3.11/dist-packages (from jsonpatch<2.0,>=1.33->langchain-core<0.4.0,>=0.3.31->langchain) (3.0.0)\n",
            "Requirement already satisfied: sniffio>=1.1 in /usr/local/lib/python3.11/dist-packages (from anyio->httpx<1,>=0.23.0->langsmith<0.4,>=0.1.17->langchain) (1.3.1)\n"
          ]
        }
      ]
    },
    {
      "cell_type": "markdown",
      "source": [
        "## 2.核查库版本号"
      ],
      "metadata": {
        "id": "YQD96VPcLGP4"
      }
    },
    {
      "cell_type": "code",
      "source": [
        "!pip show openai langchain"
      ],
      "metadata": {
        "colab": {
          "base_uri": "https://localhost:8080/"
        },
        "id": "t5vg66oC0DC6",
        "outputId": "e8a2267a-b17f-44e3-ea7d-239a12b87f86"
      },
      "execution_count": null,
      "outputs": [
        {
          "output_type": "stream",
          "name": "stdout",
          "text": [
            "Name: openai\n",
            "Version: 1.59.9\n",
            "Summary: The official Python library for the openai API\n",
            "Home-page: https://github.com/openai/openai-python\n",
            "Author: \n",
            "Author-email: OpenAI <support@openai.com>\n",
            "License: \n",
            "Location: /usr/local/lib/python3.11/dist-packages\n",
            "Requires: anyio, distro, httpx, jiter, pydantic, sniffio, tqdm, typing-extensions\n",
            "Required-by: \n",
            "---\n",
            "Name: langchain\n",
            "Version: 0.3.15\n",
            "Summary: Building applications with LLMs through composability\n",
            "Home-page: https://github.com/langchain-ai/langchain\n",
            "Author: \n",
            "Author-email: \n",
            "License: MIT\n",
            "Location: /usr/local/lib/python3.11/dist-packages\n",
            "Requires: aiohttp, langchain-core, langchain-text-splitters, langsmith, numpy, pydantic, PyYAML, requests, SQLAlchemy, tenacity\n",
            "Required-by: langchain-community\n"
          ]
        }
      ]
    },
    {
      "cell_type": "markdown",
      "source": [
        "## 3.安装 langchain_community\n",
        "如果在跑 Hello langchain 程序之前不安装此依赖，则会导致程序抛错～\n",
        "\n",
        "注：langchain_community 是 LangChain 生态系统中的一个扩展依赖库，它的主要作用是提供由社区开发和贡献的额外功能或连接器"
      ],
      "metadata": {
        "id": "30zxuscaLWGV"
      }
    },
    {
      "cell_type": "code",
      "source": [
        "!pip install langchain_community"
      ],
      "metadata": {
        "colab": {
          "base_uri": "https://localhost:8080/"
        },
        "id": "PtsAVz0y0noa",
        "outputId": "45fc133f-6f64-4e81-cd48-0fb0ebf4f6ef"
      },
      "execution_count": null,
      "outputs": [
        {
          "output_type": "stream",
          "name": "stdout",
          "text": [
            "Collecting langchain_community\n",
            "  Downloading langchain_community-0.3.15-py3-none-any.whl.metadata (2.9 kB)\n",
            "Requirement already satisfied: PyYAML>=5.3 in /usr/local/lib/python3.11/dist-packages (from langchain_community) (6.0.2)\n",
            "Requirement already satisfied: SQLAlchemy<3,>=1.4 in /usr/local/lib/python3.11/dist-packages (from langchain_community) (2.0.37)\n",
            "Requirement already satisfied: aiohttp<4.0.0,>=3.8.3 in /usr/local/lib/python3.11/dist-packages (from langchain_community) (3.11.11)\n",
            "Collecting dataclasses-json<0.7,>=0.5.7 (from langchain_community)\n",
            "  Downloading dataclasses_json-0.6.7-py3-none-any.whl.metadata (25 kB)\n",
            "Collecting httpx-sse<0.5.0,>=0.4.0 (from langchain_community)\n",
            "  Downloading httpx_sse-0.4.0-py3-none-any.whl.metadata (9.0 kB)\n",
            "Collecting langchain<0.4.0,>=0.3.15 (from langchain_community)\n",
            "  Downloading langchain-0.3.15-py3-none-any.whl.metadata (7.1 kB)\n",
            "Collecting langchain-core<0.4.0,>=0.3.31 (from langchain_community)\n",
            "  Downloading langchain_core-0.3.31-py3-none-any.whl.metadata (6.3 kB)\n",
            "Requirement already satisfied: langsmith<0.4,>=0.1.125 in /usr/local/lib/python3.11/dist-packages (from langchain_community) (0.2.10)\n",
            "Requirement already satisfied: numpy<2,>=1.22.4 in /usr/local/lib/python3.11/dist-packages (from langchain_community) (1.26.4)\n",
            "Collecting pydantic-settings<3.0.0,>=2.4.0 (from langchain_community)\n",
            "  Downloading pydantic_settings-2.7.1-py3-none-any.whl.metadata (3.5 kB)\n",
            "Requirement already satisfied: requests<3,>=2 in /usr/local/lib/python3.11/dist-packages (from langchain_community) (2.32.3)\n",
            "Requirement already satisfied: tenacity!=8.4.0,<10,>=8.1.0 in /usr/local/lib/python3.11/dist-packages (from langchain_community) (9.0.0)\n",
            "Requirement already satisfied: aiohappyeyeballs>=2.3.0 in /usr/local/lib/python3.11/dist-packages (from aiohttp<4.0.0,>=3.8.3->langchain_community) (2.4.4)\n",
            "Requirement already satisfied: aiosignal>=1.1.2 in /usr/local/lib/python3.11/dist-packages (from aiohttp<4.0.0,>=3.8.3->langchain_community) (1.3.2)\n",
            "Requirement already satisfied: attrs>=17.3.0 in /usr/local/lib/python3.11/dist-packages (from aiohttp<4.0.0,>=3.8.3->langchain_community) (24.3.0)\n",
            "Requirement already satisfied: frozenlist>=1.1.1 in /usr/local/lib/python3.11/dist-packages (from aiohttp<4.0.0,>=3.8.3->langchain_community) (1.5.0)\n",
            "Requirement already satisfied: multidict<7.0,>=4.5 in /usr/local/lib/python3.11/dist-packages (from aiohttp<4.0.0,>=3.8.3->langchain_community) (6.1.0)\n",
            "Requirement already satisfied: propcache>=0.2.0 in /usr/local/lib/python3.11/dist-packages (from aiohttp<4.0.0,>=3.8.3->langchain_community) (0.2.1)\n",
            "Requirement already satisfied: yarl<2.0,>=1.17.0 in /usr/local/lib/python3.11/dist-packages (from aiohttp<4.0.0,>=3.8.3->langchain_community) (1.18.3)\n",
            "Collecting marshmallow<4.0.0,>=3.18.0 (from dataclasses-json<0.7,>=0.5.7->langchain_community)\n",
            "  Downloading marshmallow-3.25.1-py3-none-any.whl.metadata (7.3 kB)\n",
            "Collecting typing-inspect<1,>=0.4.0 (from dataclasses-json<0.7,>=0.5.7->langchain_community)\n",
            "  Downloading typing_inspect-0.9.0-py3-none-any.whl.metadata (1.5 kB)\n",
            "Requirement already satisfied: langchain-text-splitters<0.4.0,>=0.3.3 in /usr/local/lib/python3.11/dist-packages (from langchain<0.4.0,>=0.3.15->langchain_community) (0.3.5)\n",
            "Requirement already satisfied: pydantic<3.0.0,>=2.7.4 in /usr/local/lib/python3.11/dist-packages (from langchain<0.4.0,>=0.3.15->langchain_community) (2.10.5)\n",
            "Requirement already satisfied: jsonpatch<2.0,>=1.33 in /usr/local/lib/python3.11/dist-packages (from langchain-core<0.4.0,>=0.3.31->langchain_community) (1.33)\n",
            "Requirement already satisfied: packaging<25,>=23.2 in /usr/local/lib/python3.11/dist-packages (from langchain-core<0.4.0,>=0.3.31->langchain_community) (24.2)\n",
            "Requirement already satisfied: typing-extensions>=4.7 in /usr/local/lib/python3.11/dist-packages (from langchain-core<0.4.0,>=0.3.31->langchain_community) (4.12.2)\n",
            "Requirement already satisfied: httpx<1,>=0.23.0 in /usr/local/lib/python3.11/dist-packages (from langsmith<0.4,>=0.1.125->langchain_community) (0.28.1)\n",
            "Requirement already satisfied: orjson<4.0.0,>=3.9.14 in /usr/local/lib/python3.11/dist-packages (from langsmith<0.4,>=0.1.125->langchain_community) (3.10.14)\n",
            "Requirement already satisfied: requests-toolbelt<2.0.0,>=1.0.0 in /usr/local/lib/python3.11/dist-packages (from langsmith<0.4,>=0.1.125->langchain_community) (1.0.0)\n",
            "Collecting python-dotenv>=0.21.0 (from pydantic-settings<3.0.0,>=2.4.0->langchain_community)\n",
            "  Downloading python_dotenv-1.0.1-py3-none-any.whl.metadata (23 kB)\n",
            "Requirement already satisfied: charset-normalizer<4,>=2 in /usr/local/lib/python3.11/dist-packages (from requests<3,>=2->langchain_community) (3.4.1)\n",
            "Requirement already satisfied: idna<4,>=2.5 in /usr/local/lib/python3.11/dist-packages (from requests<3,>=2->langchain_community) (3.10)\n",
            "Requirement already satisfied: urllib3<3,>=1.21.1 in /usr/local/lib/python3.11/dist-packages (from requests<3,>=2->langchain_community) (2.3.0)\n",
            "Requirement already satisfied: certifi>=2017.4.17 in /usr/local/lib/python3.11/dist-packages (from requests<3,>=2->langchain_community) (2024.12.14)\n",
            "Requirement already satisfied: greenlet!=0.4.17 in /usr/local/lib/python3.11/dist-packages (from SQLAlchemy<3,>=1.4->langchain_community) (3.1.1)\n",
            "Requirement already satisfied: anyio in /usr/local/lib/python3.11/dist-packages (from httpx<1,>=0.23.0->langsmith<0.4,>=0.1.125->langchain_community) (3.7.1)\n",
            "Requirement already satisfied: httpcore==1.* in /usr/local/lib/python3.11/dist-packages (from httpx<1,>=0.23.0->langsmith<0.4,>=0.1.125->langchain_community) (1.0.7)\n",
            "Requirement already satisfied: h11<0.15,>=0.13 in /usr/local/lib/python3.11/dist-packages (from httpcore==1.*->httpx<1,>=0.23.0->langsmith<0.4,>=0.1.125->langchain_community) (0.14.0)\n",
            "Requirement already satisfied: jsonpointer>=1.9 in /usr/local/lib/python3.11/dist-packages (from jsonpatch<2.0,>=1.33->langchain-core<0.4.0,>=0.3.31->langchain_community) (3.0.0)\n",
            "Requirement already satisfied: annotated-types>=0.6.0 in /usr/local/lib/python3.11/dist-packages (from pydantic<3.0.0,>=2.7.4->langchain<0.4.0,>=0.3.15->langchain_community) (0.7.0)\n",
            "Requirement already satisfied: pydantic-core==2.27.2 in /usr/local/lib/python3.11/dist-packages (from pydantic<3.0.0,>=2.7.4->langchain<0.4.0,>=0.3.15->langchain_community) (2.27.2)\n",
            "Collecting mypy-extensions>=0.3.0 (from typing-inspect<1,>=0.4.0->dataclasses-json<0.7,>=0.5.7->langchain_community)\n",
            "  Downloading mypy_extensions-1.0.0-py3-none-any.whl.metadata (1.1 kB)\n",
            "Requirement already satisfied: sniffio>=1.1 in /usr/local/lib/python3.11/dist-packages (from anyio->httpx<1,>=0.23.0->langsmith<0.4,>=0.1.125->langchain_community) (1.3.1)\n",
            "Downloading langchain_community-0.3.15-py3-none-any.whl (2.5 MB)\n",
            "\u001b[2K   \u001b[90m━━━━━━━━━━━━━━━━━━━━━━━━━━━━━━━━━━━━━━━━\u001b[0m \u001b[32m2.5/2.5 MB\u001b[0m \u001b[31m33.4 MB/s\u001b[0m eta \u001b[36m0:00:00\u001b[0m\n",
            "\u001b[?25hDownloading dataclasses_json-0.6.7-py3-none-any.whl (28 kB)\n",
            "Downloading httpx_sse-0.4.0-py3-none-any.whl (7.8 kB)\n",
            "Downloading langchain-0.3.15-py3-none-any.whl (1.0 MB)\n",
            "\u001b[2K   \u001b[90m━━━━━━━━━━━━━━━━━━━━━━━━━━━━━━━━━━━━━━━━\u001b[0m \u001b[32m1.0/1.0 MB\u001b[0m \u001b[31m27.5 MB/s\u001b[0m eta \u001b[36m0:00:00\u001b[0m\n",
            "\u001b[?25hDownloading langchain_core-0.3.31-py3-none-any.whl (412 kB)\n",
            "\u001b[2K   \u001b[90m━━━━━━━━━━━━━━━━━━━━━━━━━━━━━━━━━━━━━━━━\u001b[0m \u001b[32m412.2/412.2 kB\u001b[0m \u001b[31m17.5 MB/s\u001b[0m eta \u001b[36m0:00:00\u001b[0m\n",
            "\u001b[?25hDownloading pydantic_settings-2.7.1-py3-none-any.whl (29 kB)\n",
            "Downloading marshmallow-3.25.1-py3-none-any.whl (49 kB)\n",
            "\u001b[2K   \u001b[90m━━━━━━━━━━━━━━━━━━━━━━━━━━━━━━━━━━━━━━━━\u001b[0m \u001b[32m49.6/49.6 kB\u001b[0m \u001b[31m2.8 MB/s\u001b[0m eta \u001b[36m0:00:00\u001b[0m\n",
            "\u001b[?25hDownloading python_dotenv-1.0.1-py3-none-any.whl (19 kB)\n",
            "Downloading typing_inspect-0.9.0-py3-none-any.whl (8.8 kB)\n",
            "Downloading mypy_extensions-1.0.0-py3-none-any.whl (4.7 kB)\n",
            "Installing collected packages: python-dotenv, mypy-extensions, marshmallow, httpx-sse, typing-inspect, pydantic-settings, dataclasses-json, langchain-core, langchain, langchain_community\n",
            "  Attempting uninstall: langchain-core\n",
            "    Found existing installation: langchain-core 0.3.29\n",
            "    Uninstalling langchain-core-0.3.29:\n",
            "      Successfully uninstalled langchain-core-0.3.29\n",
            "  Attempting uninstall: langchain\n",
            "    Found existing installation: langchain 0.3.14\n",
            "    Uninstalling langchain-0.3.14:\n",
            "      Successfully uninstalled langchain-0.3.14\n",
            "Successfully installed dataclasses-json-0.6.7 httpx-sse-0.4.0 langchain-0.3.15 langchain-core-0.3.31 langchain_community-0.3.15 marshmallow-3.25.1 mypy-extensions-1.0.0 pydantic-settings-2.7.1 python-dotenv-1.0.1 typing-inspect-0.9.0\n"
          ]
        }
      ]
    },
    {
      "cell_type": "markdown",
      "source": [
        "## 4.尝试运行第一个 langchain 程序"
      ],
      "metadata": {
        "id": "8PbaPU_kLphj"
      }
    },
    {
      "cell_type": "code",
      "source": [
        "from langchain.chat_models import ChatOpenAI\n",
        "from langchain.schema import HumanMessage\n",
        "from google.colab import userdata\n",
        "import os\n",
        "\n",
        "os.environ[\"OPENAI_API_KEY\"] = userdata.get('OPENAI_API_KEY')\n",
        "\n",
        "chat = ChatOpenAI(\n",
        "    temperature=0,\n",
        "    model_name=\"gpt-3.5-turbo\",\n",
        "    # 自定义 API 的基础 URL\n",
        "    # 表示该调用并非直接使用 OpenAI 官方 API，而是通过 https://api.chatanywhere.tech/v1 提供的代理或服务访问\n",
        "    base_url=\"https://api.chatanywhere.tech/v1\"\n",
        ")\n",
        "\n",
        "# LangChainDeprecationWarning: The method `BaseChatModel.__call__` was deprecated in langchain-core 0.1.7\n",
        "# and will be removed in 1.0. Use :meth:`~invoke` instead.\n",
        "# response = chat([HumanMessage(content=\"Hello ChatGPT!\")])\n",
        "reponse = chat.invoke([HumanMessage(content=\"Hello ChatGPT!\")])\n",
        "print(reponse)"
      ],
      "metadata": {
        "colab": {
          "base_uri": "https://localhost:8080/"
        },
        "id": "RuV_n23ehYNk",
        "outputId": "33b6b67e-0cbf-45bd-f20c-89541a88a8aa"
      },
      "execution_count": null,
      "outputs": [
        {
          "output_type": "stream",
          "name": "stdout",
          "text": [
            "content='Hello! How can I assist you today?' additional_kwargs={} response_metadata={'token_usage': {'completion_tokens': 9, 'prompt_tokens': 11, 'total_tokens': 20, 'completion_tokens_details': {'accepted_prediction_tokens': None, 'audio_tokens': None, 'reasoning_tokens': None, 'rejected_prediction_tokens': None}, 'prompt_tokens_details': {'audio_tokens': None, 'cached_tokens': None}}, 'model_name': 'gpt-3.5-turbo', 'system_fingerprint': 'fp_f3927aa00d', 'finish_reason': 'stop', 'logprobs': None} id='run-fd318579-1917-413c-a1e0-5a2f74e8d280-0'\n"
          ]
        }
      ]
    },
    {
      "cell_type": "markdown",
      "source": [
        "# 02 : 模型 Model\n",
        "https://github.com/sugarforever/wtf-langchain/blob/main/02_Models/README.md"
      ],
      "metadata": {
        "id": "5bJbybJxTKwd"
      }
    },
    {
      "cell_type": "markdown",
      "source": [
        "## 1.模型简介\n",
        "Langchain 所封装的模型分为两类：\n",
        "\n",
        "* 大语言模型 (LLM)\n",
        "* 聊天模型 (Chat Models)"
      ],
      "metadata": {
        "id": "ZlTJ2BswUNvM"
      }
    },
    {
      "cell_type": "markdown",
      "source": [
        "## 2.大语言模型 LLM\n",
        "LLM 是一种基于统计的机器学习模型，用于对文本数据进行建模和生成。LLM学习和捕捉文本数据中的语言模式、语法规则和语义关系，以生成连贯并合乎语言规则的文本。\n",
        "\n",
        "在 Langchain 的环境中，LLM特指文本补全模型（text completion model）。"
      ],
      "metadata": {
        "id": "vRc-dWTnUgHt"
      }
    },
    {
      "cell_type": "markdown",
      "source": [
        "程序实例如下所示："
      ],
      "metadata": {
        "id": "UJMLDGLsW-NJ"
      }
    },
    {
      "cell_type": "code",
      "source": [
        "# LangChainDeprecationWarning: The class `OpenAI` was deprecated in LangChain 0.0.10 and will be removed in 1.0.\n",
        "# An updated version of the class exists in the :class:`~langchain-openai package and should be used instead.\n",
        "# To use it run `pip install -U :class:`~langchain-openai` and import as `from :class:`~langchain_openai import OpenAI``.\n",
        "!pip install -U langchain-openai"
      ],
      "metadata": {
        "colab": {
          "base_uri": "https://localhost:8080/"
        },
        "id": "RJueOUacb9qq",
        "outputId": "6a9fa41a-037c-4fc9-c54f-ea11a218c2bf"
      },
      "execution_count": null,
      "outputs": [
        {
          "output_type": "stream",
          "name": "stdout",
          "text": [
            "Requirement already satisfied: langchain-openai in /usr/local/lib/python3.11/dist-packages (0.3.1)\n",
            "Requirement already satisfied: langchain-core<0.4.0,>=0.3.30 in /usr/local/lib/python3.11/dist-packages (from langchain-openai) (0.3.31)\n",
            "Requirement already satisfied: openai<2.0.0,>=1.58.1 in /usr/local/lib/python3.11/dist-packages (from langchain-openai) (1.59.6)\n",
            "Requirement already satisfied: tiktoken<1,>=0.7 in /usr/local/lib/python3.11/dist-packages (from langchain-openai) (0.8.0)\n",
            "Requirement already satisfied: PyYAML>=5.3 in /usr/local/lib/python3.11/dist-packages (from langchain-core<0.4.0,>=0.3.30->langchain-openai) (6.0.2)\n",
            "Requirement already satisfied: jsonpatch<2.0,>=1.33 in /usr/local/lib/python3.11/dist-packages (from langchain-core<0.4.0,>=0.3.30->langchain-openai) (1.33)\n",
            "Requirement already satisfied: langsmith<0.4,>=0.1.125 in /usr/local/lib/python3.11/dist-packages (from langchain-core<0.4.0,>=0.3.30->langchain-openai) (0.2.10)\n",
            "Requirement already satisfied: packaging<25,>=23.2 in /usr/local/lib/python3.11/dist-packages (from langchain-core<0.4.0,>=0.3.30->langchain-openai) (24.2)\n",
            "Requirement already satisfied: pydantic<3.0.0,>=2.5.2 in /usr/local/lib/python3.11/dist-packages (from langchain-core<0.4.0,>=0.3.30->langchain-openai) (2.10.5)\n",
            "Requirement already satisfied: tenacity!=8.4.0,<10.0.0,>=8.1.0 in /usr/local/lib/python3.11/dist-packages (from langchain-core<0.4.0,>=0.3.30->langchain-openai) (9.0.0)\n",
            "Requirement already satisfied: typing-extensions>=4.7 in /usr/local/lib/python3.11/dist-packages (from langchain-core<0.4.0,>=0.3.30->langchain-openai) (4.12.2)\n",
            "Requirement already satisfied: anyio<5,>=3.5.0 in /usr/local/lib/python3.11/dist-packages (from openai<2.0.0,>=1.58.1->langchain-openai) (3.7.1)\n",
            "Requirement already satisfied: distro<2,>=1.7.0 in /usr/local/lib/python3.11/dist-packages (from openai<2.0.0,>=1.58.1->langchain-openai) (1.9.0)\n",
            "Requirement already satisfied: httpx<1,>=0.23.0 in /usr/local/lib/python3.11/dist-packages (from openai<2.0.0,>=1.58.1->langchain-openai) (0.28.1)\n",
            "Requirement already satisfied: jiter<1,>=0.4.0 in /usr/local/lib/python3.11/dist-packages (from openai<2.0.0,>=1.58.1->langchain-openai) (0.8.2)\n",
            "Requirement already satisfied: sniffio in /usr/local/lib/python3.11/dist-packages (from openai<2.0.0,>=1.58.1->langchain-openai) (1.3.1)\n",
            "Requirement already satisfied: tqdm>4 in /usr/local/lib/python3.11/dist-packages (from openai<2.0.0,>=1.58.1->langchain-openai) (4.67.1)\n",
            "Requirement already satisfied: regex>=2022.1.18 in /usr/local/lib/python3.11/dist-packages (from tiktoken<1,>=0.7->langchain-openai) (2024.11.6)\n",
            "Requirement already satisfied: requests>=2.26.0 in /usr/local/lib/python3.11/dist-packages (from tiktoken<1,>=0.7->langchain-openai) (2.32.3)\n",
            "Requirement already satisfied: idna>=2.8 in /usr/local/lib/python3.11/dist-packages (from anyio<5,>=3.5.0->openai<2.0.0,>=1.58.1->langchain-openai) (3.10)\n",
            "Requirement already satisfied: certifi in /usr/local/lib/python3.11/dist-packages (from httpx<1,>=0.23.0->openai<2.0.0,>=1.58.1->langchain-openai) (2024.12.14)\n",
            "Requirement already satisfied: httpcore==1.* in /usr/local/lib/python3.11/dist-packages (from httpx<1,>=0.23.0->openai<2.0.0,>=1.58.1->langchain-openai) (1.0.7)\n",
            "Requirement already satisfied: h11<0.15,>=0.13 in /usr/local/lib/python3.11/dist-packages (from httpcore==1.*->httpx<1,>=0.23.0->openai<2.0.0,>=1.58.1->langchain-openai) (0.14.0)\n",
            "Requirement already satisfied: jsonpointer>=1.9 in /usr/local/lib/python3.11/dist-packages (from jsonpatch<2.0,>=1.33->langchain-core<0.4.0,>=0.3.30->langchain-openai) (3.0.0)\n",
            "Requirement already satisfied: orjson<4.0.0,>=3.9.14 in /usr/local/lib/python3.11/dist-packages (from langsmith<0.4,>=0.1.125->langchain-core<0.4.0,>=0.3.30->langchain-openai) (3.10.14)\n",
            "Requirement already satisfied: requests-toolbelt<2.0.0,>=1.0.0 in /usr/local/lib/python3.11/dist-packages (from langsmith<0.4,>=0.1.125->langchain-core<0.4.0,>=0.3.30->langchain-openai) (1.0.0)\n",
            "Requirement already satisfied: annotated-types>=0.6.0 in /usr/local/lib/python3.11/dist-packages (from pydantic<3.0.0,>=2.5.2->langchain-core<0.4.0,>=0.3.30->langchain-openai) (0.7.0)\n",
            "Requirement already satisfied: pydantic-core==2.27.2 in /usr/local/lib/python3.11/dist-packages (from pydantic<3.0.0,>=2.5.2->langchain-core<0.4.0,>=0.3.30->langchain-openai) (2.27.2)\n",
            "Requirement already satisfied: charset-normalizer<4,>=2 in /usr/local/lib/python3.11/dist-packages (from requests>=2.26.0->tiktoken<1,>=0.7->langchain-openai) (3.4.1)\n",
            "Requirement already satisfied: urllib3<3,>=1.21.1 in /usr/local/lib/python3.11/dist-packages (from requests>=2.26.0->tiktoken<1,>=0.7->langchain-openai) (2.3.0)\n"
          ]
        }
      ]
    },
    {
      "cell_type": "code",
      "source": [
        "# # 导入ChatOpenAI，用于初始化和调用 OpenAI 的聊天模型\n",
        "# from langchain.llms import OpenAI\n",
        "from langchain_openai import OpenAI\n",
        "\n",
        "from google.colab import userdata\n",
        "import os\n",
        "\n",
        "os.environ[\"OPENAI_API_KEY\"] = userdata.get('OPENAI_API_KEY')\n",
        "\n",
        "llm = OpenAI(\n",
        "    # 指定要使用的模型版本\n",
        "    # 根据最新信息，OpenAI 的 text-davinci-003 模型已被弃用，\n",
        "    # 建议在使用 LangChain 时，切换到更新后的文本补全模型: gpt-3.5-turbo-instruct。\n",
        "    # 详见: https://platform.openai.com/docs/deprecations\n",
        "    model_name=\"gpt-3.5-turbo-instruct\",\n",
        "    # 自定义 API 的基础 URL\n",
        "    # 表示该调用并非直接使用 OpenAI 官方 API，而是通过 https://api.chatanywhere.tech/v1 提供的代理或服务访问\n",
        "    base_url=\"https://api.chatanywhere.tech/v1\"\n",
        ")\n",
        "\n",
        "response = llm(\"What is AI?\")\n",
        "print(response)"
      ],
      "metadata": {
        "colab": {
          "base_uri": "https://localhost:8080/"
        },
        "id": "-leFBYN0XBI2",
        "outputId": "f80eba26-66e5-49f3-90d5-56c71fbe142f"
      },
      "execution_count": null,
      "outputs": [
        {
          "output_type": "stream",
          "name": "stdout",
          "text": [
            "\n",
            "\n",
            "AI, or artificial intelligence, is a branch of computer science that focuses on creating intelligent machines that can perform tasks that typically require human intelligence. This includes tasks such as learning, problem-solving, decision-making, and language understanding. AI uses techniques such as machine learning, natural language processing, and computer vision to mimic human cognitive abilities and make decisions and predictions based on data. Some common applications of AI include virtual assistants, self-driving cars, and image and speech recognition systems.\n"
          ]
        }
      ]
    },
    {
      "cell_type": "markdown",
      "source": [
        "## 3.聊天模型 Chat Models\n",
        "聊天模型是语言模型的一种变体。聊天模型使用语言模型，并提供基于\"聊天消息\"的接口。"
      ],
      "metadata": {
        "id": "bYC7kdluUnuO"
      }
    },
    {
      "cell_type": "markdown",
      "source": [
        "程序实例如下所示："
      ],
      "metadata": {
        "id": "ZOHzonHsXCwc"
      }
    },
    {
      "cell_type": "code",
      "source": [
        "# langchain-community 是 LangChain 的重要补充，它让社区的力量参与到 LangChain 的扩展和完善中，\n",
        "# 通过它，开发者可以获得更多工具和功能，特别是在定制化、实验性和领域专用的用例中发挥重要作用。\n",
        "#\n",
        "# 使用场景如下所示:\n",
        "#   1.扩展功能: 使用社区提供的工具来增强 LangChain 的核心功能\n",
        "#   2.试验新功能: 尝试最新开发的功能，为未来的主库改进提供反馈\n",
        "#   3.定制化需求: 满足主库之外的特定需求，尤其是在处理边缘用例时\n",
        "!pip install -U langchain-community"
      ],
      "metadata": {
        "colab": {
          "base_uri": "https://localhost:8080/"
        },
        "id": "-wHnRzz41GyR",
        "outputId": "52c74cd7-d577-4f32-c9fe-7c5d285fba54"
      },
      "execution_count": null,
      "outputs": [
        {
          "output_type": "stream",
          "name": "stdout",
          "text": [
            "Collecting langchain-community\n",
            "  Downloading langchain_community-0.3.15-py3-none-any.whl.metadata (2.9 kB)\n",
            "Requirement already satisfied: PyYAML>=5.3 in /usr/local/lib/python3.11/dist-packages (from langchain-community) (6.0.2)\n",
            "Requirement already satisfied: SQLAlchemy<3,>=1.4 in /usr/local/lib/python3.11/dist-packages (from langchain-community) (2.0.37)\n",
            "Requirement already satisfied: aiohttp<4.0.0,>=3.8.3 in /usr/local/lib/python3.11/dist-packages (from langchain-community) (3.11.11)\n",
            "Collecting dataclasses-json<0.7,>=0.5.7 (from langchain-community)\n",
            "  Downloading dataclasses_json-0.6.7-py3-none-any.whl.metadata (25 kB)\n",
            "Collecting httpx-sse<0.5.0,>=0.4.0 (from langchain-community)\n",
            "  Downloading httpx_sse-0.4.0-py3-none-any.whl.metadata (9.0 kB)\n",
            "Collecting langchain<0.4.0,>=0.3.15 (from langchain-community)\n",
            "  Downloading langchain-0.3.15-py3-none-any.whl.metadata (7.1 kB)\n",
            "Collecting langchain-core<0.4.0,>=0.3.31 (from langchain-community)\n",
            "  Downloading langchain_core-0.3.31-py3-none-any.whl.metadata (6.3 kB)\n",
            "Requirement already satisfied: langsmith<0.4,>=0.1.125 in /usr/local/lib/python3.11/dist-packages (from langchain-community) (0.2.10)\n",
            "Requirement already satisfied: numpy<2,>=1.22.4 in /usr/local/lib/python3.11/dist-packages (from langchain-community) (1.26.4)\n",
            "Collecting pydantic-settings<3.0.0,>=2.4.0 (from langchain-community)\n",
            "  Downloading pydantic_settings-2.7.1-py3-none-any.whl.metadata (3.5 kB)\n",
            "Requirement already satisfied: requests<3,>=2 in /usr/local/lib/python3.11/dist-packages (from langchain-community) (2.32.3)\n",
            "Requirement already satisfied: tenacity!=8.4.0,<10,>=8.1.0 in /usr/local/lib/python3.11/dist-packages (from langchain-community) (9.0.0)\n",
            "Requirement already satisfied: aiohappyeyeballs>=2.3.0 in /usr/local/lib/python3.11/dist-packages (from aiohttp<4.0.0,>=3.8.3->langchain-community) (2.4.4)\n",
            "Requirement already satisfied: aiosignal>=1.1.2 in /usr/local/lib/python3.11/dist-packages (from aiohttp<4.0.0,>=3.8.3->langchain-community) (1.3.2)\n",
            "Requirement already satisfied: attrs>=17.3.0 in /usr/local/lib/python3.11/dist-packages (from aiohttp<4.0.0,>=3.8.3->langchain-community) (24.3.0)\n",
            "Requirement already satisfied: frozenlist>=1.1.1 in /usr/local/lib/python3.11/dist-packages (from aiohttp<4.0.0,>=3.8.3->langchain-community) (1.5.0)\n",
            "Requirement already satisfied: multidict<7.0,>=4.5 in /usr/local/lib/python3.11/dist-packages (from aiohttp<4.0.0,>=3.8.3->langchain-community) (6.1.0)\n",
            "Requirement already satisfied: propcache>=0.2.0 in /usr/local/lib/python3.11/dist-packages (from aiohttp<4.0.0,>=3.8.3->langchain-community) (0.2.1)\n",
            "Requirement already satisfied: yarl<2.0,>=1.17.0 in /usr/local/lib/python3.11/dist-packages (from aiohttp<4.0.0,>=3.8.3->langchain-community) (1.18.3)\n",
            "Collecting marshmallow<4.0.0,>=3.18.0 (from dataclasses-json<0.7,>=0.5.7->langchain-community)\n",
            "  Downloading marshmallow-3.26.0-py3-none-any.whl.metadata (7.3 kB)\n",
            "Collecting typing-inspect<1,>=0.4.0 (from dataclasses-json<0.7,>=0.5.7->langchain-community)\n",
            "  Downloading typing_inspect-0.9.0-py3-none-any.whl.metadata (1.5 kB)\n",
            "Requirement already satisfied: langchain-text-splitters<0.4.0,>=0.3.3 in /usr/local/lib/python3.11/dist-packages (from langchain<0.4.0,>=0.3.15->langchain-community) (0.3.5)\n",
            "Requirement already satisfied: pydantic<3.0.0,>=2.7.4 in /usr/local/lib/python3.11/dist-packages (from langchain<0.4.0,>=0.3.15->langchain-community) (2.10.5)\n",
            "Requirement already satisfied: jsonpatch<2.0,>=1.33 in /usr/local/lib/python3.11/dist-packages (from langchain-core<0.4.0,>=0.3.31->langchain-community) (1.33)\n",
            "Requirement already satisfied: packaging<25,>=23.2 in /usr/local/lib/python3.11/dist-packages (from langchain-core<0.4.0,>=0.3.31->langchain-community) (24.2)\n",
            "Requirement already satisfied: typing-extensions>=4.7 in /usr/local/lib/python3.11/dist-packages (from langchain-core<0.4.0,>=0.3.31->langchain-community) (4.12.2)\n",
            "Requirement already satisfied: httpx<1,>=0.23.0 in /usr/local/lib/python3.11/dist-packages (from langsmith<0.4,>=0.1.125->langchain-community) (0.28.1)\n",
            "Requirement already satisfied: orjson<4.0.0,>=3.9.14 in /usr/local/lib/python3.11/dist-packages (from langsmith<0.4,>=0.1.125->langchain-community) (3.10.14)\n",
            "Requirement already satisfied: requests-toolbelt<2.0.0,>=1.0.0 in /usr/local/lib/python3.11/dist-packages (from langsmith<0.4,>=0.1.125->langchain-community) (1.0.0)\n",
            "Collecting python-dotenv>=0.21.0 (from pydantic-settings<3.0.0,>=2.4.0->langchain-community)\n",
            "  Downloading python_dotenv-1.0.1-py3-none-any.whl.metadata (23 kB)\n",
            "Requirement already satisfied: charset-normalizer<4,>=2 in /usr/local/lib/python3.11/dist-packages (from requests<3,>=2->langchain-community) (3.4.1)\n",
            "Requirement already satisfied: idna<4,>=2.5 in /usr/local/lib/python3.11/dist-packages (from requests<3,>=2->langchain-community) (3.10)\n",
            "Requirement already satisfied: urllib3<3,>=1.21.1 in /usr/local/lib/python3.11/dist-packages (from requests<3,>=2->langchain-community) (2.3.0)\n",
            "Requirement already satisfied: certifi>=2017.4.17 in /usr/local/lib/python3.11/dist-packages (from requests<3,>=2->langchain-community) (2024.12.14)\n",
            "Requirement already satisfied: greenlet!=0.4.17 in /usr/local/lib/python3.11/dist-packages (from SQLAlchemy<3,>=1.4->langchain-community) (3.1.1)\n",
            "Requirement already satisfied: anyio in /usr/local/lib/python3.11/dist-packages (from httpx<1,>=0.23.0->langsmith<0.4,>=0.1.125->langchain-community) (3.7.1)\n",
            "Requirement already satisfied: httpcore==1.* in /usr/local/lib/python3.11/dist-packages (from httpx<1,>=0.23.0->langsmith<0.4,>=0.1.125->langchain-community) (1.0.7)\n",
            "Requirement already satisfied: h11<0.15,>=0.13 in /usr/local/lib/python3.11/dist-packages (from httpcore==1.*->httpx<1,>=0.23.0->langsmith<0.4,>=0.1.125->langchain-community) (0.14.0)\n",
            "Requirement already satisfied: jsonpointer>=1.9 in /usr/local/lib/python3.11/dist-packages (from jsonpatch<2.0,>=1.33->langchain-core<0.4.0,>=0.3.31->langchain-community) (3.0.0)\n",
            "Requirement already satisfied: annotated-types>=0.6.0 in /usr/local/lib/python3.11/dist-packages (from pydantic<3.0.0,>=2.7.4->langchain<0.4.0,>=0.3.15->langchain-community) (0.7.0)\n",
            "Requirement already satisfied: pydantic-core==2.27.2 in /usr/local/lib/python3.11/dist-packages (from pydantic<3.0.0,>=2.7.4->langchain<0.4.0,>=0.3.15->langchain-community) (2.27.2)\n",
            "Collecting mypy-extensions>=0.3.0 (from typing-inspect<1,>=0.4.0->dataclasses-json<0.7,>=0.5.7->langchain-community)\n",
            "  Downloading mypy_extensions-1.0.0-py3-none-any.whl.metadata (1.1 kB)\n",
            "Requirement already satisfied: sniffio>=1.1 in /usr/local/lib/python3.11/dist-packages (from anyio->httpx<1,>=0.23.0->langsmith<0.4,>=0.1.125->langchain-community) (1.3.1)\n",
            "Downloading langchain_community-0.3.15-py3-none-any.whl (2.5 MB)\n",
            "\u001b[2K   \u001b[90m━━━━━━━━━━━━━━━━━━━━━━━━━━━━━━━━━━━━━━━━\u001b[0m \u001b[32m2.5/2.5 MB\u001b[0m \u001b[31m30.8 MB/s\u001b[0m eta \u001b[36m0:00:00\u001b[0m\n",
            "\u001b[?25hDownloading dataclasses_json-0.6.7-py3-none-any.whl (28 kB)\n",
            "Downloading httpx_sse-0.4.0-py3-none-any.whl (7.8 kB)\n",
            "Downloading langchain-0.3.15-py3-none-any.whl (1.0 MB)\n",
            "\u001b[2K   \u001b[90m━━━━━━━━━━━━━━━━━━━━━━━━━━━━━━━━━━━━━━━━\u001b[0m \u001b[32m1.0/1.0 MB\u001b[0m \u001b[31m41.9 MB/s\u001b[0m eta \u001b[36m0:00:00\u001b[0m\n",
            "\u001b[?25hDownloading langchain_core-0.3.31-py3-none-any.whl (412 kB)\n",
            "\u001b[2K   \u001b[90m━━━━━━━━━━━━━━━━━━━━━━━━━━━━━━━━━━━━━━━━\u001b[0m \u001b[32m412.2/412.2 kB\u001b[0m \u001b[31m26.0 MB/s\u001b[0m eta \u001b[36m0:00:00\u001b[0m\n",
            "\u001b[?25hDownloading pydantic_settings-2.7.1-py3-none-any.whl (29 kB)\n",
            "Downloading marshmallow-3.26.0-py3-none-any.whl (50 kB)\n",
            "\u001b[2K   \u001b[90m━━━━━━━━━━━━━━━━━━━━━━━━━━━━━━━━━━━━━━━━\u001b[0m \u001b[32m50.8/50.8 kB\u001b[0m \u001b[31m3.4 MB/s\u001b[0m eta \u001b[36m0:00:00\u001b[0m\n",
            "\u001b[?25hDownloading python_dotenv-1.0.1-py3-none-any.whl (19 kB)\n",
            "Downloading typing_inspect-0.9.0-py3-none-any.whl (8.8 kB)\n",
            "Downloading mypy_extensions-1.0.0-py3-none-any.whl (4.7 kB)\n",
            "Installing collected packages: python-dotenv, mypy-extensions, marshmallow, httpx-sse, typing-inspect, pydantic-settings, dataclasses-json, langchain-core, langchain, langchain-community\n",
            "  Attempting uninstall: langchain-core\n",
            "    Found existing installation: langchain-core 0.3.29\n",
            "    Uninstalling langchain-core-0.3.29:\n",
            "      Successfully uninstalled langchain-core-0.3.29\n",
            "  Attempting uninstall: langchain\n",
            "    Found existing installation: langchain 0.3.14\n",
            "    Uninstalling langchain-0.3.14:\n",
            "      Successfully uninstalled langchain-0.3.14\n",
            "Successfully installed dataclasses-json-0.6.7 httpx-sse-0.4.0 langchain-0.3.15 langchain-community-0.3.15 langchain-core-0.3.31 marshmallow-3.26.0 mypy-extensions-1.0.0 pydantic-settings-2.7.1 python-dotenv-1.0.1 typing-inspect-0.9.0\n"
          ]
        }
      ]
    },
    {
      "cell_type": "code",
      "source": [
        "# LangChainDeprecationWarning: The class `ChatOpenAI` was deprecated in LangChain 0.0.10 and will be removed in 1.0.\n",
        "# An updated version of the class exists in the :class:`~langchain-openai package and should be used instead.\n",
        "# To use it run `pip install -U :class:`~langchain-openai` and import as `from :class:`~langchain_openai import ChatOpenAI``.\n",
        "!pip install -U langchain-openai"
      ],
      "metadata": {
        "colab": {
          "base_uri": "https://localhost:8080/"
        },
        "id": "WFf5xOyN14GM",
        "outputId": "b2ab1014-b720-498f-c9e1-4a346421a358"
      },
      "execution_count": null,
      "outputs": [
        {
          "output_type": "stream",
          "name": "stdout",
          "text": [
            "Requirement already satisfied: langchain-openai in /usr/local/lib/python3.11/dist-packages (0.3.2)\n",
            "Requirement already satisfied: langchain-core<0.4.0,>=0.3.31 in /usr/local/lib/python3.11/dist-packages (from langchain-openai) (0.3.31)\n",
            "Requirement already satisfied: openai<2.0.0,>=1.58.1 in /usr/local/lib/python3.11/dist-packages (from langchain-openai) (1.59.6)\n",
            "Requirement already satisfied: tiktoken<1,>=0.7 in /usr/local/lib/python3.11/dist-packages (from langchain-openai) (0.8.0)\n",
            "Requirement already satisfied: PyYAML>=5.3 in /usr/local/lib/python3.11/dist-packages (from langchain-core<0.4.0,>=0.3.31->langchain-openai) (6.0.2)\n",
            "Requirement already satisfied: jsonpatch<2.0,>=1.33 in /usr/local/lib/python3.11/dist-packages (from langchain-core<0.4.0,>=0.3.31->langchain-openai) (1.33)\n",
            "Requirement already satisfied: langsmith<0.4,>=0.1.125 in /usr/local/lib/python3.11/dist-packages (from langchain-core<0.4.0,>=0.3.31->langchain-openai) (0.2.10)\n",
            "Requirement already satisfied: packaging<25,>=23.2 in /usr/local/lib/python3.11/dist-packages (from langchain-core<0.4.0,>=0.3.31->langchain-openai) (24.2)\n",
            "Requirement already satisfied: pydantic<3.0.0,>=2.5.2 in /usr/local/lib/python3.11/dist-packages (from langchain-core<0.4.0,>=0.3.31->langchain-openai) (2.10.5)\n",
            "Requirement already satisfied: tenacity!=8.4.0,<10.0.0,>=8.1.0 in /usr/local/lib/python3.11/dist-packages (from langchain-core<0.4.0,>=0.3.31->langchain-openai) (9.0.0)\n",
            "Requirement already satisfied: typing-extensions>=4.7 in /usr/local/lib/python3.11/dist-packages (from langchain-core<0.4.0,>=0.3.31->langchain-openai) (4.12.2)\n",
            "Requirement already satisfied: anyio<5,>=3.5.0 in /usr/local/lib/python3.11/dist-packages (from openai<2.0.0,>=1.58.1->langchain-openai) (3.7.1)\n",
            "Requirement already satisfied: distro<2,>=1.7.0 in /usr/local/lib/python3.11/dist-packages (from openai<2.0.0,>=1.58.1->langchain-openai) (1.9.0)\n",
            "Requirement already satisfied: httpx<1,>=0.23.0 in /usr/local/lib/python3.11/dist-packages (from openai<2.0.0,>=1.58.1->langchain-openai) (0.28.1)\n",
            "Requirement already satisfied: jiter<1,>=0.4.0 in /usr/local/lib/python3.11/dist-packages (from openai<2.0.0,>=1.58.1->langchain-openai) (0.8.2)\n",
            "Requirement already satisfied: sniffio in /usr/local/lib/python3.11/dist-packages (from openai<2.0.0,>=1.58.1->langchain-openai) (1.3.1)\n",
            "Requirement already satisfied: tqdm>4 in /usr/local/lib/python3.11/dist-packages (from openai<2.0.0,>=1.58.1->langchain-openai) (4.67.1)\n",
            "Requirement already satisfied: regex>=2022.1.18 in /usr/local/lib/python3.11/dist-packages (from tiktoken<1,>=0.7->langchain-openai) (2024.11.6)\n",
            "Requirement already satisfied: requests>=2.26.0 in /usr/local/lib/python3.11/dist-packages (from tiktoken<1,>=0.7->langchain-openai) (2.32.3)\n",
            "Requirement already satisfied: idna>=2.8 in /usr/local/lib/python3.11/dist-packages (from anyio<5,>=3.5.0->openai<2.0.0,>=1.58.1->langchain-openai) (3.10)\n",
            "Requirement already satisfied: certifi in /usr/local/lib/python3.11/dist-packages (from httpx<1,>=0.23.0->openai<2.0.0,>=1.58.1->langchain-openai) (2024.12.14)\n",
            "Requirement already satisfied: httpcore==1.* in /usr/local/lib/python3.11/dist-packages (from httpx<1,>=0.23.0->openai<2.0.0,>=1.58.1->langchain-openai) (1.0.7)\n",
            "Requirement already satisfied: h11<0.15,>=0.13 in /usr/local/lib/python3.11/dist-packages (from httpcore==1.*->httpx<1,>=0.23.0->openai<2.0.0,>=1.58.1->langchain-openai) (0.14.0)\n",
            "Requirement already satisfied: jsonpointer>=1.9 in /usr/local/lib/python3.11/dist-packages (from jsonpatch<2.0,>=1.33->langchain-core<0.4.0,>=0.3.31->langchain-openai) (3.0.0)\n",
            "Requirement already satisfied: orjson<4.0.0,>=3.9.14 in /usr/local/lib/python3.11/dist-packages (from langsmith<0.4,>=0.1.125->langchain-core<0.4.0,>=0.3.31->langchain-openai) (3.10.14)\n",
            "Requirement already satisfied: requests-toolbelt<2.0.0,>=1.0.0 in /usr/local/lib/python3.11/dist-packages (from langsmith<0.4,>=0.1.125->langchain-core<0.4.0,>=0.3.31->langchain-openai) (1.0.0)\n",
            "Requirement already satisfied: annotated-types>=0.6.0 in /usr/local/lib/python3.11/dist-packages (from pydantic<3.0.0,>=2.5.2->langchain-core<0.4.0,>=0.3.31->langchain-openai) (0.7.0)\n",
            "Requirement already satisfied: pydantic-core==2.27.2 in /usr/local/lib/python3.11/dist-packages (from pydantic<3.0.0,>=2.5.2->langchain-core<0.4.0,>=0.3.31->langchain-openai) (2.27.2)\n",
            "Requirement already satisfied: charset-normalizer<4,>=2 in /usr/local/lib/python3.11/dist-packages (from requests>=2.26.0->tiktoken<1,>=0.7->langchain-openai) (3.4.1)\n",
            "Requirement already satisfied: urllib3<3,>=1.21.1 in /usr/local/lib/python3.11/dist-packages (from requests>=2.26.0->tiktoken<1,>=0.7->langchain-openai) (2.3.0)\n"
          ]
        }
      ]
    },
    {
      "cell_type": "code",
      "source": [
        "# 导入ChatOpenAI，用于初始化和调用 OpenAI 的聊天模型\n",
        "# from langchain.chat_models import ChatOpenAI\n",
        "from langchain_openai import ChatOpenAI\n",
        "\n",
        "# 从 langchain.schema 中导入的消息类型，用于构建聊天交互的消息流\n",
        "# 1.HumanMessage: 表示人类发送的消息\n",
        "# 2.AIMessage: 表示 AI 回复的消息\n",
        "# 3.SystemMessage: 用于设置系统提示（如模型行为说明）\n",
        "from langchain.schema import HumanMessage, AIMessage, SystemMessage\n",
        "\n",
        "from google.colab import userdata\n",
        "import os\n",
        "\n",
        "os.environ[\"OPENAI_API_KEY\"] = userdata.get('OPENAI_API_KEY')\n",
        "\n",
        "# 初始化聊天模型\n",
        "chat = ChatOpenAI(\n",
        "    # 设置生成文本的随机性\n",
        "    # 0 表示完全确定性，适合生成可靠的回答\n",
        "    temperature=0,\n",
        "    # 指定使用的 OpenAI 模型\n",
        "    # 此处使用的是 gpt-3.5-turbo\n",
        "    model_name=\"gpt-3.5-turbo\",\n",
        "    # 自定义 API 的基础 URL\n",
        "    # 表示该调用并非直接使用 OpenAI 官方 API，而是通过 https://api.chatanywhere.tech/v1 提供的代理或服务访问\n",
        "    base_url=\"https://api.chatanywhere.tech/v1\"\n",
        ")\n",
        "\n",
        "# LangChainDeprecationWarning: The method `BaseChatModel.predict_messages` was deprecated in langchain-core 0.1.7\n",
        "# and will be removed in 1.0. Use :meth:`~invoke` instead.\n",
        "# response = chat.predict_messages([\n",
        "#     HumanMessage(content=\"What is AI?\")\n",
        "# ])\n",
        "\n",
        "# invoke 方法是更加通用的方法，用于统一调用模型，无论是聊天模型还是补全模型\n",
        "response = chat.invoke(\n",
        "    [HumanMessage(content=\"What is AI?\")]\n",
        ")\n",
        "\n",
        "print(type(response)) # <class 'langchain_core.messages.ai.AIMessage'>\n",
        "print(response)"
      ],
      "metadata": {
        "colab": {
          "base_uri": "https://localhost:8080/"
        },
        "id": "GTbpvCugXIID",
        "outputId": "af2fac38-abbb-4a01-9bbc-5e3d7e676d0e"
      },
      "execution_count": null,
      "outputs": [
        {
          "output_type": "stream",
          "name": "stdout",
          "text": [
            "<class 'langchain_core.messages.ai.AIMessage'>\n",
            "content='Artificial Intelligence (AI) refers to the simulation of human intelligence processes by machines, particularly computer systems. These processes include learning (the acquisition of information and rules for using it), reasoning (the ability to solve problems through logical deduction), and self-correction. AI can be categorized into two main types:\\n\\n1. **Narrow AI (Weak AI)**: This type of AI is designed and trained for a specific task. Examples include virtual assistants like Siri and Alexa, recommendation systems, and image recognition software. Narrow AI operates under a limited set of constraints and is not capable of generalizing its knowledge to other tasks.\\n\\n2. **General AI (Strong AI)**: This is a theoretical form of AI that possesses the ability to understand, learn, and apply intelligence across a wide range of tasks, similar to a human being. General AI would be able to reason, solve problems, and understand complex concepts in a way that is indistinguishable from human intelligence. As of now, general AI remains largely a concept and has not yet been realized.\\n\\nAI technologies encompass various subfields, including machine learning (where algorithms improve through experience), natural language processing (enabling machines to understand and generate human language), robotics, and computer vision. AI has applications across numerous industries, including healthcare, finance, transportation, and entertainment, and continues to evolve rapidly.' additional_kwargs={'refusal': None} response_metadata={'token_usage': {'completion_tokens': 269, 'prompt_tokens': 11, 'total_tokens': 280, 'completion_tokens_details': {'accepted_prediction_tokens': None, 'audio_tokens': None, 'reasoning_tokens': None, 'rejected_prediction_tokens': None}, 'prompt_tokens_details': {'audio_tokens': None, 'cached_tokens': None}}, 'model_name': 'gpt-3.5-turbo-0125', 'system_fingerprint': 'fp_5154047bf2', 'finish_reason': 'stop', 'logprobs': None} id='run-c1506dde-e73a-4b8c-aefe-3c073c41e9f5-0' usage_metadata={'input_tokens': 11, 'output_tokens': 269, 'total_tokens': 280, 'input_token_details': {}, 'output_token_details': {}}\n"
          ]
        }
      ]
    },
    {
      "cell_type": "markdown",
      "source": [
        "## 4.OpenAI 模型\n",
        "参考 [OpenAI Model endpoint compatibility 文档](https://platform.openai.com/docs/models/model-endpoint-compatibility)，gpt模型都归为了聊天模型，而davinci, curie, babbage, ada模型都归为了文本补全模型。"
      ],
      "metadata": {
        "id": "CWimlPQaU9t9"
      }
    },
    {
      "cell_type": "markdown",
      "source": [
        "# 03 : 数据连接 Data Connection\n",
        "https://github.com/sugarforever/wtf-langchain/tree/main/03_Data_Connections"
      ],
      "metadata": {
        "id": "GmtASWDpjF3X"
      }
    },
    {
      "cell_type": "markdown",
      "source": [
        "## 1.数据链接简介\n",
        "LLM应用往往需要用户特定的数据，而这些数据并不属于模型的训练集。LangChain 的数据连接概念，通过提供以下组件，实现用户数据的加载、转换、存储和查询：\n",
        "\n",
        "* 文档加载器：从不同的数据源加载文档\n",
        "* 文档转换器：拆分文档，将文档转换为问答格式，去除冗余文档，等等\n",
        "* 文本嵌入模型：将非结构化文本转换为浮点数数组表现形式，也称为向量\n",
        "* 向量存储：存储和搜索嵌入数据（向量）\n",
        "* 检索器：提供数据查询的通用接口"
      ],
      "metadata": {
        "id": "GLBL5R67VK87"
      }
    },
    {
      "cell_type": "markdown",
      "source": [
        "## 2.数据连接步骤\n"
      ],
      "metadata": {
        "id": "m_MFH9nfVPAX"
      }
    },
    {
      "cell_type": "markdown",
      "source": [
        "### 2.1.加载文档\n",
        "Langchain 提供了多种文档加载器，用于从不同的数据源加载不同类型的文档，\n",
        "\n",
        "想了解 Langchain 所支持的所有文档加载器，请参考[Document Loaders](https://python.langchain.com/docs/integrations/document_loaders/)"
      ],
      "metadata": {
        "id": "nyYp6Rh_Vdf6"
      }
    },
    {
      "cell_type": "code",
      "source": [
        "# langchain-community 是 LangChain 的重要补充，它让社区的力量参与到 LangChain 的扩展和完善中，\n",
        "# 通过它，开发者可以获得更多工具和功能，特别是在定制化、实验性和领域专用的用例中发挥重要作用。\n",
        "#\n",
        "# 使用场景如下所示:\n",
        "#   1.扩展功能: 使用社区提供的工具来增强 LangChain 的核心功能\n",
        "#   2.试验新功能: 尝试最新开发的功能，为未来的主库改进提供反馈\n",
        "#   3.定制化需求: 满足主库之外的特定需求，尤其是在处理边缘用例时\n",
        "!pip install -U langchain-community"
      ],
      "metadata": {
        "colab": {
          "base_uri": "https://localhost:8080/"
        },
        "id": "z1Dabi2HX0z6",
        "outputId": "003e610d-6794-48df-8df6-9e309c9ffc3f"
      },
      "execution_count": null,
      "outputs": [
        {
          "output_type": "stream",
          "name": "stdout",
          "text": [
            "Collecting langchain-community\n",
            "  Downloading langchain_community-0.3.15-py3-none-any.whl.metadata (2.9 kB)\n",
            "Requirement already satisfied: PyYAML>=5.3 in /usr/local/lib/python3.11/dist-packages (from langchain-community) (6.0.2)\n",
            "Requirement already satisfied: SQLAlchemy<3,>=1.4 in /usr/local/lib/python3.11/dist-packages (from langchain-community) (2.0.37)\n",
            "Requirement already satisfied: aiohttp<4.0.0,>=3.8.3 in /usr/local/lib/python3.11/dist-packages (from langchain-community) (3.11.11)\n",
            "Collecting dataclasses-json<0.7,>=0.5.7 (from langchain-community)\n",
            "  Downloading dataclasses_json-0.6.7-py3-none-any.whl.metadata (25 kB)\n",
            "Collecting httpx-sse<0.5.0,>=0.4.0 (from langchain-community)\n",
            "  Downloading httpx_sse-0.4.0-py3-none-any.whl.metadata (9.0 kB)\n",
            "Collecting langchain<0.4.0,>=0.3.15 (from langchain-community)\n",
            "  Downloading langchain-0.3.15-py3-none-any.whl.metadata (7.1 kB)\n",
            "Collecting langchain-core<0.4.0,>=0.3.31 (from langchain-community)\n",
            "  Downloading langchain_core-0.3.31-py3-none-any.whl.metadata (6.3 kB)\n",
            "Requirement already satisfied: langsmith<0.4,>=0.1.125 in /usr/local/lib/python3.11/dist-packages (from langchain-community) (0.2.10)\n",
            "Requirement already satisfied: numpy<2,>=1.22.4 in /usr/local/lib/python3.11/dist-packages (from langchain-community) (1.26.4)\n",
            "Collecting pydantic-settings<3.0.0,>=2.4.0 (from langchain-community)\n",
            "  Downloading pydantic_settings-2.7.1-py3-none-any.whl.metadata (3.5 kB)\n",
            "Requirement already satisfied: requests<3,>=2 in /usr/local/lib/python3.11/dist-packages (from langchain-community) (2.32.3)\n",
            "Requirement already satisfied: tenacity!=8.4.0,<10,>=8.1.0 in /usr/local/lib/python3.11/dist-packages (from langchain-community) (9.0.0)\n",
            "Requirement already satisfied: aiohappyeyeballs>=2.3.0 in /usr/local/lib/python3.11/dist-packages (from aiohttp<4.0.0,>=3.8.3->langchain-community) (2.4.4)\n",
            "Requirement already satisfied: aiosignal>=1.1.2 in /usr/local/lib/python3.11/dist-packages (from aiohttp<4.0.0,>=3.8.3->langchain-community) (1.3.2)\n",
            "Requirement already satisfied: attrs>=17.3.0 in /usr/local/lib/python3.11/dist-packages (from aiohttp<4.0.0,>=3.8.3->langchain-community) (24.3.0)\n",
            "Requirement already satisfied: frozenlist>=1.1.1 in /usr/local/lib/python3.11/dist-packages (from aiohttp<4.0.0,>=3.8.3->langchain-community) (1.5.0)\n",
            "Requirement already satisfied: multidict<7.0,>=4.5 in /usr/local/lib/python3.11/dist-packages (from aiohttp<4.0.0,>=3.8.3->langchain-community) (6.1.0)\n",
            "Requirement already satisfied: propcache>=0.2.0 in /usr/local/lib/python3.11/dist-packages (from aiohttp<4.0.0,>=3.8.3->langchain-community) (0.2.1)\n",
            "Requirement already satisfied: yarl<2.0,>=1.17.0 in /usr/local/lib/python3.11/dist-packages (from aiohttp<4.0.0,>=3.8.3->langchain-community) (1.18.3)\n",
            "Collecting marshmallow<4.0.0,>=3.18.0 (from dataclasses-json<0.7,>=0.5.7->langchain-community)\n",
            "  Downloading marshmallow-3.26.0-py3-none-any.whl.metadata (7.3 kB)\n",
            "Collecting typing-inspect<1,>=0.4.0 (from dataclasses-json<0.7,>=0.5.7->langchain-community)\n",
            "  Downloading typing_inspect-0.9.0-py3-none-any.whl.metadata (1.5 kB)\n",
            "Requirement already satisfied: langchain-text-splitters<0.4.0,>=0.3.3 in /usr/local/lib/python3.11/dist-packages (from langchain<0.4.0,>=0.3.15->langchain-community) (0.3.5)\n",
            "Requirement already satisfied: pydantic<3.0.0,>=2.7.4 in /usr/local/lib/python3.11/dist-packages (from langchain<0.4.0,>=0.3.15->langchain-community) (2.10.5)\n",
            "Requirement already satisfied: jsonpatch<2.0,>=1.33 in /usr/local/lib/python3.11/dist-packages (from langchain-core<0.4.0,>=0.3.31->langchain-community) (1.33)\n",
            "Requirement already satisfied: packaging<25,>=23.2 in /usr/local/lib/python3.11/dist-packages (from langchain-core<0.4.0,>=0.3.31->langchain-community) (24.2)\n",
            "Requirement already satisfied: typing-extensions>=4.7 in /usr/local/lib/python3.11/dist-packages (from langchain-core<0.4.0,>=0.3.31->langchain-community) (4.12.2)\n",
            "Requirement already satisfied: httpx<1,>=0.23.0 in /usr/local/lib/python3.11/dist-packages (from langsmith<0.4,>=0.1.125->langchain-community) (0.28.1)\n",
            "Requirement already satisfied: orjson<4.0.0,>=3.9.14 in /usr/local/lib/python3.11/dist-packages (from langsmith<0.4,>=0.1.125->langchain-community) (3.10.14)\n",
            "Requirement already satisfied: requests-toolbelt<2.0.0,>=1.0.0 in /usr/local/lib/python3.11/dist-packages (from langsmith<0.4,>=0.1.125->langchain-community) (1.0.0)\n",
            "Collecting python-dotenv>=0.21.0 (from pydantic-settings<3.0.0,>=2.4.0->langchain-community)\n",
            "  Downloading python_dotenv-1.0.1-py3-none-any.whl.metadata (23 kB)\n",
            "Requirement already satisfied: charset-normalizer<4,>=2 in /usr/local/lib/python3.11/dist-packages (from requests<3,>=2->langchain-community) (3.4.1)\n",
            "Requirement already satisfied: idna<4,>=2.5 in /usr/local/lib/python3.11/dist-packages (from requests<3,>=2->langchain-community) (3.10)\n",
            "Requirement already satisfied: urllib3<3,>=1.21.1 in /usr/local/lib/python3.11/dist-packages (from requests<3,>=2->langchain-community) (2.3.0)\n",
            "Requirement already satisfied: certifi>=2017.4.17 in /usr/local/lib/python3.11/dist-packages (from requests<3,>=2->langchain-community) (2024.12.14)\n",
            "Requirement already satisfied: greenlet!=0.4.17 in /usr/local/lib/python3.11/dist-packages (from SQLAlchemy<3,>=1.4->langchain-community) (3.1.1)\n",
            "Requirement already satisfied: anyio in /usr/local/lib/python3.11/dist-packages (from httpx<1,>=0.23.0->langsmith<0.4,>=0.1.125->langchain-community) (3.7.1)\n",
            "Requirement already satisfied: httpcore==1.* in /usr/local/lib/python3.11/dist-packages (from httpx<1,>=0.23.0->langsmith<0.4,>=0.1.125->langchain-community) (1.0.7)\n",
            "Requirement already satisfied: h11<0.15,>=0.13 in /usr/local/lib/python3.11/dist-packages (from httpcore==1.*->httpx<1,>=0.23.0->langsmith<0.4,>=0.1.125->langchain-community) (0.14.0)\n",
            "Requirement already satisfied: jsonpointer>=1.9 in /usr/local/lib/python3.11/dist-packages (from jsonpatch<2.0,>=1.33->langchain-core<0.4.0,>=0.3.31->langchain-community) (3.0.0)\n",
            "Requirement already satisfied: annotated-types>=0.6.0 in /usr/local/lib/python3.11/dist-packages (from pydantic<3.0.0,>=2.7.4->langchain<0.4.0,>=0.3.15->langchain-community) (0.7.0)\n",
            "Requirement already satisfied: pydantic-core==2.27.2 in /usr/local/lib/python3.11/dist-packages (from pydantic<3.0.0,>=2.7.4->langchain<0.4.0,>=0.3.15->langchain-community) (2.27.2)\n",
            "Collecting mypy-extensions>=0.3.0 (from typing-inspect<1,>=0.4.0->dataclasses-json<0.7,>=0.5.7->langchain-community)\n",
            "  Downloading mypy_extensions-1.0.0-py3-none-any.whl.metadata (1.1 kB)\n",
            "Requirement already satisfied: sniffio>=1.1 in /usr/local/lib/python3.11/dist-packages (from anyio->httpx<1,>=0.23.0->langsmith<0.4,>=0.1.125->langchain-community) (1.3.1)\n",
            "Downloading langchain_community-0.3.15-py3-none-any.whl (2.5 MB)\n",
            "\u001b[2K   \u001b[90m━━━━━━━━━━━━━━━━━━━━━━━━━━━━━━━━━━━━━━━━\u001b[0m \u001b[32m2.5/2.5 MB\u001b[0m \u001b[31m68.5 MB/s\u001b[0m eta \u001b[36m0:00:00\u001b[0m\n",
            "\u001b[?25hDownloading dataclasses_json-0.6.7-py3-none-any.whl (28 kB)\n",
            "Downloading httpx_sse-0.4.0-py3-none-any.whl (7.8 kB)\n",
            "Downloading langchain-0.3.15-py3-none-any.whl (1.0 MB)\n",
            "\u001b[2K   \u001b[90m━━━━━━━━━━━━━━━━━━━━━━━━━━━━━━━━━━━━━━━━\u001b[0m \u001b[32m1.0/1.0 MB\u001b[0m \u001b[31m51.0 MB/s\u001b[0m eta \u001b[36m0:00:00\u001b[0m\n",
            "\u001b[?25hDownloading langchain_core-0.3.31-py3-none-any.whl (412 kB)\n",
            "\u001b[2K   \u001b[90m━━━━━━━━━━━━━━━━━━━━━━━━━━━━━━━━━━━━━━━━\u001b[0m \u001b[32m412.2/412.2 kB\u001b[0m \u001b[31m32.9 MB/s\u001b[0m eta \u001b[36m0:00:00\u001b[0m\n",
            "\u001b[?25hDownloading pydantic_settings-2.7.1-py3-none-any.whl (29 kB)\n",
            "Downloading marshmallow-3.26.0-py3-none-any.whl (50 kB)\n",
            "\u001b[2K   \u001b[90m━━━━━━━━━━━━━━━━━━━━━━━━━━━━━━━━━━━━━━━━\u001b[0m \u001b[32m50.8/50.8 kB\u001b[0m \u001b[31m4.0 MB/s\u001b[0m eta \u001b[36m0:00:00\u001b[0m\n",
            "\u001b[?25hDownloading python_dotenv-1.0.1-py3-none-any.whl (19 kB)\n",
            "Downloading typing_inspect-0.9.0-py3-none-any.whl (8.8 kB)\n",
            "Downloading mypy_extensions-1.0.0-py3-none-any.whl (4.7 kB)\n",
            "Installing collected packages: python-dotenv, mypy-extensions, marshmallow, httpx-sse, typing-inspect, pydantic-settings, dataclasses-json, langchain-core, langchain, langchain-community\n",
            "  Attempting uninstall: langchain-core\n",
            "    Found existing installation: langchain-core 0.3.29\n",
            "    Uninstalling langchain-core-0.3.29:\n",
            "      Successfully uninstalled langchain-core-0.3.29\n",
            "  Attempting uninstall: langchain\n",
            "    Found existing installation: langchain 0.3.14\n",
            "    Uninstalling langchain-0.3.14:\n",
            "      Successfully uninstalled langchain-0.3.14\n",
            "Successfully installed dataclasses-json-0.6.7 httpx-sse-0.4.0 langchain-0.3.15 langchain-community-0.3.15 langchain-core-0.3.31 marshmallow-3.26.0 mypy-extensions-1.0.0 pydantic-settings-2.7.1 python-dotenv-1.0.1 typing-inspect-0.9.0\n"
          ]
        }
      ]
    },
    {
      "cell_type": "code",
      "source": [
        "# ModuleNotFoundError: Module langchain_community.document_loaders not found.\n",
        "# Please install langchain-community to access this module. You can install it using `pip install -U langchain-community`\n",
        "from langchain.document_loaders import TextLoader\n",
        "import os\n",
        "\n",
        "# !!! 记得运行代码前, 先在 colab 左侧栏中的 Fils 中上传 README.md !!!\n",
        "# 创建一个 TextLoader 实例，指定要加载的文件路径为 ./README.md\n",
        "loader = TextLoader(\"./README.md\")\n",
        "# 调用 load() 方法读取指定的文本文件内容，并返回一个包含文档信息的列表\n",
        "docs = loader.load()\n",
        "print(docs)"
      ],
      "metadata": {
        "colab": {
          "base_uri": "https://localhost:8080/"
        },
        "id": "bPXmpR45XDXT",
        "outputId": "fb66154a-ffcb-4d38-c777-b09e59cd5e48"
      },
      "execution_count": null,
      "outputs": [
        {
          "output_type": "stream",
          "name": "stdout",
          "text": [
            "[Document(metadata={'source': './README.md'}, page_content='hello langchain!\\n')]\n"
          ]
        }
      ]
    },
    {
      "cell_type": "markdown",
      "source": [
        "### 2.2.拆分文档\n",
        "拆分文档是文档转换中最常见的操作。拆分文档的目的是将文档拆分为更小的文档块，以便更好地利用模型。当我们要基于长篇文本构建QA应用时，必须将文本分割成块，这样才能在数据查询中，基于相似性找到与问题最接近的文本块。这也是常见的AI问答机器人的工作原理。"
      ],
      "metadata": {
        "id": "IsHMZTWKVkfh"
      }
    },
    {
      "cell_type": "markdown",
      "source": [
        "#### 2.2.1.按字符拆分\n",
        "CharacterTextSplitter 是最简单的文档拆分器，它将文档拆分为固定长度的文本块。"
      ],
      "metadata": {
        "id": "J1ke27vSiHG7"
      }
    },
    {
      "cell_type": "code",
      "source": [
        "from langchain.text_splitter import CharacterTextSplitter\n",
        "text_splitter = CharacterTextSplitter(\n",
        "    # 指定文本分割的依据是两个连续的换行符\n",
        "    # 文本将优先按段落（以换行分隔）进行分割\n",
        "    separator = \"\\n\\n\",\n",
        "    # 定义分割后每块文本的最大长度\n",
        "    # 如果一个段落超出 chunk_size，会进行进一步切分\n",
        "    chunk_size=1000,\n",
        "    # 定义每块文本之间的重叠部分长度\n",
        "    # 例如，块 1 的最后 200 个字符会与块 2 的前 200 个字符相同\n",
        "    # 这种设计有助于保留上下文\n",
        "    chunk_overlap=200,\n",
        "    # 用于计算每个块的长度\n",
        "    # 默认使用 Python 的内置 len() 函数，按字符长度计算\n",
        "    length_function=len,\n",
        ")\n",
        "# 调用 split_documents() 方法，将输入文档 docs 分割成块\n",
        "# 注: docs 应该是一个包含文档内容的列表，通常是格式化的 Document 对象\n",
        "texts = text_splitter.split_documents(docs)\n",
        "print(texts)"
      ],
      "metadata": {
        "colab": {
          "base_uri": "https://localhost:8080/"
        },
        "id": "hH_lw5oBiF5l",
        "outputId": "fe998853-51d8-469c-bee9-005d085cfde1"
      },
      "execution_count": null,
      "outputs": [
        {
          "output_type": "stream",
          "name": "stdout",
          "text": [
            "[Document(metadata={'source': './README.md'}, page_content='hello langchain!')]\n"
          ]
        }
      ]
    },
    {
      "cell_type": "markdown",
      "source": [
        "#### 2.2.2.拆分代码\n",
        "RecursiveCharacterTextSplitter 的 from_language 函数，可以根据编程语言的特性，将代码拆分为合适的文本块。\n"
      ],
      "metadata": {
        "id": "9gn9IfbUJ_eU"
      }
    },
    {
      "cell_type": "code",
      "source": [
        "from langchain.text_splitter import Language, RecursiveCharacterTextSplitter\n",
        "\n",
        "PYTHON_CODE = \"\"\"\n",
        "def hello_langchain():\n",
        "    print(\"Hello, Langchain!\")\n",
        "\n",
        "# Call the function\n",
        "hello_langchain()\n",
        "\"\"\"\n",
        "\n",
        "python_splitter = RecursiveCharacterTextSplitter.from_language(\n",
        "    language=Language.PYTHON,\n",
        "    chunk_size=50,\n",
        "    chunk_overlap=0,\n",
        ")\n",
        "\n",
        "python_docs = python_splitter.create_documents([PYTHON_CODE])\n",
        "print(python_docs)"
      ],
      "metadata": {
        "colab": {
          "base_uri": "https://localhost:8080/"
        },
        "id": "_angC3JnKsoA",
        "outputId": "c52e075b-8072-42c6-d115-c6ca31d53b60"
      },
      "execution_count": 4,
      "outputs": [
        {
          "output_type": "stream",
          "name": "stdout",
          "text": [
            "[Document(metadata={}, page_content='def hello_langchain():'), Document(metadata={}, page_content='print(\"Hello, Langchain!\")'), Document(metadata={}, page_content='# Call the function\\nhello_langchain()')]\n"
          ]
        }
      ]
    },
    {
      "cell_type": "markdown",
      "source": [
        "#### 2.2.3.Markdowm 文档拆分\n",
        "MarkdownHeaderTextSplitter 可以将Markdown文档按照段落结构，基于Markdown语法进行文档分块。\n"
      ],
      "metadata": {
        "id": "kFawNDSMLqrl"
      }
    },
    {
      "cell_type": "code",
      "source": [
        "from langchain.text_splitter import MarkdownHeaderTextSplitter\n",
        "\n",
        "markdown_document = \"\"\"\n",
        "# Chapter 1\n",
        "## Section 1.1\n",
        "### Subsection 1.1.1\n",
        "This is a paragraph in Subsection 1.1.1.\n",
        "\n",
        "### Subsection 1.1.2\n",
        "This is a paragraph in Subsection 1.1.2.\n",
        "\"\"\"\n",
        "\n",
        "headers_to_split_on = [\n",
        "    (\"#\", \"Header 1\"),\n",
        "    (\"##\", \"Header 2\"),\n",
        "    (\"###\", \"Header 3\"),\n",
        "]\n",
        "\n",
        "splitter = MarkdownHeaderTextSplitter(headers_to_split_on=headers_to_split_on)\n",
        "splits = splitter.split_text(markdown_document)\n",
        "\n",
        "headers_to_split_on = [\n",
        "    (\"#\", \"Header 1\"),\n",
        "    (\"##\", \"Header 2\"),\n",
        "    (\"###\", \"Header 3\"),\n",
        "]\n",
        "\n",
        "splitter = MarkdownHeaderTextSplitter(\n",
        "    headers_to_split_on=headers_to_split_on\n",
        ")\n",
        "splits = splitter.split_text(markdown_document)\n",
        "print(splits)"
      ],
      "metadata": {
        "colab": {
          "base_uri": "https://localhost:8080/"
        },
        "id": "YxRBsvsJL3t_",
        "outputId": "ad1d0917-dc1e-44a3-9b45-0432fbc29b46"
      },
      "execution_count": 7,
      "outputs": [
        {
          "output_type": "stream",
          "name": "stdout",
          "text": [
            "[Document(metadata={'Header 1': 'Chapter 1', 'Header 2': 'Section 1.1', 'Header 3': 'Subsection 1.1.1'}, page_content='This is a paragraph in Subsection 1.1.1.'), Document(metadata={'Header 1': 'Chapter 1', 'Header 2': 'Section 1.1', 'Header 3': 'Subsection 1.1.2'}, page_content='This is a paragraph in Subsection 1.1.2.')]\n"
          ]
        }
      ]
    },
    {
      "cell_type": "markdown",
      "source": [
        "#### 2.2.4.按字符递归拆分\n",
        "这也是对于普通文本的推荐拆分方式。它通过一组字符作为参数，按顺序尝试使用这些字符进行拆分，直到块的大小足够小为止。默认的字符列表是[\"\\n\\n\", \"\\n\", \" \", \"\"]。它尽可能地保持段落，句子，单词的完整，因此尽可能地保证语义完整。"
      ],
      "metadata": {
        "id": "olzdKgvaUq6y"
      }
    },
    {
      "cell_type": "code",
      "source": [
        "# langchain-community 是 LangChain 的重要补充，它让社区的力量参与到 LangChain 的扩展和完善中，\n",
        "# 通过它，开发者可以获得更多工具和功能，特别是在定制化、实验性和领域专用的用例中发挥重要作用。\n",
        "#\n",
        "# 使用场景如下所示:\n",
        "#   1.扩展功能: 使用社区提供的工具来增强 LangChain 的核心功能\n",
        "#   2.试验新功能: 尝试最新开发的功能，为未来的主库改进提供反馈\n",
        "#   3.定制化需求: 满足主库之外的特定需求，尤其是在处理边缘用例时\n",
        "!pip install -U langchain-community"
      ],
      "metadata": {
        "colab": {
          "base_uri": "https://localhost:8080/"
        },
        "id": "SWWb8_q3WDMf",
        "outputId": "53ac759a-adc9-476f-870f-1745d6b0b8ba"
      },
      "execution_count": 9,
      "outputs": [
        {
          "output_type": "stream",
          "name": "stdout",
          "text": [
            "Collecting langchain-community\n",
            "  Downloading langchain_community-0.3.15-py3-none-any.whl.metadata (2.9 kB)\n",
            "Requirement already satisfied: PyYAML>=5.3 in /usr/local/lib/python3.11/dist-packages (from langchain-community) (6.0.2)\n",
            "Requirement already satisfied: SQLAlchemy<3,>=1.4 in /usr/local/lib/python3.11/dist-packages (from langchain-community) (2.0.37)\n",
            "Requirement already satisfied: aiohttp<4.0.0,>=3.8.3 in /usr/local/lib/python3.11/dist-packages (from langchain-community) (3.11.11)\n",
            "Collecting dataclasses-json<0.7,>=0.5.7 (from langchain-community)\n",
            "  Downloading dataclasses_json-0.6.7-py3-none-any.whl.metadata (25 kB)\n",
            "Collecting httpx-sse<0.5.0,>=0.4.0 (from langchain-community)\n",
            "  Downloading httpx_sse-0.4.0-py3-none-any.whl.metadata (9.0 kB)\n",
            "Requirement already satisfied: langchain<0.4.0,>=0.3.15 in /usr/local/lib/python3.11/dist-packages (from langchain-community) (0.3.15)\n",
            "Requirement already satisfied: langchain-core<0.4.0,>=0.3.31 in /usr/local/lib/python3.11/dist-packages (from langchain-community) (0.3.31)\n",
            "Requirement already satisfied: langsmith<0.4,>=0.1.125 in /usr/local/lib/python3.11/dist-packages (from langchain-community) (0.3.0)\n",
            "Requirement already satisfied: numpy<2,>=1.22.4 in /usr/local/lib/python3.11/dist-packages (from langchain-community) (1.26.4)\n",
            "Collecting pydantic-settings<3.0.0,>=2.4.0 (from langchain-community)\n",
            "  Downloading pydantic_settings-2.7.1-py3-none-any.whl.metadata (3.5 kB)\n",
            "Requirement already satisfied: requests<3,>=2 in /usr/local/lib/python3.11/dist-packages (from langchain-community) (2.32.3)\n",
            "Requirement already satisfied: tenacity!=8.4.0,<10,>=8.1.0 in /usr/local/lib/python3.11/dist-packages (from langchain-community) (9.0.0)\n",
            "Requirement already satisfied: aiohappyeyeballs>=2.3.0 in /usr/local/lib/python3.11/dist-packages (from aiohttp<4.0.0,>=3.8.3->langchain-community) (2.4.4)\n",
            "Requirement already satisfied: aiosignal>=1.1.2 in /usr/local/lib/python3.11/dist-packages (from aiohttp<4.0.0,>=3.8.3->langchain-community) (1.3.2)\n",
            "Requirement already satisfied: attrs>=17.3.0 in /usr/local/lib/python3.11/dist-packages (from aiohttp<4.0.0,>=3.8.3->langchain-community) (24.3.0)\n",
            "Requirement already satisfied: frozenlist>=1.1.1 in /usr/local/lib/python3.11/dist-packages (from aiohttp<4.0.0,>=3.8.3->langchain-community) (1.5.0)\n",
            "Requirement already satisfied: multidict<7.0,>=4.5 in /usr/local/lib/python3.11/dist-packages (from aiohttp<4.0.0,>=3.8.3->langchain-community) (6.1.0)\n",
            "Requirement already satisfied: propcache>=0.2.0 in /usr/local/lib/python3.11/dist-packages (from aiohttp<4.0.0,>=3.8.3->langchain-community) (0.2.1)\n",
            "Requirement already satisfied: yarl<2.0,>=1.17.0 in /usr/local/lib/python3.11/dist-packages (from aiohttp<4.0.0,>=3.8.3->langchain-community) (1.18.3)\n",
            "Collecting marshmallow<4.0.0,>=3.18.0 (from dataclasses-json<0.7,>=0.5.7->langchain-community)\n",
            "  Downloading marshmallow-3.26.0-py3-none-any.whl.metadata (7.3 kB)\n",
            "Collecting typing-inspect<1,>=0.4.0 (from dataclasses-json<0.7,>=0.5.7->langchain-community)\n",
            "  Downloading typing_inspect-0.9.0-py3-none-any.whl.metadata (1.5 kB)\n",
            "Requirement already satisfied: langchain-text-splitters<0.4.0,>=0.3.3 in /usr/local/lib/python3.11/dist-packages (from langchain<0.4.0,>=0.3.15->langchain-community) (0.3.5)\n",
            "Requirement already satisfied: pydantic<3.0.0,>=2.7.4 in /usr/local/lib/python3.11/dist-packages (from langchain<0.4.0,>=0.3.15->langchain-community) (2.10.5)\n",
            "Requirement already satisfied: jsonpatch<2.0,>=1.33 in /usr/local/lib/python3.11/dist-packages (from langchain-core<0.4.0,>=0.3.31->langchain-community) (1.33)\n",
            "Requirement already satisfied: packaging<25,>=23.2 in /usr/local/lib/python3.11/dist-packages (from langchain-core<0.4.0,>=0.3.31->langchain-community) (24.2)\n",
            "Requirement already satisfied: typing-extensions>=4.7 in /usr/local/lib/python3.11/dist-packages (from langchain-core<0.4.0,>=0.3.31->langchain-community) (4.12.2)\n",
            "Requirement already satisfied: httpx<1,>=0.23.0 in /usr/local/lib/python3.11/dist-packages (from langsmith<0.4,>=0.1.125->langchain-community) (0.28.1)\n",
            "Requirement already satisfied: orjson<4.0.0,>=3.9.14 in /usr/local/lib/python3.11/dist-packages (from langsmith<0.4,>=0.1.125->langchain-community) (3.10.15)\n",
            "Requirement already satisfied: requests-toolbelt<2.0.0,>=1.0.0 in /usr/local/lib/python3.11/dist-packages (from langsmith<0.4,>=0.1.125->langchain-community) (1.0.0)\n",
            "Requirement already satisfied: zstandard<0.24.0,>=0.23.0 in /usr/local/lib/python3.11/dist-packages (from langsmith<0.4,>=0.1.125->langchain-community) (0.23.0)\n",
            "Collecting python-dotenv>=0.21.0 (from pydantic-settings<3.0.0,>=2.4.0->langchain-community)\n",
            "  Downloading python_dotenv-1.0.1-py3-none-any.whl.metadata (23 kB)\n",
            "Requirement already satisfied: charset-normalizer<4,>=2 in /usr/local/lib/python3.11/dist-packages (from requests<3,>=2->langchain-community) (3.4.1)\n",
            "Requirement already satisfied: idna<4,>=2.5 in /usr/local/lib/python3.11/dist-packages (from requests<3,>=2->langchain-community) (3.10)\n",
            "Requirement already satisfied: urllib3<3,>=1.21.1 in /usr/local/lib/python3.11/dist-packages (from requests<3,>=2->langchain-community) (2.3.0)\n",
            "Requirement already satisfied: certifi>=2017.4.17 in /usr/local/lib/python3.11/dist-packages (from requests<3,>=2->langchain-community) (2024.12.14)\n",
            "Requirement already satisfied: greenlet!=0.4.17 in /usr/local/lib/python3.11/dist-packages (from SQLAlchemy<3,>=1.4->langchain-community) (3.1.1)\n",
            "Requirement already satisfied: anyio in /usr/local/lib/python3.11/dist-packages (from httpx<1,>=0.23.0->langsmith<0.4,>=0.1.125->langchain-community) (3.7.1)\n",
            "Requirement already satisfied: httpcore==1.* in /usr/local/lib/python3.11/dist-packages (from httpx<1,>=0.23.0->langsmith<0.4,>=0.1.125->langchain-community) (1.0.7)\n",
            "Requirement already satisfied: h11<0.15,>=0.13 in /usr/local/lib/python3.11/dist-packages (from httpcore==1.*->httpx<1,>=0.23.0->langsmith<0.4,>=0.1.125->langchain-community) (0.14.0)\n",
            "Requirement already satisfied: jsonpointer>=1.9 in /usr/local/lib/python3.11/dist-packages (from jsonpatch<2.0,>=1.33->langchain-core<0.4.0,>=0.3.31->langchain-community) (3.0.0)\n",
            "Requirement already satisfied: annotated-types>=0.6.0 in /usr/local/lib/python3.11/dist-packages (from pydantic<3.0.0,>=2.7.4->langchain<0.4.0,>=0.3.15->langchain-community) (0.7.0)\n",
            "Requirement already satisfied: pydantic-core==2.27.2 in /usr/local/lib/python3.11/dist-packages (from pydantic<3.0.0,>=2.7.4->langchain<0.4.0,>=0.3.15->langchain-community) (2.27.2)\n",
            "Collecting mypy-extensions>=0.3.0 (from typing-inspect<1,>=0.4.0->dataclasses-json<0.7,>=0.5.7->langchain-community)\n",
            "  Downloading mypy_extensions-1.0.0-py3-none-any.whl.metadata (1.1 kB)\n",
            "Requirement already satisfied: sniffio>=1.1 in /usr/local/lib/python3.11/dist-packages (from anyio->httpx<1,>=0.23.0->langsmith<0.4,>=0.1.125->langchain-community) (1.3.1)\n",
            "Downloading langchain_community-0.3.15-py3-none-any.whl (2.5 MB)\n",
            "\u001b[2K   \u001b[90m━━━━━━━━━━━━━━━━━━━━━━━━━━━━━━━━━━━━━━━━\u001b[0m \u001b[32m2.5/2.5 MB\u001b[0m \u001b[31m35.1 MB/s\u001b[0m eta \u001b[36m0:00:00\u001b[0m\n",
            "\u001b[?25hDownloading dataclasses_json-0.6.7-py3-none-any.whl (28 kB)\n",
            "Downloading httpx_sse-0.4.0-py3-none-any.whl (7.8 kB)\n",
            "Downloading pydantic_settings-2.7.1-py3-none-any.whl (29 kB)\n",
            "Downloading marshmallow-3.26.0-py3-none-any.whl (50 kB)\n",
            "\u001b[2K   \u001b[90m━━━━━━━━━━━━━━━━━━━━━━━━━━━━━━━━━━━━━━━━\u001b[0m \u001b[32m50.8/50.8 kB\u001b[0m \u001b[31m3.5 MB/s\u001b[0m eta \u001b[36m0:00:00\u001b[0m\n",
            "\u001b[?25hDownloading python_dotenv-1.0.1-py3-none-any.whl (19 kB)\n",
            "Downloading typing_inspect-0.9.0-py3-none-any.whl (8.8 kB)\n",
            "Downloading mypy_extensions-1.0.0-py3-none-any.whl (4.7 kB)\n",
            "Installing collected packages: python-dotenv, mypy-extensions, marshmallow, httpx-sse, typing-inspect, pydantic-settings, dataclasses-json, langchain-community\n",
            "Successfully installed dataclasses-json-0.6.7 httpx-sse-0.4.0 langchain-community-0.3.15 marshmallow-3.26.0 mypy-extensions-1.0.0 pydantic-settings-2.7.1 python-dotenv-1.0.1 typing-inspect-0.9.0\n"
          ]
        }
      ]
    },
    {
      "cell_type": "code",
      "source": [
        "from langchain.document_loaders import TextLoader\n",
        "from langchain.text_splitter import RecursiveCharacterTextSplitter\n",
        "\n",
        "loader = TextLoader(\"./README.md\")\n",
        "docs = loader.load()\n",
        "\n",
        "text_splitter = RecursiveCharacterTextSplitter(\n",
        "    chunk_size=100,\n",
        "    chunk_overlap=20,\n",
        "    length_function=len,\n",
        ")\n",
        "\n",
        "texts = text_splitter.split_documents(docs)\n",
        "print(texts)"
      ],
      "metadata": {
        "colab": {
          "base_uri": "https://localhost:8080/"
        },
        "id": "RKFANpPyU4J8",
        "outputId": "661207fa-d2e5-4e5a-cab7-64206eaf67c2"
      },
      "execution_count": 11,
      "outputs": [
        {
          "output_type": "stream",
          "name": "stdout",
          "text": [
            "[Document(metadata={'source': './README.md'}, page_content='hello langchain!')]\n"
          ]
        }
      ]
    },
    {
      "cell_type": "markdown",
      "source": [
        "#### 2.2.5.按 token 拆分\n",
        "语言模型，例如OpenAI，有token限制。在API调用中，不应超过token限制。看来，在将文本分块时，根据token数来拆分也是不错的主意。有许多令牌化工具，因此当计算文本的token数时，应该使用与语言模型相同的令牌化工具。"
      ],
      "metadata": {
        "id": "WYevdcHrWfGe"
      }
    },
    {
      "cell_type": "code",
      "source": [
        "# ImportError: Could not import tiktoken python package.\n",
        "# This is needed in order to calculate max_tokens_for_prompt.\n",
        "# Please install it with `pip install tiktoken`.\n",
        "!pip install tiktoken"
      ],
      "metadata": {
        "colab": {
          "base_uri": "https://localhost:8080/"
        },
        "id": "y_7FMMxsXWPy",
        "outputId": "dc5236ab-f2a3-456c-e77c-96dfb762af23"
      },
      "execution_count": 13,
      "outputs": [
        {
          "output_type": "stream",
          "name": "stdout",
          "text": [
            "Collecting tiktoken\n",
            "  Downloading tiktoken-0.8.0-cp311-cp311-manylinux_2_17_x86_64.manylinux2014_x86_64.whl.metadata (6.6 kB)\n",
            "Requirement already satisfied: regex>=2022.1.18 in /usr/local/lib/python3.11/dist-packages (from tiktoken) (2024.11.6)\n",
            "Requirement already satisfied: requests>=2.26.0 in /usr/local/lib/python3.11/dist-packages (from tiktoken) (2.32.3)\n",
            "Requirement already satisfied: charset-normalizer<4,>=2 in /usr/local/lib/python3.11/dist-packages (from requests>=2.26.0->tiktoken) (3.4.1)\n",
            "Requirement already satisfied: idna<4,>=2.5 in /usr/local/lib/python3.11/dist-packages (from requests>=2.26.0->tiktoken) (3.10)\n",
            "Requirement already satisfied: urllib3<3,>=1.21.1 in /usr/local/lib/python3.11/dist-packages (from requests>=2.26.0->tiktoken) (2.3.0)\n",
            "Requirement already satisfied: certifi>=2017.4.17 in /usr/local/lib/python3.11/dist-packages (from requests>=2.26.0->tiktoken) (2024.12.14)\n",
            "Downloading tiktoken-0.8.0-cp311-cp311-manylinux_2_17_x86_64.manylinux2014_x86_64.whl (1.2 MB)\n",
            "\u001b[?25l   \u001b[90m━━━━━━━━━━━━━━━━━━━━━━━━━━━━━━━━━━━━━━━━\u001b[0m \u001b[32m0.0/1.2 MB\u001b[0m \u001b[31m?\u001b[0m eta \u001b[36m-:--:--\u001b[0m\r\u001b[2K   \u001b[91m━━━━━━━━━━━\u001b[0m\u001b[90m╺\u001b[0m\u001b[90m━━━━━━━━━━━━━━━━━━━━━━━━━━━━\u001b[0m \u001b[32m0.3/1.2 MB\u001b[0m \u001b[31m10.0 MB/s\u001b[0m eta \u001b[36m0:00:01\u001b[0m\r\u001b[2K   \u001b[90m━━━━━━━━━━━━━━━━━━━━━━━━━━━━━━━━━━━━━━━━\u001b[0m \u001b[32m1.2/1.2 MB\u001b[0m \u001b[31m17.5 MB/s\u001b[0m eta \u001b[36m0:00:00\u001b[0m\n",
            "\u001b[?25hInstalling collected packages: tiktoken\n",
            "Successfully installed tiktoken-0.8.0\n"
          ]
        }
      ]
    },
    {
      "cell_type": "code",
      "source": [
        "from langchain.document_loaders import TextLoader\n",
        "from langchain.text_splitter import CharacterTextSplitter\n",
        "\n",
        "loader = TextLoader(\"./README.md\")\n",
        "docs = loader.load()\n",
        "\n",
        "text_splitter = CharacterTextSplitter.from_tiktoken_encoder(\n",
        "    chunk_size=100,\n",
        "    chunk_overlap=0,\n",
        ")\n",
        "\n",
        "split_docs = text_splitter.split_documents(docs)\n",
        "print(split_docs)"
      ],
      "metadata": {
        "colab": {
          "base_uri": "https://localhost:8080/"
        },
        "id": "YFr8QbLyWq19",
        "outputId": "87f46afd-3ca4-49dc-caf2-d76bd2b99fd6"
      },
      "execution_count": 14,
      "outputs": [
        {
          "output_type": "stream",
          "name": "stdout",
          "text": [
            "[Document(metadata={'source': './README.md'}, page_content='hello langchain!')]\n"
          ]
        }
      ]
    },
    {
      "cell_type": "markdown",
      "source": [
        "### 2.3.向量化文档分块\n",
        "Langchain 的 Embeddings 类实现与文本嵌入模型进行交互的标准接口。当前市场上有许多嵌入模型提供者（如OpenAI、Cohere、Hugging Face等）。\n",
        "\n",
        "嵌入模型创建文本片段的向量表示。这意味着我们可以在向量空间中处理文本，并进行语义搜索等操作，从而查找在向量空间中最相似的文本片段。\n",
        "\n",
        "注，文本之间的相似度由其向量表示的欧几里得距离来衡量。欧几里得距离是最常见的距离度量方式，也称为L2范数。对于两个n维向量a和b，欧几里得距离可以通过以下公式计算：\n",
        "\n",
        "d\n",
        "(\n",
        "a\n",
        ",\n",
        "b\n",
        ")\n",
        "=\n",
        "√\n",
        "(\n",
        "(\n",
        "a\n",
        "₁\n",
        "−\n",
        "b\n",
        "₁\n",
        ")\n",
        "²\n",
        "+\n",
        "(\n",
        "a\n",
        "₂\n",
        "−\n",
        "b\n",
        "₂\n",
        ")\n",
        "²\n",
        "+\n",
        ".\n",
        ".\n",
        ".\n",
        "+\n",
        "(\n",
        "a\n",
        "ₙ\n",
        "−\n",
        "b\n",
        "ₙ\n",
        ")\n",
        "²\n",
        ")\n"
      ],
      "metadata": {
        "id": "7aMQvrlJVqeT"
      }
    },
    {
      "cell_type": "code",
      "source": [
        "# 下述段代码使用 LangChain 的 OpenAIEmbeddings 模块生成嵌入（embeddings）。\n",
        "# !!!嵌入是将文本表示为高维向量的方式，用于语义搜索或自然语言处理任务!!!\n",
        "from langchain.embeddings import OpenAIEmbeddings\n",
        "from google.colab import userdata\n",
        "\n",
        "# 创建嵌入模型实例，用于生成文本的向量化表示\n",
        "embeddings_model = OpenAIEmbeddings(\n",
        "    # 获取 OpenAI API 密钥\n",
        "    openai_api_key=userdata.get('OPENAI_API_KEY'),\n",
        "    # 自定义 OpenAI API 的基础 URL\n",
        "    # 表示该调用并非直接使用 OpenAI 官方 API，而是通过 https://api.chatanywhere.tech/v1 提供的代理或服务访问\n",
        "    base_url=\"https://api.chatanywhere.tech/v1\"\n",
        ")\n",
        "\n",
        "# 对每个文本生成嵌入向量，其返回值是一个嵌入向量列表，每个向量对应一个输入文本\n",
        "embeddings = embeddings_model.embed_documents(\n",
        "    [\n",
        "        'hello langchain',\n",
        "        'hello openai',\n",
        "    ]\n",
        ")\n",
        "print(embeddings)"
      ],
      "metadata": {
        "colab": {
          "base_uri": "https://localhost:8080/"
        },
        "id": "MQhFsGS1Y8Ox",
        "outputId": "23f44f42-d997-4b0a-983b-8c6cb79729c7"
      },
      "execution_count": 18,
      "outputs": [
        {
          "output_type": "stream",
          "name": "stdout",
          "text": [
            "[[-0.013660646547307488, 0.009500326938972408, -0.018107161593372285, -0.045149238581889, -0.007130480634275507, 0.004170790002766177, -0.02607878021175831, 0.019991869843874258, -0.019531165038325082, -0.009674837238114475, 0.0022616501334330194, -0.012955626019107764, -0.007678441986379631, 0.014337745092368341, 0.02598105466775618, 0.022309363710754364, 0.026888507478236838, -0.02873133415101442, 0.008097266145527027, 0.01848410324347268, -0.032696203602667846, -0.00011081387901102405, 0.01602700225486605, -0.003179573105514125, 0.00038392208767744893, 0.02209995209684197, 0.027419018638617104, -0.035851342062552305, -0.01860975170193629, -0.035823421010736045, 0.0022668855634792205, 0.018107161593372285, -0.019251948932226818, 0.0032266908117766745, 0.010540406608225526, -0.02180677546483558, 0.014658843707513605, 0.0073224415908027364, 0.004631496670960572, -0.006003145349790052, 0.04313888187292341, -0.00439416307390931, 0.004069574327287013, -0.006065969113360552, -0.024571013611356732, 0.0060554987189294545, 0.012306448525863172, -0.01759061282154537, -0.016808806606883102, 0.027460900216341497, 0.024277836979350337, 0.017018220083440713, -0.03143973019390305, -0.001748590678175852, -0.014882216778656737, 0.01669712053697284, 0.0067989111590378406, 0.002895121569369661, 0.016362062327242053, -0.03420397020306942, -0.005053810961585, -0.001764296502653151, -0.026427800810042444, 0.0039194954141454795, 0.01766041731373124, 0.006195106771978586, 0.000930138548666046, 0.030071570715227997, -0.015021824831705869, 0.011077898031559856, 0.02610670312621979, 0.0072107550552311704, -0.022211638166752236, 0.0007800599265628274, 0.0028846509421079107, -0.010812642451369724, 0.01616661123923779, -0.009018679481915816, -0.014896177304564866, -0.007022284230180973, 0.023970699821435813, -0.03286372991356541, -0.002233728615955454, 0.022951560941044894, 0.006952480203656407, 0.006613930931125981, -0.004997967460968564, -0.001658717929997044, -0.027097919092149234, -0.038001307755889634, 0.003598397031830868, -0.005797223867354691, 0.018414300613932028, 0.014672804233421734, -0.024794387613822473, -0.01215287994690591, -0.003158631850990625, 0.006334714825027717, -0.013437273476164354, -0.01428190205741321, -0.02445932754144647, 0.0036961228086636513, 0.0026001996387940984, -0.013451234002072486, -0.004540751389912507, -0.019810381144423343, 0.012843939017874893, -8.670967828454728e-05, 0.03529290985035578, 0.01604096278077418, -0.01590135565904766, 0.034734477638159254, -0.01229248799995504, -0.00456518277591304, -0.01209703598062817, -0.009772562782116606, -0.011405976909659185, -0.0034448282200429535, 0.007922755846384959, -0.028954706290834943, 0.012920723773014828, -0.0011700898607404095, 0.005277183567066828, -0.0019580026413342235, 0.010247229976219132, 0.004338319573292874, -0.030239100751416, -0.02207203104502571, -0.020675950514534396, -0.013772332617217749, 0.02940145243312121, 0.001430982310922947, 0.005584321656303961, 0.008062363899434091, -0.00111250152721611, 0.030211179699599737, -0.002113316751691306, -0.0014178940850534225, -0.0244732880673546, -0.002087140067121605, -0.004956085417582868, 0.02443140648963021, 0.017423082785357365, -0.008746443638771619, 0.0026246310247946313, -0.005936831920403823, 0.018093201067464156, 0.015412727007714393, 0.004348790433385276, -0.007217735318185236, 0.024892113157824605, -0.006219538157979119, 0.017074062187073233, -0.023342463117053416, 0.016543552889338186, 0.025576191965839525, 0.0039474173972843495, 0.03029494471769374, 0.01395382317931388, -0.003514632246567519, -0.03434357546215073, -0.0009563150586127582, -0.00190041442422525, -0.014463392619509342, -0.0024902584017917006, 0.022295403184846234, 0.03342216212576194, -0.004952595286105836, 0.0014152764864456481, 0.005580831059165624, -0.004931654031582336, 0.004488398486434408, -0.03289165469067211, -0.014589040146650342, -0.006659303105988709, 0.004191731257289677, 0.028284588008728156, 0.005165497497156567, -0.027977450850813632, -0.030434551839420263, -0.02458497599991008, 0.012732252947964632, 0.019824341670331473, 0.018749358823662812, -0.027684274218807238, 0.01304637130015583, 0.011873663840807645, -0.008341580005532354, 0.0074760101697599985, -0.013479155985211355, 0.014407549584554211, 0.017171787731075364, 0.01763249439926976, -0.008906992480682946, -0.6437605856748118, -0.024096346417254208, -0.0025391211737927663, 0.0016892572789130363, 0.010693975187182788, 0.012955626019107764, 0.01063115188927359, 0.02529697585974126, -0.02612066365212792, 0.039648683340662946, 0.0022459443089557205, 0.02349603262733329, 0.0019876694573809574, 0.011566525751570512, -0.019754537178145605, -0.019712655600421212, -0.0033645535662566377, -0.03420397020306942, 0.00871852165563275, 0.009018679481915816, -0.004334829441815842, 0.004655928056961105, -0.012655468192824695, 0.000530946786530601, 0.01128730964547225, -0.01577570720058405, 0.013681587336169683, -0.012774135457011632, -0.003867142510667381, 0.021360029322549313, -0.03141180914208679, 0.011231466610517118, -0.008460247269719291, -0.012411154332819368, 0.05684839398619979, -0.01318597935320496, -0.013835155915126945, 0.026581370320322314, 0.01672504345143432, 0.02968066853921947, -0.017367238819079627, -0.007273578818801672, -5.8569933002214835e-05, -0.005601772313689124, -0.010638132152227657, 0.007825030302382827, 0.026162545229852313, 0.011168643312607923, -0.003835730861712783, -0.024208034349809688, 0.026385919232318054, -0.017325357241355237, -0.007887853600292025, 0.018721437771846552, -0.014260961268551014, -0.02006167433606013, 0.022127873148658234, -0.02205807051911758, 0.01616661123923779, 0.03931362326828695, 0.00440812359981744, 0.023188895469418765, -0.023468111575517026, 0.00036559854817704934, -0.017325357241355237, 0.0026298664548408323, -0.0270839585662411, -0.01795359394573763, -0.00836252172571716, -0.0003575274445134222, -0.0008987267250884588, 0.003471004904612655, -0.025687878035749786, 0.024235955401625948, -0.007064166739227974, 0.02782388134053376, 0.0218626175684681, -0.008481188058581486, -0.003950907528761382, 0.023021365433230762, 0.013123155123973156, -0.0011447859418706186, -0.01601304172895792, -0.026525526354044576, 0.04724335844630336, -0.014728648199699474, -0.026679095864324445, -0.02850796014854868, -0.0075807164423775, 0.011964409121855712, 0.023286621013420897, 0.031635181281907315, 0.0070990685196596045, -0.028075176394815764, 0.013158057370066091, 0.03210984661336462, -0.010065739414122999, 0.00837648225162529, -0.01673900397734245, -0.025352819826019002, -0.012816017966058631, -0.0035914167688768026, -0.008355540531440485, -0.008962835515638076, 0.034371500239257426, -0.015859472218678047, -0.007064166739227974, 0.005336517199160296, 0.04456288531787621, -0.014700726216560605, 0.010407778818130459, 0.024933994735548998, -0.01754872938117576, 0.011866682646530971, -0.003573965645830335, -0.03392475223432594, -0.0017546985246759852, 0.005371418979591927, 0.009067542253916882, -0.04196617534489784, 0.02619046814431379, 0.005919380797357356, 0.034120203322330206, -0.008425345023626355, 0.008055383636480026, 0.04202201744853036, -0.004767614592532671, -0.028019332428538022, -0.016557513415246316, 0.02850796014854868, 0.0037380050848799993, -0.03035078682132626, 0.012543782122914434, -0.03842013098371442, 0.01382817565217288, 0.005559889804642124, 0.034092282270513946, 0.010289112485266132, 0.01146880020756838, -0.0015243451905787876, -0.011203544627378248, 0.014107391758271142, 0.0007512657598006777, -0.012899782984152633, -0.025450545370021133, -0.022951560941044894, -0.016389983379058316, 0.01936363500213708, 0.0065441269046014145, 0.004928163900105303, -0.007894834794568699, -0.003179573105514125, -0.034957853503270214, 0.024961917650010476, -0.007866912811429828, -0.008851149445727815, 0.0033052201669938218, -0.033366320022129414, -0.005580831059165624, -0.027488823130802975, -0.006387067728505816, 0.00326508295651599, -0.010707936644413527, 0.003235416140469256, 0.02283987487113463, -0.021569440936461706, 0.024794387613822473, 0.005975223832312486, 0.012083075454720038, -0.02158340146236984, -0.016585434467062576, -0.01094527024146479, -0.018358456647654287, 0.005929851191788453, 0.012857900475105632, 0.020675950514534396, 0.017311396715447104, -0.022337286625215846, 0.003985809309193012, 0.006034557464405954, 0.003375024193518388, 0.009123385288872013, -0.02180677546483558, 0.01659939499297071, 0.03652146220730432, -0.0022668855634792205, 0.01694841559125484, 0.022490854272850497, 0.005165497497156567, 0.030211179699599737, 0.010568328591364395, 0.012557742648822564, -0.012229663770723235, -0.013409351493025485, -0.006558087430509545, -0.00797859888134009, 0.003853181751928598, -0.00032742447844738527, 0.014142294004364078, 0.012124957963767039, 0.01215287994690591, -0.011008093539373986, 0.03398059433795846, -0.02116457823454505, -0.0024937485332687335, -0.026441761335950574, -0.004299927661384211, -0.017241592223261236, 0.0021045911901680725, 0.015007864305797737, -0.011175623575561988, -0.010896407469463723, -0.005828635516309289, -0.00281833727989103, 0.004125417362242144, 0.027237528076520974, -0.018107161593372285, 0.016920494539438582, 0.011489740996430577, 0.0034762401018282037, 0.007182833537753605, -0.020019792758335736, -0.03177479026627906, -0.015315001463712261, -0.014938059813611867, 0.008865109971635945, 0.0056785570688290595, 0.02861964808110416, -0.009004718024685077, -0.005441223006116492, -0.019196104965949076, 0.006837303536607809, -0.013960803442267945, 0.022016187078747973, -0.011112799346330183, 0.018805202789940554, 0.004997967460968564, -0.01934967447622895, 0.008125188128665896, 0.0010104132024523619, 0.007029264493135038, 0.02350999315324142, 0.038196758843893897, -0.017869828927643633, 0.03624224796385127, 0.041603194220705575, 0.009556169973927539, 0.009060561990962817, -0.0004929908500182515, 0.014435470636370473, -0.011664251295572643, 0.027237528076520974, -0.009514287464880538, -0.008174050900666962, 0.03124427910589879, -0.02469666206982034, 0.004575653170344137, 0.010477583310316329, 0.03540459778291126, 0.016529592363430056, -0.005305105550205698, 0.0010837073604539605, 0.003008553170679743, -0.0012529821131345, 0.0036751815541401513, -0.00016643896264778745, 0.014449432093601212, -0.0029247883854163948, -0.017409122259449235, 0.006268400929980184, -0.0013515803064212155, 0.02620442867022192, 0.020661989988626266, -0.027349214146431235, 0.026413840284134314, 0.0027973960253675294, 0.031579339178274796, -0.018693516720030293, -0.015510452551716524, 0.0034902008605669863, -0.008404403303441551, -0.030574158961146784, 0.016236413868778443, 0.014938059813611867, -0.014533196180372602, -0.040765547765056004, -0.03032286576951, 0.013521038494258356, -0.011859702383576906, 0.006579028685033046, -0.01252284040272963, 0.0070048331071345055, 0.022853835397042763, -0.02105289216463479, -0.013562921003305356, 0.01303240984292509, 0.04352978404893194, -0.007252637564278171, 0.004076554590241079, -0.019866223248055866, 0.00020123189474949732, 0.009381659674785471, -0.003320926224301773, -0.031663102333723575, 0.02196034497511545, 0.011350132943381445, -0.026860586426420578, -0.0016831494324129031, 0.0371078154713171, -0.003762436470880532, -0.017241592223261236, -0.00809028588257296, -0.009109424762963883, -0.022281442658938104, 0.022211638166752236, 0.00032393425965885806, -0.013842137109403619, 0.021429833814735184, 0.037387033440060585, -0.011112799346330183, -0.03026702180323226, -0.01590135565904766, -0.04001166446485521, 0.030630002927424523, 0.039174014283915204, 0.013206920142067157, 0.011664251295572643, 0.005514517629779395, -0.025771643053843787, 0.00272933706458148, -0.0022005716684316873, -0.04204994222563706, 0.010798681925461592, -0.009458444429925408, -0.009221110832874144, -0.016222453342870313, -0.008704561129724618, 0.02105289216463479, 0.042636295489649846, 0.012201742718906974, 0.009416561920878407, -0.0002840150950868462, -0.0036507501681396185, 0.01862371222784442, 0.002572278121316533, -0.009891229114980932, -0.001071491667453694, 0.019698693211867863, 0.015580257043902394, 0.009821425554117672, 0.010924328521279985, 0.0014868255787087302, 0.014644883181605473, -0.021778854413019317, 0.0006792803428953034, 0.007818050039428762, 0.02599501705630953, 0.010742837959183854, 0.005793733270216354, 0.05718345033328536, -0.00969577802697667, -0.003912515151191414, 0.022993444381414502, -0.004736202477916769, 0.022993444381414502, 0.02293760041513676, 0.020131478828245997, -0.015301040937804131, 0.0035652403171377535, 0.006488283403984979, -0.019587007141957602, 0.028005371902629892, -0.020689911040442526, 0.006100871359453487, 0.04668492623410683, 0.003943926800146012, -0.03515330459127448, -0.015566295586671655, 0.006334714825027717, 0.010889427206509658, -0.009744640798977735, 5.437078489539432e-05, 0.019196104965949076, 0.007699383240903131, 0.005685537331783125, -0.025743722002027524, 0.014575078689419603, -0.001576698210472212, -0.030211179699599737, -0.029764433557313473, -0.0062509498069337165, 0.005420282217254296, -0.015831551166861788, 0.007161892283230105, -0.028438157519008026, -0.012711311227779826, -0.030881297981706527, -0.0009659130947975871, 0.012062134665857843, 0.002123787146122404, 0.020131478828245997, 0.006324243964935315, 0.01436566707550721, 0.030071570715227997, -0.022030147604656103, -0.024878152631916475, -0.008781345884864554, -0.02184865704255997, -0.008404403303441551, 0.01671108106288097, 0.018819163315848684, -0.010700956381459462, -0.00631726370198125, 0.010407778818130459, 0.02959690352112547, -0.006278871324411282, 0.008837188919819685, 0.010400798555176394, -0.015538374534855395, 0.008613815848676553, 0.023035325959138892, 0.012418134595773433, -0.004017221423808915, -0.012948645756153699, -0.0038008288484505, -0.0277959602887175, -0.015245197902849, -0.0027223568016274146, 0.0028288079071527796, 0.0008524815516951676, 0.022393128728848365, 0.008879071428866686, -0.022183717114935973, 0.006631381588511144, 0.03526498879853952, -0.02270026588676289, 0.021653205954555707, 0.012076095191765973, -0.0038287503659280653, 0.02780992081462563, -0.01687861109906897, 0.0036612207954013682, -0.019293830509951208, -0.02366356266352129, -0.02292363988922863, -0.014840334269609736, 0.02598105466775618, 0.004589614161913572, -0.00021137529308144407, -0.011671231558526708, 0.023160972554957287, -0.027349214146431235, 0.009674837238114475, -0.0023017875767415035, 0.001232913507895584, 0.02362167922315168, -0.028452118044916156, -0.009988954658983064, -0.02197430550102358, -0.008383462514579354, -0.006425459640414479, -0.003629808913616118, -0.019140260999671338, -0.01745100383717363, -0.03811299196315467, -0.030574158961146784, 0.018246770577744025, -0.012809037703104566, -0.04227331436545758, -0.03875519105609042, -0.027572586286251758, 0.0064917735354620126, -0.009500326938972408, 0.002505964226269, -0.012788095982919762, 0.0023698463046969006, -0.03141180914208679, 0.0008153982062597394, -0.00670816634365108, -0.00799256033857083, 0.00421616264329021, -0.0076225989514245, 0.0010601485073226857, 0.02256065876503637, 0.03314294788230889, 0.0060554987189294545, 0.0042301236348596455, -0.004460476968956842, -0.002457101454267934, -0.00809028588257296, -0.012725272685010567, 0.010798681925461592, -0.023049286485047026, -0.0077691872674276975, 0.023147012029049157, 0.013465195459303225, 0.022616502731314107, 0.003971848783284882, -0.0018655124109629672, -0.0018061790117001515, 0.009123385288872013, 0.010603229906134722, -0.007385264888711933, -0.01590135565904766, -0.0005453438699116759, -0.0024885133360531843, -0.013842137109403619, 0.001036589654191411, 0.01626433678323992, -0.018847084367664944, -0.003436102891350372, -0.009053580796686143, 0.026413840284134314, -0.020382773882528002, 0.0318864744735441, -0.019265909458134948, 0.014547157637603343, -0.007859932548475763, 0.027991411376721762, 0.01860975170193629, -0.003230180943253707, -0.01354197928312055, 0.01351405823130429, 0.0010732367331922103, 0.00440812359981744, 0.00800652086447896, -0.016431864956782706, -0.01599908120304979, 0.0035914167688768026, 0.007727304758380697, -0.011985349910717907, 0.002554826998270065, -0.00797859888134009, -0.016431864956782706, -0.008174050900666962, -0.02767031183025389, -0.024082385891346075, -0.020452576512068655, 0.014644883181605473, 0.0016508650177583946, 0.0026019447045326147, 0.03345008690286864, -0.017353278293171497, -0.008725501918586814, 0.014868256252748607, 0.026455723724503923, 0.024180111435348206, -0.012257585753862106, 0.025953133615939917, 0.012557742648822564, 0.028005371902629892, -0.03291957574248837, -0.011559545488616447, -0.0031446710922518424, -0.00638008746555175, 0.01757665229563724, 0.03540459778291126, -0.011084878294513921, -0.00552149789273346, 0.01590135565904766, 0.012411154332819368, -0.009304875850968146, -0.033617613213766204, 0.011496722190707251, 0.008125188128665896, 0.017464966225726977, -0.02197430550102358, -0.00932581663983034, -0.019573046616049472, 0.012466997367774499, -0.017297436189538974, 0.011999310436626038, -0.009109424762963883, -0.0018026887638077926, -0.006554597299032513, 0.0021290225761686054, -0.02610670312621979, 0.020661989988626266, -0.0006147116300016126, 0.004956085417582868, -0.005908909937264953, 0.009500326938972408, -0.022141833674566364, 0.0009816190356902123, 0.00718981380070767, 0.03110467012152705, -0.013534999020166485, -0.00573440010378419, 0.0007678441753548979, 0.016292257835056185, -0.02683266537460432, -0.012124957963767039, -0.012725272685010567, 0.02242104978066463, -0.044925866442068474, 0.013737430371124813, 0.011671231558526708, -0.014246999811320275, 0.013011469054062894, 0.012641507666916565, -0.0005374909576730263, -0.03258451567011237, -0.030909219033522787, -0.008027461653341155, 0.02627423316240779, -0.0010557857265610687, -0.00834856026848642, -0.011999310436626038, 0.006041537727360019, -0.019196104965949076, -0.025352819826019002, -0.009981974396028999, 0.03724742445568884, -0.028982627342651206, -0.00442906485434094, -0.013430293213210289, 0.013507077037027616, 0.012355311297864236, 0.017269513275077496, -0.010156484695171065, -0.0018585320315935758, 0.03649354115548805, -0.030797532963612526, 0.017897749979459893, -0.002841023600153046, 0.006746558255559742, -0.02101100872426518, 0.022714228275316238, 0.00896981670991475, -0.039648683340662946, -0.011643310506710448, 0.00715491202027604, -0.015007864305797737, 0.015636100078857525, 0.00920016911268934, -0.0008193246623790641, 0.003142925793682674, -0.0018375907770700757, -0.007559775187854, 0.002340179721480819, 0.0032074946229916908, -0.015524414008947263, -0.023007404907322632, 0.012083075454720038, -0.04523300546262821, 0.004540751389912507, 0.0037031030716177167, -0.003755456207926467, -8.818210660525195e-05, -0.018135084507833764, 0.009870288326118738, -0.03696820648694536, -0.021387950374365576, -0.025269054807925, 0.008634756637538748, 0.00147635495144698, -0.0026106702660558486, 0.002163924589430888, -0.014449432093601212, -0.023398307083331158, -0.013981745162452751, 0.006093890630838117, -0.020578224970532265, 0.003544299062614253, 0.02607878021175831, 0.014058528986270077, 0.02098308767244892, 0.015538374534855395, -0.013158057370066091, 0.0008808394520226883, 0.0025827487485782833, -0.019949988266149868, -0.013793274337402553, -0.01860975170193629, -0.014700726216560605, 0.038029228807705893, 0.020592185496440395, -0.018121123981925634, -0.025185289789831, -0.016459787871244184, -0.03118843513962105, -0.019573046616049472, -0.01145483968166025, 0.005294634690113296, -0.005654125682828527, 0.006729107132513275, -0.003678671685617184, 0.031607260230091055, -0.00924205162173634, 0.016501669448968578, -0.014965981796750738, -0.0013733940938139737, 0.005563380401780461, -0.022044108130564233, 0.01685069004725271, 0.017981514997553894, -0.01932175156176747, -0.003961377923192479, 0.021443794340643314, 0.03425981230670195, -0.012187781261676234, 0.02764239077843763, 0.0005488341178040346, -0.012878841263967829, -0.008229893935622092, -0.01049154383622446, -0.008250834724484289, -0.013067312089018025, -0.007469029906805934, -0.00381129947571225, 0.017409122259449235, -0.0014266196465766562, -0.006547617036078448, -0.01690653401353045, -0.0018288652155468417, 0.009835386080025802, -0.014658843707513605, -0.004882791259581271, 0.0006653195259488576, -0.006097380762315151, 0.014561118163511473, -0.005116634725155501, 0.03121635619143731, -0.017157827205167234, -0.009053580796686143, 0.03110467012152705, 0.023035325959138892, -0.002457101454267934, -0.01003781743098413, -0.012732252947964632, -0.00042275058616288814, -0.006362636342505283, -0.013807234863310683, -0.012906763247106698, 0.004488398486434408, -0.00925601307896708, -0.002476297643052918, -0.02350999315324142, 0.010365896309083458, -0.012515860139775565, -0.0012617076746577337, -0.013981745162452751, 0.016557513415246316, -0.010002916116213803, -0.005116634725155501, -0.01518935393657126, -0.008404403303441551, -0.006184635911886184, 0.015217275919710132, -0.009730680273069605, 0.011950447664624973, -0.01848410324347268, -0.00029164990321201267, 0.001389972451160531, -0.017423082785357365, -0.023105130451324764, -0.002141238269168872, -0.029038471308928945, -0.0006059861266860418, -0.0024536113227909017, 0.21957551752346693, -0.0038636523791903484, 0.0008337217457601389, 0.016334139412780575, -0.004917693040012901, 0.022169756589027843, 0.026567409794414184, 0.028312509060544416, -0.02360771869724355, 0.01687861109906897, 9.396275327941334e-05, 0.005992674955358953, -0.0013917176333143734, -0.0010959230534542269, -0.01671108106288097, -0.0031917887985143914, -0.01616661123923779, -0.0010793445796923435, -0.018916888859850815, -0.001081962294715444, 0.0073922456173273025, 0.0033785145578260727, -0.019559086090141342, -0.013374450178255158, 0.01700425955753258, -0.004802516372964302, -0.01141295717261325, -0.012850919280828958, 0.003957887791715447, 0.029736512505497213, -0.01576174667467592, -0.007845972022567633, 0.00569251759473719, 0.005120124856632533, 0.001884708483332625, -0.0036821620499248686, 0.03950907435629121, -0.01780002443545776, 0.027377135198247495, 0.0010540406608225525, 0.004516320003911974, -0.005263223041158697, 0.008606835585722486, -0.03291957574248837, -0.006879186045654809, -0.00855797281372142, 0.009632954729067474, -0.019642851108235344, -0.014051548723316012, 0.015677981656581918, -0.01429586258332134, -0.0044953787493884735, 0.03596302999510779, 0.046824535218478576, 0.007116519642706072, -0.014505275128556342, 0.0016561003313892697, 0.017199710645536843, -0.01766041731373124, -0.018414300613932028, 0.005807694261785789, 0.024836269191546866, -0.00586353729674092, 0.01930779103585934, -0.0076644809948101965, 0.004753653600963237, -0.006310283439027184, -0.010149504432217, 0.00844628581248855, -0.02619046814431379, -0.018902928333942685, -0.01711594562744284, 0.013800254600356618, -0.0025740231870550493, -0.03202608345791584, -0.03786169877151789, 0.03839220993189815, 0.010247229976219132, 0.009137345814780144, 0.03657730431093684, -0.0024448857612676678, -0.01826073110365216, -0.005689027463260158, -0.0034605342773509047, -0.00837648225162529, -0.006484793272507947, 0.0036018873961385527, 0.008174050900666962, 0.00676400937860621, 0.009772562782116606, 0.017339317767263367, -0.0032371614390384247, -0.008676639146585749, 0.022979481992861154, 0.004484908354957375, -0.006617421062603013, 0.003214475118776408, 0.009360718885923276, -0.0076924029779490664, 0.0039299662742378816, -0.010610211100411396, -0.006191616174840249, -0.0018916888627020163, 0.04090515302413731, -0.018023396575278284, -0.0075039321528988685, -0.005036359838538533, -0.0016552277985200114, -0.004526790398343071, -0.00961201300888267, -0.001349835240682699, -0.022853835397042763, -0.004352280564862309, -0.005528478155687526, -0.010393818292222329, 0.009283934130783341, 0.004359260827816375, -0.020396734408436132, 0.00655110716755548, 0.0070153039672269085, -0.010198367204218066, 0.004488398486434408, -0.01102903525955879, -0.0020068654133352888, 0.01097319129328105, -0.007517892678806999, -0.023970699821435813, -0.019056495981577336, 0.0005017163533338222, -0.03018325678513826, 0.044311592126239426, -0.0032022594257761416, 0.028005371902629892, -0.0032423966362539734, -0.014882216778656737, 0.002935259012678145, 0.00635216548241288, -0.0017241592921753192, -0.017506847803451367, 0.006334714825027717, -0.016501669448968578, 0.00020941205046986594, 0.003654240299616651, -0.03925778116465443, 0.0075807164423775, -0.03830844677644937, -0.016348101801333923, -0.011475780470522447, -0.034427342342889945, 0.011524643242523513, -0.02599501705630953, 0.0014999138045782548, -0.01313013538692722, -0.01862371222784442, 0.039090251128466424, -0.011015073802328051, -0.0367727553989411, -0.01252284040272963, 0.009479385218787603, 0.011112799346330183, -0.03174686921446279, -0.008578913602583617, 0.018344496121746157, -0.0063207538334582826, 0.0004737947776485937, -0.019866223248055866, -0.18193719461706, 0.012543782122914434, 0.004931654031582336, -0.02612066365212792, 0.024138229857623816, 0.015398766481806263, 0.029931963593501476, 0.009318836376876275, -0.008641737831815422, 0.01518935393657126, 0.0016430121055197452, -0.01852598668384229, -0.0369402854351291, -0.033254635814864375, -0.003155141719513592, -0.023174933080865417, 0.01162934904947971, 0.0073224415908027364, 0.014784491234654605, 0.0004912457842797352, 0.02931768741502721, -0.02172301044674158, 0.020047713810152, 0.012711311227779826, 0.012048173208627104, -0.009898209377934997, -0.024040504313621685, 0.00797859888134009, 0.012809037703104566, 0.015049745883522129, -0.03342216212576194, 0.0015156197454708799, 0.010652093609458397, -0.0014248744644228138, -0.0004279858997937632, 0.006788440764606743, 0.006003145349790052, -0.017143866679259104, -0.023440188661055548, 0.019028574929761077, 0.027223567550612844, 0.02619046814431379, 0.02087140160253866, -0.002643827213579615, 0.005982204560927856, 0.003975338914761915, 0.01168519301575745, -0.0012137173191106001, -0.011978369647763842, 0.01671108106288097, -0.009011698287639142, 0.0020504929881208058, 0.014072490443500816, 0.024277836979350337, -0.0008869472985228215, 0.0032458867677310063, -0.0026106702660558486, 0.028870941272740945, 0.005315575944636795, 0.012034212682718972, -0.0010496778800609355, -0.004851379144965368, -0.023133051503141024, -0.02102497111281853, -0.0016787866516512861, -0.003427377329827138, -0.017967554471645764, 0.005046830698630935, -0.011601427997663448, 0.02588332912375405, -0.003629808913616118, -0.01436566707550721, -0.004034672081194078, -0.02293760041513676, 0.02503172027955113, 0.01145483968166025, -0.007329421853756802, 0.03621432318674457, 0.00931185611392221, -0.0034902008605669863, -0.007811069776474697, 0.017464966225726977, -0.02275610985304063, 0.025269054807925, 0.0013716489116601313, -0.00357745601013802, -0.009702758289930736, 0.004439535714433343, -0.009898209377934997, -0.019140260999671338, 0.03032286576951, -0.007755226275858262, -0.0024448857612676678, -0.03051831685751426, 0.0042022016517207755, 0.015468570042669523, 0.02627423316240779, -0.0016866395638899356, -0.0059682435693584205, 0.0227421493271325, -0.0012206978148953176, -0.00012935557355661184, -0.0005200399510418849, 0.027684274218807238, 0.01053342634527146, -0.0004847016422411414, -0.009067542253916882, 0.021080813216451052, 0.027949527936352154, -0.048555673958700675, -0.021304187218916793, 0.013381430441209223, 0.00885812970868188, 0.04428366734913273, 0.012955626019107764, 0.005039849970015565, -0.026399879758226184, -0.025478466421837393, 0.011761976839574775, 0.006683734491989242, 0.03180271131809532, 0.021373989848457443, 0.00357745601013802, -8.878198750478269e-05, -0.006275381192934249, 0.01352801875721242, -0.06801703823013032, -0.03696820648694536, -0.002991102280463928, -0.0022459443089557205, -0.016389983379058316, 0.023160972554957287, 0.008530050830582551, 0.012536801859960369, -0.019684732685959733, 0.023956739295527683, -0.015789669589137398, 0.008160089443436222, -0.02007563486196826, 0.004285966669814776, 0.024906073683732734, -0.014854294795517867, -0.014993902848566998, 0.009912170835165737, 0.0070816173966131366, 0.030462472891236523, -0.002361120976004319, -0.01947532107204734, 0.012857900475105632, -0.030713767945518524, -0.010868485486324854, 0.0026926899855806807, -0.022448972695126107, 0.027167723584335102, 0.0032022594257761416, 0.006586008947987111, 0.005880988419787387, -0.014882216778656737, 0.004125417362242144, 0.0038147896071892826, 0.016403943904966446, -0.03230529770136888, -0.0219463825865621, 0.013702529056354487, 0.030043649663411737, -0.038838954211539205, 0.02765635130434576, 0.005196909146111164, 0.006969931326702875, -0.007022284230180973, 0.0006391430160021455, 0.0036577304310936834, -0.006289342184503685, 0.026357996317856573, 0.005531968287164559, -0.013604803512352355, -0.028843020220924682, -0.019419477105769602, -0.024249915927534078, -0.013276724634253027, 0.04947708729508947, -0.016389983379058316, 0.0018026887638077926, 0.03981621337685095, -0.021681128869017186, -0.004603575153483007, 0.011503702453661316, 0.004760633863917302, -0.018065280015647896, 0.01188064410376171, 0.009542209448019407, 0.00646734214946148, -0.02436160199744434, -0.013053351563109895, 0.020466538900622003, 0.012829978491966763, 0.009039620270778013, 0.04587520083027352, -0.02859172516664268, 0.03428773335851821, -0.028870941272740945, -0.012795076245873827, -0.01671108106288097, -0.03261243672192863, -0.011036015522512856, -0.01671108106288097, -0.02175093149855784, -0.02197430550102358, 0.01687861109906897, 0.010310053274128327, 0.007943697566569765, -0.0015086393661014885, 0.0029841217846792102, 0.01051946581936333, 0.014407549584554211, -0.041044762008509046, 0.009807464096886933, -6.44596462850335e-05, -0.0029841217846792102, -0.002385552362004852, 0.003537318566829536, -0.014965981796750738, -0.02443140648963021, 0.011608408260617513, -0.003825260234451033, 0.020117518302337867, -0.027851802392350022, -0.0060554987189294545, -0.0628794603878061, 0.03892272109227842, -0.015426687533622524, -0.0006928048934071201, 0.010044798625260804, -0.020773676058536528, 0.0017110709498904684, -0.04637779093883753, 0.01840033822537868, 0.002471062213006717, -0.022979481992861154, 0.019182144440040946, -0.018679554331476944, -0.00445000610886444, -0.014938059813611867, -0.023831090837064074, 0.019656811634143474, 0.02205807051911758, 0.03130012120953131, 0.04068178088431679, 0.021653205954555707, -0.020620106548256655, -0.020103557776429738, 0.004097495844764579, -0.005825145384832257, 0.014965981796750738, -0.020661989988626266, 0.022630463257222237, 0.0058391059107403874, 0.005004948189583934, 0.0004615790555444958, -0.04302719766565837, 0.007545814196284565, 0.02610670312621979, -0.007545814196284565, -0.03484616557071473, 0.036102638979479525, 0.028354392500914025, 0.014477353145417472, 0.01687861109906897, -0.025659956983933526, -0.02099704819835705, 0.0017677867505455098, 0.0008114716919327516, -0.00759467696828563, -0.02087140160253866, 0.005591301919258026, 0.01851202615793416, 0.028982627342651206, 0.006767499510083243, 0.02187657995702145, 0.03654938325912058, -0.014547157637603343, -0.004118437099288079, -0.017032180609348843, -0.011147701592423117, 0.009625974466113409, 0.00926997360487521, 0.019405516579861472, -0.009304875850968146, 0.03400851911506516, -0.02092724370617118, 0.02931768741502721, -0.019084418896038815, 0.02377524873343155, 0.0007848589155514102, -0.0011133740600853682, -0.002123787146122404, 0.010058759151168934, -0.01837241717356242, -0.029876119627223734, -0.00563667455978206, -0.008460247269719291, 0.008048403373525961, 0.00028292439989644196, 0.022407089254756495, 0.014784491234654605, 0.003912515151191414, -0.030630002927424523, -0.004020711555285948, 0.008837188919819685, -0.0280472553429995, -0.006188126043363216, -0.007922755846384959, 0.0019283359417028155, 0.01669712053697284, 0.0009528248689280625, -0.005004948189583934, -0.00019446963404550472, 0.002027806667858789, -0.036828601227864056, 0.006907107563132375, -0.004617535679391138, 0.02264442378313037, -0.013800254600356618, -0.004062594064332948, 0.013548959546074617, -0.024208034349809688, 0.017129906153350975, -0.0029439845742013785, 0.01866559380556881, 0.0016508650177583946, -0.006285851587365348, -0.006366126473982316, -0.009744640798977735, 0.02105289216463479, -0.00841836476067229, -0.018023396575278284, 0.0005658487997928839, -0.007434128126374303, 0.009577111694112343, -0.026860586426420578, 0.023398307083331158, 0.03280788780993289, -0.003909025019714381, -0.001041824967822286, 0.009151306340688274, 0.005891459279879789, -0.018902928333942685, 0.03107674906971079, 0.012948645756153699, 0.006142753402839183, 0.004317378318769374, -0.015719865096951526, 0.02099704819835705, 0.0019091398693331578, -0.00650922465850848, -0.0002709268401134901, 0.010610211100411396, 0.0037031030716177167, 0.0013576881529213487, -0.01627829730914805, -0.02965274748740321, -0.029931963593501476, -0.0029387491441551774, 0.00802048139038709, -0.003821769870143348, 0.02429179750525847, -0.03375722219813794, 0.09191792797144462, 0.00717585327479954, -0.01270433096482576, 0.008097266145527027, 0.0031272199692053745, 0.013479155985211355, -0.007531853670376434, -0.003961377923192479, -0.02614858470394418, -0.01770229889145563, 0.0017451004302834932, -0.027293370180153494, -0.027586548674805107, -0.034874086622531, -0.024221994875717818, 0.005238791655158164, -0.018735398297754682, 0.011587466540432708, -0.0023366895900037866, -0.002804376521152247, 0.0065441269046014145, 0.012892801789875959, 0.009262993341921145, -0.0075388339333305, -0.016417904430874576, -0.00883020865686562, 0.006247459675456684, -0.02042465546025239, -0.0012259330121108666, -0.02934560846684347, 0.00610436149093052, 0.009353738622969211, -0.014896177304564866, -0.022965521466953024, -0.0013053351330279243, -0.00837648225162529, 0.007462049643851869, 0.005392360234115426, 0.015315001463712261, 0.00918620858678121, -0.0009580601243512746, 0.020117518302337867, 0.002092375497167806, -0.028214783516542285, 0.029178080293300684, 0.0029439845742013785, -0.013507077037027616, 0.018344496121746157, -0.013618764038260487], [-0.020791611659579524, -0.003978513829938576, -0.022541468137607167, -0.016327407962356235, 0.0020254252944800224, 0.012283446832458921, -0.011863205196455565, 0.021191184452733384, -0.015376698933281543, -0.013241045786257653, 0.03827640590363404, 0.006758306952109035, 0.004302306764354179, -0.01489445449402016, -0.005804152495011015, -0.0010445751730442032, 0.024001979442194166, -0.015969169129610907, 0.014370875163027628, 0.009383093066134425, -0.005029117454285658, 0.0030295265835529298, -0.004722547934696226, -0.017319452814484694, 0.0023939976173274827, -0.018159936086491406, 0.011126060550760644, -0.021535645298675868, -0.012820804150254297, -0.04668123117312023, 0.01401952532368372, 0.01787058905040553, -0.007474784151938383, 0.0003375708921146143, -0.0014734280507993367, -0.0038613976824852484, 0.01125695608200074, -0.008163703981178118, 0.03998492842125315, 0.0003864411733513698, 0.02558649635329722, -0.013234156792856232, -0.005780040552444731, -0.01986845860411052, -0.02305126855047424, 0.005332242011513071, -0.009534655577578785, 0.0014363985471134242, 0.0014243424594149552, 0.04235481293186108, 0.006007383853949963, 0.017181669221165794, -0.0004938696738339476, -0.005511361427885735, -0.00376150425136613, 0.022665473744123223, -0.034446010088439116, 0.007736573817434649, -0.0003969902646394462, -0.024539337691312158, 0.011918319006312173, -0.007626346197721435, -0.018118600263437642, 0.01511490880212397, -0.006462071388283044, 0.024566893664917842, 0.008459940010665417, 0.02365751859625168, -0.012841472061781179, -0.008763065033554139, 0.03375708839655414, 0.008308377499221057, -0.018449283122577285, -0.008783732013758403, 0.015679823956170267, 0.0022579358066976292, -0.017663913660427178, -0.008542610725450329, -0.018531952906039578, -0.006276062978508959, 0.010016899085517552, -0.026702546811941733, 0.012035435619426807, 0.01503223808733906, 0.02088805942984466, 0.0015500704306966946, -0.018104822276634798, 0.013399497291103435, -0.00281079429096882, -0.035603394507492156, 0.013695733320590734, 0.0006419875139546066, 0.025255813494157578, 0.009748220892281174, -0.04177611885968932, 0.012559014950419339, -0.015170022611980577, 0.011580748085093726, -0.0038751761349494003, -0.027556808070751292, -0.011863205196455565, -0.018063486453581034, -0.0044159784151067945, -0.011918319006312173, -0.01904175331890665, 0.013771514110651606, 0.004054295085660756, -0.0031690328908834937, 0.025476268733584006, 0.014715335077647496, 0.008666616331966385, 0.025903399362988785, -0.009169527751432035, -0.03003692020107243, -0.04031560755510232, -0.004760438329726662, 0.004877554942841297, 0.005473471032855299, -0.03758748421174907, -0.01124317716387528, 0.013130819097867057, 0.010395805829789762, 0.012882806953512325, -0.0063036198834372625, -0.0010058234210079354, 0.002271714259161781, -0.01693365800813368, -0.006992539712676998, -0.004839664082149553, -0.02394686563233756, 0.027308796857719177, 0.0026816217065710425, 0.016423857595266607, -0.0002269130886636248, -0.034997144461714716, 0.029816464961646003, -0.008728619135224413, 0.0022148784337854732, -0.017126555411309186, -0.01927598654513592, 0.008060366286188943, 0.025972291159648237, 0.007281886283101567, -0.003432544804730115, -0.02389175182248095, 0.0002654495596560982, 0.022307234911377895, 0.0045020936265924155, 0.011504967295032855, 0.008149925994375275, -0.0044263123708702355, -0.007481673145339805, -0.03036760119756684, 0.015666044106722187, 0.012152552232541443, 0.005766262099980579, -0.004732881424798358, 0.03202100990532934, -0.0255589385170463, -0.012972366661698657, 0.004612320780644321, -0.009796444777413742, -0.019096867128763257, -0.006923647916017548, 0.00715788067658551, 0.03667811100572814, 0.03485936086839581, -0.0032482586433063847, -0.0036926122218760254, -0.014357096244902166, 0.0014097028827756257, 0.02504913810417923, -0.04469714146886332, -0.008804399925285285, -0.005332242011513071, 0.008335934404149361, 0.023271723789900667, 0.011064057747502616, -0.01854573089284242, 0.0006897813608685581, -0.0027642921885252985, 0.015776271726435403, 0.02992669258135922, 0.028714192489804332, 0.024952688471268858, 0.0030036919269749813, 0.018325277516061226, -5.129226210104319e-05, -0.0032775377965850437, -0.030202261630642255, 0.0173745666243413, 0.023698854419305443, 0.002526614698425971, -0.004364309567612207, -0.64857700471246, -0.03882754027690964, 0.0007853689964887976, -0.005793818539247574, 0.02591717734979163, 0.03067072622045556, 0.007137213230719937, 0.00928664436454667, -0.004839664082149553, 0.03640254381909034, -0.006947759858583832, 0.01132584787866019, -0.020832945619988056, -0.0007530758503893532, 0.02145297365256834, -0.026606097179031365, 0.014033304241809182, -0.03254458830499926, 0.005201347411595592, 0.02212811549500523, -0.020350703043371905, 0.005290907119781924, -0.010643817042821876, -0.00277290366310773, 0.02047470864988796, 0.005194457952532862, -0.0029916359556918393, -0.0021787100542747383, -0.006951204820945851, 0.0015784883433848486, -0.022610359934266615, 0.005421801719699403, 0.01686476621147423, -0.014274426461439874, 0.049684925428401756, -0.00927286544642121, -0.006010828816311983, 0.03381220406905599, -0.0013924799336107632, 0.04781105961856759, -0.003425655578498039, -0.014632664362862584, 0.011181174360617252, -0.008790621938482443, 0.00503945094438779, -0.0017248838769474888, 0.013978190431952574, -0.018394169312720678, -0.009954896282259524, -0.018394169312720678, 0.028548852922879748, 9.219689369685576e-05, 0.004608875818282301, -0.0005860127545458127, -0.00547002607049328, -0.01898663950905004, 0.028066608483618364, -0.013716401232117616, 0.008838845823615011, 0.007378334984689321, -0.007474784151938383, 0.011270734068803584, -0.030560498600742347, -0.012014767707899925, -0.02028180938406722, -0.018325277516061226, -0.01627229415249963, 0.0035100483088026505, -0.03119430648277071, -0.013158375071472743, 0.013619951599207246, 0.009107524948174007, -0.006685970193087566, 0.005731815735989546, 0.01000312109871471, 0.049133787329835685, 0.02302371257686855, -0.0086183915155112, -0.015969169129610907, -0.003616830966153845, 0.028383511493309928, 0.007281886283101567, 0.012400563445573557, -0.0272950170082711, 0.03146987553205374, -0.004650211175674757, -0.023561070825986543, 0.013681954402465274, -0.012869028966709483, -0.006875423565223671, 0.023189054006438375, 0.02943067015529499, 0.0022923819378580087, -0.03695367819236594, 0.02134274789550036, -0.006520629694840362, -0.03144231583315759, 0.011188063354018674, -0.0008025920038613237, -0.017112777424506342, -0.0011427463558129664, -0.015473147634869297, 0.006768640907872476, -0.007150991683184089, 0.017126555411309186, 0.005824819940876588, -0.01847683909618297, 0.0131445970846699, 0.003547938936663741, -0.021714764715048532, -0.008942183518604185, 0.008425494112335693, -0.01132584787866019, 0.0044469798167358085, 0.024194876845369674, -0.03290282713774459, -0.00817748289930358, 0.01030624612160343, 0.02022669743685585, -0.009968675200384984, 0.020681384039866312, -0.0007939805292788924, 0.008845734817016433, -0.005352909923039953, 0.009948007288858102, 0.021866326295170276, 0.0007530758503893532, -0.019110645115566097, -0.031607659125372646, -0.0036478323677828594, 0.03786305139838687, -0.01175297850806497, 0.007488562604402535, -0.009775777797209477, 0.007984584564805454, -0.02305126855047424, 0.019110645115566097, 0.003892399084114263, 0.016823430388420466, 0.020722719862920076, -0.022169451318058996, 0.007481673145339805, 0.009176416744833457, 0.011938986917839055, -0.026840330405260633, -0.013316827507641142, -0.007371445991287899, 0.011553191180165423, -0.0012658908381538458, 0.004867220987077856, -0.007674571014176621, 0.007164769669986932, -0.012559014950419339, 0.02080538964638237, -0.01043714072152091, -0.011594527003219187, -0.020929395252898424, -0.02863152270634204, -0.017278118854076163, -0.008480606990869683, 0.007943249673074308, 0.006493072789912059, -0.007109656325791633, 0.01431576135317102, -0.018807520092677377, -0.017223005044219558, -0.010196018501890216, 0.013309937582917103, -0.034501122035650485, -0.03204856587893503, 0.005656034480267365, -0.03830396187723972, 0.002783237618871171, 0.009155748833306575, -0.00576281713761856, 0.016919880021330835, -0.03185567033840476, -0.017388344611144142, -0.008776843020356983, -0.015459368716743837, 0.006754862455408325, -0.008143037000973853, -0.010382026911664302, -0.005831709399939319, 0.025751835920221806, -0.01831149766661315, 0.015624710146313659, 0.041969018125510064, -0.01087116034432711, 0.025972291159648237, 0.0014174532331828792, 0.037615040185354755, -0.014274426461439874, 0.03031248738771023, -0.0018738628994509892, -0.005053229396851942, 0.023698854419305443, -0.0060590531671058595, -0.002495613296796957, 0.02572427994661612, 0.03372953242294846, 0.006944315361883121, 0.02229345692457505, -0.011642750888351755, -0.001191831947197348, -0.021948997941277804, -0.005098009250945108, -0.028011494673761756, 0.021811212485313668, 0.010058234908571316, 0.004112853392218074, -0.0037201688939736744, 0.004939557746099326, -0.006527518688241784, 0.016809652401617622, 0.02154942328547871, -0.01037513791826288, 0.0063380657817669874, -0.012062992524355111, 0.012924142776566089, -0.005163456550903848, -0.0015052905766035287, -0.004739770883861089, -0.0128483610551826, 0.007826133059959672, 0.01963422537788125, 0.019110645115566097, 0.04238236890546677, 0.011945875911240475, -0.00824637469596303, -0.0062622845260448074, 0.006000494860548542, 0.0018928082133815342, 0.0022010999813213213, 0.02080538964638237, -0.006437958980055451, 0.013371940386175132, 0.0011496355820450424, 0.021260076249392832, -0.01985467875466244, 0.0062622845260448074, 0.008921516538399921, 0.038248849930028354, -0.03758748421174907, 0.014522437674471988, 0.01504601700546452, 0.02622030237268035, -0.0063483992718691195, -0.04039827920120985, 0.011863205196455565, -0.020488486636690804, -0.0062691735194462285, -0.002760847691824588, 0.00803280938126064, 0.017774141280140394, -0.03031248738771023, -0.015307806205299477, 0.001978923192036501, 0.010912495236058256, 0.029540897775008203, 0.006772085404573187, 0.00613138946046602, 0.011945875911240475, 0.017181669221165794, 0.0034824916367050015, -0.014109085031870052, -0.00021238118165002438, 0.01067137394775018, 0.004512427116694548, 0.00022454492442230668, -0.01663053298524496, 0.0016499638618158133, -0.0004641599875715316, -0.023395729396416723, 0.039957372447647466, 0.01366128742226101, 0.010816046534470502, 0.006617078396428116, 0.0021528756305274448, 0.019427549987902897, -0.006444848439118182, -0.048527537284058245, 0.018821299942125457, 0.01949644178456235, 0.00708209942086333, -0.013613062605805824, -0.0348869168420015, 0.009948007288858102, -0.025145585874444366, -0.0028727970942268484, 0.00788124686981628, 0.002357829237816748, -0.006579187535736371, -0.011849427209652721, -0.005022227995222928, 0.009996232105313288, 0.01854573089284242, -0.011628972901548911, 0.018449283122577285, -0.030477828817280055, -0.0015629876425703416, -0.003840730003789021, -0.0008400520696348249, -0.01977200897120015, 0.005566475237742342, 0.006710082601315158, 0.005931602598227783, -0.0032396471687239537, -0.008783732013758403, -0.02586206353993502, -0.013613062605805824, -0.001829083045357823, -0.002559338581235995, -0.008880180715346157, 0.010774711642739356, -0.013792182022178488, 0.004223080546269979, -0.01606561876252128, 0.013557948795949218, 0.010574925246162426, -0.009052411138317399, -0.006307064380137973, -0.021508087462424948, 0.0011995822976046016, 0.056822134933831224, 0.007715905905907767, -0.005542362829514749, -0.009603547374238235, -0.011835648291527261, 0.014646443280988046, -0.020116469817142633, -0.022389906557485423, -0.019827122781056757, -0.004488315174128264, -0.018793742105874534, -0.006024606803114826, -0.00963799327256796, 0.00032142431906489213, 0.01864218052575279, 0.002399164595209203, 0.008783732013758403, -0.02879686413591186, 0.006100388058837006, 0.005759372640917849, -0.006176169314559186, 0.005673257895093536, -0.023175274156990295, 0.005166901513265867, 0.02307882638672516, 0.01037513791826288, 0.015307806205299477, 0.02087428144304182, -0.022403684544288267, -0.014605107457934282, 0.023671296583054523, -0.007709016912506346, 0.019675561200935013, 0.015982948979058987, -0.003668500046479087, 0.01730567482768185, -0.0005459692580391147, 0.027873711080442856, 0.01344772210755862, -0.02028180938406722, 0.016671868808298723, 0.02879686413591186, -0.010685151934553024, -0.026468313585712465, -0.004770772285490103, 0.0018049708699608847, -0.001532847365116505, 0.017953260696513058, -0.01703010764104405, -0.036843450572652724, 0.01906931115515757, -0.0002518864464434045, -0.023988201455391323, 0.0016628810736894603, -0.004646766678974046, 0.03640254381909034, -0.030284931414104547, -0.021122292656073932, 0.005280573164018483, -0.002722957063963498, 0.005642256493464522, -0.016961213981739366, -0.010065123901972738, -0.008239485702561607, -0.026068738929913373, -0.033123282377171014, 0.0021287634551305063, 0.008604613528708357, -0.017291896840879006, 0.020323145207120984, -0.0031690328908834937, -0.00503945094438779, -0.04786617529106943, -0.015211357503711723, 0.012235222016003737, 0.004939557746099326, 0.003954401887372292, -0.02255524612441001, 0.01533536311022778, 0.020543600446547412, -0.001628435058944408, -0.033343737616597445, -0.007026986076668032, -0.0009929062091342884, -0.0002846101546304377, -0.015390476920084387, -0.00496366968866561, -0.004956780695264189, 0.01211121640948768, 0.029348000371832696, 0.032434360685286046, 0.006121055970363888, 0.011015833862370048, 0.02549004672038685, 0.003630609418617997, 0.002266547514110715, 0.02849373911302314, 0.009052411138317399, 0.00020807542980689285, -0.007288775742164298, -0.011394739675319641, -0.028714192489804332, -0.02234857073443166, -0.010685151934553024, -0.0010144350120056937, 0.010120237711829344, 0.018256385719401778, 0.03494203251450334, -0.018159936086491406, 0.012207666042398051, 0.03262725995110679, -0.005359798916441374, 0.02117740646593054, -0.021163628479127696, -0.007860578958289397, -0.008074144272991786, 0.010630038124696416, 0.007853689964887976, -0.01125695608200074, -0.019193316761673625, 0.0018256384322417852, -0.04194146215190438, 0.016644310972047802, 0.015018460100536216, 0.023933087645534715, 0.004801773687119117, 0.01511490880212397, -0.02345084320627333, -0.01730567482768185, -0.0012435009111072628, -0.009369314148008965, 0.000726810806346807, 0.0009842947345518572, -0.031001409079595203, -0.0005110926812064737, -0.02075027583652576, -0.009376204072733003, 0.0005778317838433067, -0.007633235656784165, -0.031910782285616134, -0.052137477859826746, -0.017264339004628086, 0.014136641936798356, -0.004105964398816652, -0.02995425041761014, -0.0334264055374145, -0.003394654176869025, 0.019317322368189685, 0.002443944449302369, 0.0140126363302823, -0.019165758925422705, 0.022334792747628816, -0.028686636516198648, -0.015555817418331591, -0.011732310596538087, -0.031662771072584014, -0.02024047542365869, 0.004236858998734131, 0.03637498412019419, 0.010685151934553024, 0.03237924873807467, 0.007316332181431292, 0.033068170429959645, -0.002722957063963498, 0.01138785068191822, -0.022197009154309916, 0.022734365540782675, -0.0014140086200668412, -0.011098504577154958, -0.0005898879297494394, 0.01080915754106908, -0.0043298632036211735, 0.027308796857719177, 0.001472566926624159, -0.0027298462901955735, 0.006152057371992902, -0.008949073443328225, -0.0033498743227758586, -0.006241617080179234, -0.03576873407441674, 0.0007199215801147311, -0.005948825547392646, -0.013819738927106792, 0.010981387964040324, -0.006141723416229461, 0.001810137731427278, 0.03868975668359074, 0.035961633340237484, 0.030725840030312167, -0.002549004625472554, 0.02037825901697759, -0.005149678564101004, -0.016699424781904407, 0.024773569054896194, 0.01687854419827707, -0.00928664436454667, -0.0005748177910225212, -0.014701557090844652, 0.01904175331890665, 0.020392037003780433, 0.027639477854213584, 0.017223005044219558, 0.008811288918686707, 0.012386784527448097, -0.020350703043371905, 0.019027975332103805, 0.013110151186340175, -0.004216191552868558, -0.005955715006455376, -0.02424999065522628, -0.02314771818338461, -0.028851977945768468, -0.0026092851803802275, -0.02644075574946154, -0.018352833489666914, 0.006024606803114826, -0.017843033076799842, 0.025669166136759514, -0.011656529806477215, -0.02565538814995667, 0.021163628479127696, 0.016382521772212843, 0.04161077929276474, 0.004846553541212283, 0.02185254830836743, 0.007302553728967141, 0.013833516913909634, -0.023437065219470487, 0.006785863857037339, 0.0004307904071492833, 0.006737639506243462, 0.01518380059878342, 0.020708940013471996, -0.017925702860262134, -0.01948266193511427, 0.015514482526600445, -0.0027436247426597254, -0.019592889554827485, -0.03902043954273038, 0.014370875163027628, 0.013867963743561978, 0.0010540478882171394, -0.024635785461577294, -0.0061038330211990255, -0.03364686077684093, 0.027446580451038077, 0.01307570528801045, -0.010299357128202008, -0.00935553616120612, -0.006617078396428116, -0.011098504577154958, 0.0003500575710045042, -0.0038200623250927933, 0.009486430761123599, 0.02389175182248095, 0.0030811954310475172, 0.0004473675422865944, -0.0001893454114720581, -0.012600349842150487, -0.0014794560364409077, -0.009624215285765117, 0.023933087645534715, -0.02087428144304182, 0.01205610353095369, 0.00795013866647573, -0.00408874144965179, -0.012062992524355111, -0.017856811063602686, -0.0040921859463525, 0.030450272843674367, -0.027267461034665413, -0.005225459354161876, -0.00562847804100037, -0.013061926369884989, 0.005532028873751308, -0.001708522051957804, -0.010678262941151602, 0.007171659129049662, 0.0022131561854351178, 0.0012572793635714145, 0.011284512986929044, 0.012993034573225539, -0.009348647167804699, 0.005948825547392646, -0.014150420854923816, -0.038855099975805794, -0.008122369089446971, -0.006482738834148618, 0.016754538591761015, -0.025242035507354738, -0.019027975332103805, 0.0014880676274386662, -0.000951571026364824, -0.00525990571815291, 0.044752253416074694, -0.015914055319754303, 0.016478971405123215, 0.04012271201457205, -0.023395729396416723, -0.009052411138317399, -0.004181745654538833, 0.016534085214979823, -0.031607659125372646, 0.019992464210626577, -0.0029692460286452563, -0.0256967221103652, 0.00034166134836203556, -0.024938910484466014, -0.004467647262601382, 0.005528584377050597, 0.004557206970787714, 0.025986069146451077, 0.006985650719275576, 0.007612568210918592, 0.01446732386461538, 0.00839793720740739, 0.00562158858193764, 0.0020030353674334394, -0.0012452232758729453, 0.021191184452733384, 0.0028159612688505404, 0.009686218089023145, 0.008087923191117247, -0.004298861801992159, 0.03022981760424794, -0.01446732386461538, 0.021714764715048532, -0.007268107830637416, -0.025338485140265106, -0.023395729396416723, 0.02835595551970424, -0.024277546628831966, 0.007302553728967141, -0.025255813494157578, -0.017911924873459294, -0.015500704539797601, -0.03998492842125315, 0.0027195123344321325, 0.015473147634869297, -0.03695367819236594, 0.0012409174221664025, 0.028411067466915612, -0.016451413568872295, -0.008163703981178118, -0.005339131470575801, -0.013172153989598203, 0.0004990365353003408, -8.90214037134347e-05, 0.0016620199495142826, -0.0019083089141960412, -0.008349712390952203, 0.02929288656197609, 0.029458226128900675, -0.042465040551574296, -0.0316903270461897, -0.0015845164454417469, -0.025972291159648237, 0.007102766866728903, -0.010795379554266238, 0.02692300018872293, 0.011532524199961158, -1.9483523815989075e-05, 0.008156814987776697, 0.034721577275076916, 0.00751611904366953, -0.0006734194776712097, -0.015362920015156083, -0.002542115399240478, -0.0013106706922470118, -0.0026971224073855495, 0.0030743062048154413, -0.00482244113298469, -0.013165264996196782, -0.020984509062755032, -0.007936360679672886, 0.012841472061781179, -0.025476268733584006, 0.012366117547243833, 0.0035617173891278925, -0.010554257334635544, -0.004929223790335885, 0.0016878544896769035, 0.007729684358371919, 0.01124317716387528, 0.012827694074978335, -0.023395729396416723, -0.006544741637406646, -0.0044297568675709465, -0.015486925621672141, 0.008797510931883863, -0.021025844885808796, 0.01672698261815533, -0.0031173638105582518, 0.003332651373610996, -0.025297149317211342, 0.01431576135317102, -0.00801903046313518, -0.006300174921075243, 0.031111634836663182, -0.011236288170473858, 4.12813879743687e-05, 0.022844593160495887, 0.010719597832882748, 0.0039061775365784148, -0.015817607549489167, 0.0012891418893756065, 0.00504289590674981, 0.003795950149695855, 0.021122292656073932, -0.026206524385877505, -0.004657100634737487, 0.00022454492442230668, 0.005786929545846153, -0.03439089441593727, -0.002066760651872478, -0.015666044106722187, 0.017801697253746078, -0.010705819846079906, 0.012090549429283415, -0.005817930947475167, -0.006310508876838684, 0.0019289764764769417, -0.025007802281125466, 0.015059794992267363, -0.005280573164018483, -0.012510790133964155, -0.0023027156607907952, -0.012882806953512325, -0.012083660435881993, 0.004953336198563478, -0.020929395252898424, -0.017553686040713966, 0.01901419734530096, 0.015238914408640027, -0.02375396822916205, 0.02431888245188573, 0.22486355445337702, -0.02272058755397983, -0.013991969350078034, 0.018490617082985814, -0.013923076622095966, 0.003978513829938576, 0.022789479350639283, 0.005070452346016805, -0.020460928800439884, 0.018490617082985814, -0.002903798495855863, 0.020819167633185212, -0.005211681367359033, -0.008735508128625835, 0.006785863857037339, -0.015803829562686323, -0.0255589385170463, -0.007660792561712469, -0.02342328537002241, -0.001673214913037574, 0.014150420854923816, -0.013640619510734128, -0.017705249483480942, -0.012972366661698657, 0.002469778873049663, 0.013027480471555265, -0.01904175331890665, -0.02103962287261164, -0.003537605213730954, 0.015280249300371173, -0.02212811549500523, 0.0008633031208565856, 0.01937243617804629, 0.00987222649879723, 0.009693107082424567, -0.0062243936653530625, 0.008749286115428679, -0.0018790297609173824, 0.032820159216927526, -0.0005636228274992297, 0.00943820687599103, 0.021535645298675868, 0.0044745367216641125, -0.03031248738771023, -0.023437065219470487, 0.01827016370620462, 0.006551631096469376, -0.025407376936924558, -0.006930536909418969, 0.021080956833020168, -0.023340615586560115, -0.008797510931883863, 0.01438465314983047, 0.03510737208142793, -0.0043711985610136285, -0.003227590964610157, -0.0043505311151480555, 0.015101130815321127, -0.0024715011214000186, 0.006468960381684466, -0.006989095215976287, 0.03882754027690964, 0.007529897496133682, 0.02943067015529499, -0.025738057933418965, 0.013557948795949218, -0.015982948979058987, 0.00295718982453146, 0.015142465707052273, -0.00022325319450379244, -0.0043470861527860356, -0.01132584787866019, 0.00115049670622022, -0.026909222201920085, -0.01960666754163033, -0.025682944123562357, 0.03948890599518892, 0.023767746215964895, 0.008025920387859218, 0.01175986750146639, 0.016919880021330835, -0.02364374060944884, 0.009217751636564603, -0.005084230798480956, -0.028659078679947728, -0.034831804894790125, -0.004068073538124908, 0.006730750047180732, -0.012159441225942865, -0.011808092317921575, -0.004367754064312918, -0.02394686563233756, -0.00240949831814199, -0.0023474955148839616, -0.003294760745749906, 0.007309443188029871, 0.016410079608463763, 0.02365751859625168, -0.008859513735141893, 0.025751835920221806, -0.007295664735565719, -0.007337000092958174, 0.0005425246449230768, 0.0045813193790153065, -0.002466334143518298, 0.020819167633185212, -0.01904175331890665, 0.02630297215614264, 0.02622030237268035, 0.001408841758600448, -0.016906102034527994, -0.03326106597048992, -0.005225459354161876, 0.0018790297609173824, -0.006513740235777632, 0.0031983120441621527, -0.005318464024710228, -0.010189129508488794, 0.029540897775008203, -0.005280573164018483, -0.01007201289537416, -0.007660792561712469, -0.0140126363302823, 0.0045365395249221405, -0.012545236963616497, -0.013888630723766242, -0.02973379517818371, -0.005642256493464522, -0.002934799897484877, -0.015156243693855116, 0.03039515903381776, -0.017650135673624334, -0.0017636356289837565, 0.001647380372874953, 0.009293533357948093, -0.010623149131294994, 0.016823430388420466, 0.003373986498172797, -0.0019978686223823734, 0.00339809890640039, -0.014191755746654964, 0.020116469817142633, 0.003186255840048356, -0.013778404035375646, -0.0011151895672999901, -0.008611502522109779, 0.02021291758740777, -0.00248527957386417, -0.014040193235210602, 0.01585894337254293, -0.018077266303029114, 0.004064629041424197, -0.015555817418331591, 0.0010282133480545184, 0.04353975704981028, 0.008377269295880507, -0.01985467875466244, 0.0006316536746064928, -0.009817112688940624, 0.017415902447395062, -0.038166178283920826, 0.013440833114157199, 0.007970806578002611, -0.003547938936663741, -0.03700879386486778, -0.030643170246849875, -0.17878856587545328, 0.018325277516061226, 0.011070947672226656, -0.04731503719250336, 0.036457655766301715, 0.010561146328036966, 0.03003692020107243, 0.013406387215827474, -0.011394739675319641, 0.011422296580247944, 0.024291326478280043, -0.003702945944808812, -0.002616174406612303, -0.016685646795101566, 0.012255889927530619, -0.0017998040084944913, 0.0004925779293635175, 0.0172367830310224, 0.020695162026669156, 0.023533512989735623, 0.028741750326055256, -0.023547290976538467, 0.012428120350501861, 0.012993034573225539, 0.005504472434484313, -0.008081034197715825, -0.009699996075825989, 0.03582384974691859, 0.012738134366792003, -0.014729113064450338, -0.023533512989735623, -0.0316903270461897, 0.02978890898804032, 0.025710501959813278, 0.026688766962493657, -0.007206105027379387, 0.01827016370620462, -0.03557583853388647, -0.011201842272144134, 0.027432802464235233, 0.00511867716247199, 0.0252833713304085, 0.015486925621672141, -0.022954820780209103, -0.0045950978314794584, -0.001035963698461772, 0.032489476357787886, -0.004123187347981515, 0.007888135863217701, -0.015087351897195666, 0.012827694074978335, -0.013929966546820006, 0.015101130815321127, -0.0062037262194874895, 0.024429110071598942, 0.01833905550286407, 0.006544741637406646, 0.03177299869229723, 0.01601050495266467, -0.0037305028497371154, -0.006827199214429794, -0.009782666790610899, 0.008652837413840925, -0.01646519155567514, 0.0044366458609723675, 0.011642750888351755, -0.017347010650735614, 0.017360788637538458, -0.03317839432438239, 0.02532470529081703, -0.015597153241385355, -0.014853119602289012, 0.006379400673498134, -0.018779964119071693, 0.011842538216251301, 0.02037825901697759, -0.030973851243344282, 0.010340692019933156, 0.014536215661274832, -0.02248635432775056, -0.01990979256451905, 0.008370380302479085, -0.015018460100536216, 0.009603547374238235, 3.3692501987939926e-05, -0.005232348813224606, 0.024291326478280043, -0.002505947252560398, -0.035272711648352516, -0.027432802464235233, 0.020392037003780433, -0.0013554504299248507, 0.003957846384073002, -0.01627229415249963, 0.002319938609955658, 0.017498572230857358, 0.01576249373963256, -0.000981711245610997, -0.005494138478720872, 0.003978513829938576, -0.015693601942973107, 0.004288528311890027, 0.0006540436016530758, 0.007564343394463407, 0.028962203702836448, -0.0028297397213146924, -0.011959654829365937, 0.014067750140138906, 0.025173143710695286, -0.03640254381909034, 0.0016809652634448276, 0.007323221640494023, -0.009472652774320757, 0.02664743300208513, -0.011367182770391338, 0.00700631816514115, -0.005924713604826361, -0.022059223698345783, 0.03359174882962956, -0.007330110633895444, 0.013330605494443985, 0.005897156699898058, -0.015486925621672141, 0.007633235656784165, -0.013668176415662432, 0.0038579529529538833, -0.0837175810115937, -0.029458226128900675, 0.01301370248475242, 0.01789814688665645, -0.009886004485600074, 0.034225554849012685, -0.0013967856709019787, 0.042465040551574296, -0.03714657745818668, 0.0032017565408628632, -0.004760438329726662, -0.0343357824687259, -0.02215567333125615, -0.008301488505819635, 0.001631879672060446, -0.022734365540782675, -0.013757736123848764, -0.0018273607970074677, -0.012986145579824119, 0.003854508456253173, -0.008053477292787522, -0.01162208390814749, 0.035906521393026115, -0.008900848626873039, -0.01074026574440963, 0.008149925994375275, -0.03866220070998505, 0.032158793498648246, 0.014798005792432406, 0.006747972996345594, 0.008611502522109779, -0.03146987553205374, -0.008439272099138535, -0.02037825901697759, 0.0006561964702986836, -5.164210107316707e-05, -0.02638564380225017, -0.006065942160507281, -0.003968180339836443, -0.04092185760087977, 0.021356525882303204, 0.002466334143518298, 0.017622577837373414, -0.017085221450900658, -0.029182658942262876, 0.006999429171739728, -0.0014165921090077015, 0.014150420854923816, 0.005149678564101004, -0.03728436105150558, -0.036485211739907396, -0.015059794992267363, -0.023230387966846903, 0.008556388712253171, 0.01716789123436295, -0.0038751761349494003, 0.02692300018872293, 0.024236212668423438, -0.009679328164299107, -0.014742891982575798, 0.010857382357524266, 0.01307570528801045, -0.01519757951690888, 0.0008292876681991223, 0.0011298291439393196, -0.011250066157276702, -0.01906931115515757, -0.008949073443328225, 0.004322974210219752, 0.014370875163027628, 0.00415763324631124, 0.039957372447647466, 0.001621545832712332, 0.01686476621147423, -0.023189054006438375, -0.016754538591761015, -0.006868534106160941, -0.03758748421174907, 0.008583945617181475, -0.011367182770391338, -0.027556808070751292, -0.02549004672038685, -0.003658166090715646, 0.000850816412862864, 0.0027970158385046684, -0.005363243413142085, -0.017787919266943234, -0.014060861146737484, -0.010692040927954444, -0.03441845411483343, -0.007371445991287899, 0.015666044106722187, -0.003012303401557413, -0.020295589233515297, -0.0062519505702813664, -0.003954401887372292, 0.001176331246382841, 0.012276557839057501, 0.0024973357779779666, 0.0062726184818082485, -0.0009197084423529685, -0.005153123060801715, -0.06288463166631518, 0.026234080359483193, -0.01716789123436295, -0.003205201037563574, 0.015679823956170267, -0.02258280396066093, 0.016478971405123215, -0.024814904877949958, 0.0007845078723136199, -0.0042850833495280075, -0.023988201455391323, -0.0006441403826002144, 0.00376150425136613, 0.00965177219069342, -0.009989343111911866, -0.012097438422684837, 0.039075551489941754, 0.014729113064450338, 0.01525269239544287, 0.006837532704531926, 0.014425988972884234, -0.00518756895913144, 0.02288592898354965, -0.0014484546348118934, -0.0012254167213518955, 0.013688844327189314, -0.02272058755397983, 0.022569025973858087, 0.015486925621672141, -0.002600673705797796, 0.0005829987035173636, -0.03359174882962956, -0.013006813491351, 0.01831149766661315, -0.01616206839543165, -0.0008292876681991223, 0.005022227995222928, 0.03202100990532934, -0.00752300850273226, 0.022059223698345783, -0.03698123416597163, -0.019964906374375656, 0.016685646795101566, 0.005707703793423262, -0.0021201517477174208, 0.008694172305572071, -0.0005791235283137368, 0.0019461995420571314, 0.02387797383567811, 0.008852624741740471, 0.018890191738784905, 0.034997144461714716, -0.04116986881391188, -0.01730567482768185, -0.03180055466590292, -0.015982948979058987, 0.02015780377755116, 0.010712708839481326, 0.003644387871082149, -0.004839664082149553, 0.05456247804293651, -0.002840073444247479, 0.014150420854923816, -0.00824637469596303, 0.009052411138317399, 0.006513740235777632, 0.002075372126454909, 0.00024973357779779667, 0.016988771817990286, -0.012786358251924571, -0.041087200893094825, -0.026688766962493657, -0.015969169129610907, 0.0014320928098222087, 0.01930354438138684, 0.006410402075127148, 0.005659479442629385, -0.003981958792300595, -0.02650964940876623, 0.032434360685286046, 0.028300841709847632, -0.007619457204320014, -0.02375396822916205, -0.013523502897619492, 0.028011494673761756, 0.02285837114729873, 0.014150420854923816, 0.006031496262177556, -0.011498078301631433, -0.0020960395723204823, -0.03397754363598057, -0.007274997289700146, 0.01687854419827707, 0.01898663950905004, 0.004291972808590738, 0.0030467495327177923, 0.002604118202498507, 0.006751417958707614, 0.035410498966961884, 0.014150420854923816, 0.014618886376059742, 0.007040764063470875, -0.00817059297457954, -0.024346438425491414, -0.012021657632623965, -0.012855250979906639, -0.013888630723766242, -0.026633655015282285, 0.0025025025230290326, 0.01147052139670313, 0.03348152120991634, 0.012724355448666543, 0.008949073443328225, 0.02622030237268035, -0.009231530554690063, 0.012731245373390583, 0.01716789123436295, -0.012786358251924571, -0.0331508383507767, 0.01993735040076997, 0.011994100727695661, 0.00039634439240423115, 0.019840900767859597, -0.02255524612441001, 0.03959913361490214, 0.002037481498593819, 0.013654398428859588, -0.008053477292787522, 0.028962203702836448, 0.0013485612036927747, 0.008632169502314043, -0.021067178846217324, -0.005955715006455376, -0.01927598654513592, -0.022968598767011947, -0.015128686788926813, -0.018793742105874534, 0.01663053298524496, -0.02431888245188573, 0.09248064883911569, 0.01439843206795593, -0.0063173978702401054, 0.009252198466216945, 0.003882065128350822, -0.01147052139670313, 0.007440337787947349, 0.007433448794545928, -0.0346113496553637, -0.01963422537788125, -0.01540425490688723, 0.0038682869087173243, -0.0036616108202470114, -0.0172367830310224, 0.0032585923662391716, -0.003015748131088778, -0.0027177900860817774, 0.015831385536292007, 0.013061926369884989, 0.002065038170691468, 0.026633655015282285, 0.024801126891147114, 0.009665550177496263, 0.003547938936663741, -0.03585140572052427, -0.010251132311746824, 0.009796444777413742, -0.021397861705356968, -0.01294481068809297, -0.031332088213444374, 0.02036448103017475, 0.006482738834148618, -0.011188063354018674, -0.016258516165696787, -0.005879933750733195, 0.01873862829601793, -0.01840794729952352, 0.01008579181349962, -0.011580748085093726, 0.008308377499221057, 0.009465762849596717, 0.02462200747477445, -0.015238914408640027, -0.03337129359020313, -0.003634053915318708, -0.009300422351349515, -0.01614828854598357, 0.0061348344228280395, -0.025545160530243458]]\n"
          ]
        }
      ]
    },
    {
      "cell_type": "markdown",
      "source": [
        "### 2.4.向量数据存储 & 检索\n",
        "向量数据存储，或成为向量数据库，负责存储文本嵌入的向量表现，并提供向量检索的能力。Langchain 提供了多种开源或商业向量数据存储，包括：Chroma, FAISS, Pinecone等。\n",
        "\n",
        "Langchain 提供了 Chroma 包装类，封装了chromadb的操作。在进行以下代码执行前，需要安装 Chroma 的包："
      ],
      "metadata": {
        "id": "iM57BXvjWIEz"
      }
    },
    {
      "cell_type": "code",
      "source": [
        "!pip install -q chromadb"
      ],
      "metadata": {
        "id": "l0YUT-ggbf2h"
      },
      "execution_count": 9,
      "outputs": []
    },
    {
      "cell_type": "markdown",
      "source": [
        "#### 2.4.1.向量数据存储\n",
        "下述这段代码实现了以下流程：\n",
        "1. 加载文件内容：将 README.md 文件的内容读取到内存中。\n",
        "2. 分割文档：将大文本分成适合处理的小块。\n",
        "3. 生成嵌入：通过 OpenAI 模型生成每个文本块的嵌入。\n",
        "4. 存储向量：将嵌入存储到 Chroma 向量数据库中，用于后续的相似性搜索或查询。\n",
        "\n",
        "> 注: 嵌入是指将文本表示为高维向量的方式，用于语义搜索或自然语言处理任务"
      ],
      "metadata": {
        "id": "SkyW6oRqa3uf"
      }
    },
    {
      "cell_type": "code",
      "source": [
        "from google.colab import userdata # 用于获取用户存储的环境变量（如 API 密钥）\n",
        "from langchain.document_loaders import TextLoader #  LangChain 的文档加载器，用于加载文本文件内容\n",
        "from langchain.text_splitter import CharacterTextSplitter # 文本分割器，将文本按字符数分块\n",
        "from langchain.embeddings import OpenAIEmbeddings # 提供的接口，用于通过 OpenAI 模型生成文本嵌入\n",
        "from langchain.vectorstores import Chroma # 一个轻量级的向量数据库，用于存储和查询嵌入\n",
        "\n",
        "################\n",
        "# 1.加载文件内容 #\n",
        "################\n",
        "# 加载当前目录下的 README.md 文件\n",
        "loader = TextLoader(\"./README.md\")\n",
        "# 返回文件内容，存储在 docs 中\n",
        "docs = loader.load()\n",
        "\n",
        "#############\n",
        "# 2.分割文档 #\n",
        "#############\n",
        "# 创建一个文本分割器实例\n",
        "text_splitter = CharacterTextSplitter(\n",
        "    chunk_size=1000, # 每个文本块最多包含 1000 个字符\n",
        "    chunk_overlap=0, # 块之间没有重叠字符\n",
        ")\n",
        "# 将 docs 中的文本分割成多个小块，并存储在 documents 中\n",
        "documents = text_splitter.split_documents(docs)\n",
        "\n",
        "#############\n",
        "# 3.生成嵌入 #\n",
        "# 4.存储向量 #\n",
        "#############\n",
        "# 创建一个 Chroma 向量数据库\n",
        "db = Chroma.from_documents(\n",
        "    # 分割后的文档列表\n",
        "    documents,\n",
        "    # 生成嵌入的模型实例\n",
        "    embedding=OpenAIEmbeddings(\n",
        "        openai_api_key=userdata.get('OPENAI_API_KEY'), # 获取 OpenAI API 密钥\n",
        "        base_url=\"https://api.chatanywhere.tech/v1\" # 自定义 OpenAI API 的基础 URL\n",
        "    ),\n",
        "    # 设置数据库的存储目录为 ./chroma_db，方便后续查询或加载\n",
        "    persist_directory='./chroma_db'\n",
        ")"
      ],
      "metadata": {
        "id": "ZK7wCQGpbROS"
      },
      "execution_count": 16,
      "outputs": []
    },
    {
      "cell_type": "markdown",
      "source": [
        "#### 2.4.2.向量数据检索\n",
        "向量数据库提供的重要接口就是相似性查询。如上述内容提到，文本相似性的衡量，由文本的向量表示的欧几里得距离来衡量。向量数据库提供了该接口，用于查询与给定文本最相似的文本。"
      ],
      "metadata": {
        "id": "Pj7G74oda_IG"
      }
    },
    {
      "cell_type": "code",
      "source": [
        "query = \"hello\"\n",
        "# 在向量数据库 db 中执行基于语义的相似性搜索\n",
        "# 其返回一个与查询最相关的文档列表\n",
        "docs = db.similarity_search(query)\n",
        "# 搜索的结果，包含多个文档对象，每个对象包含相关元数据（如 page_content 表示文档内容）\n",
        "print(docs)\n",
        "# 打印第一个相关文档的正文内容\n",
        "print(docs[0].page_content)"
      ],
      "metadata": {
        "colab": {
          "base_uri": "https://localhost:8080/"
        },
        "id": "AgPmNjOams6T",
        "outputId": "69157e61-ac55-4ae2-ac6c-bc8eafa759e8"
      },
      "execution_count": 20,
      "outputs": [
        {
          "output_type": "stream",
          "name": "stdout",
          "text": [
            "[Document(metadata={'source': './README.md'}, page_content='hello langchain!'), Document(metadata={'source': './README.md'}, page_content='hello langchain!'), Document(metadata={'source': './README.md'}, page_content='hello langchain!'), Document(metadata={'source': './README.md'}, page_content='hello langchain!')]\n",
            "hello langchain!\n"
          ]
        }
      ]
    },
    {
      "cell_type": "markdown",
      "source": [
        "# 04 : 提示词模版 Prompt\n",
        "在 LangChain 中，提示词（Prompt）是一个核心概念，用于定义如何与语言模型交互。提示词决定了模型的输入格式和任务描述，通过动态变量支持个性化和灵活的任务设计。"
      ],
      "metadata": {
        "id": "OWJpRxdVlFYJ"
      }
    },
    {
      "cell_type": "markdown",
      "source": [
        "## 1.PromptTemplate\n",
        "PromptTemplate 是用于定义模板化提示词的类。构造参数如下：\n",
        "* input_variables: 列表，指定提示词中可以动态替换的变量\n",
        "* template: 字符串，提示词的模板内容，包含占位符"
      ],
      "metadata": {
        "id": "JYZibD-ywurm"
      }
    },
    {
      "cell_type": "markdown",
      "source": [
        "### 1.1.基础使用实例\n",
        "了解 LangChain 中的提示词（Prompt）功能是一个重要的步骤，因为它是构建强大语言模型应用的核心之一。以下是一个完整的代码示例，演示如何在 LangChain 中使用提示词模板："
      ],
      "metadata": {
        "id": "UDBnpacafqc8"
      }
    },
    {
      "cell_type": "code",
      "source": [
        "!pip install -U langchain-community"
      ],
      "metadata": {
        "colab": {
          "base_uri": "https://localhost:8080/"
        },
        "id": "6mUI2yuGhlsj",
        "outputId": "ca6bc71e-c76f-415b-be56-7fb166caa836"
      },
      "execution_count": 3,
      "outputs": [
        {
          "output_type": "stream",
          "name": "stdout",
          "text": [
            "Collecting langchain-community\n",
            "  Downloading langchain_community-0.3.15-py3-none-any.whl.metadata (2.9 kB)\n",
            "Requirement already satisfied: PyYAML>=5.3 in /usr/local/lib/python3.11/dist-packages (from langchain-community) (6.0.2)\n",
            "Requirement already satisfied: SQLAlchemy<3,>=1.4 in /usr/local/lib/python3.11/dist-packages (from langchain-community) (2.0.37)\n",
            "Requirement already satisfied: aiohttp<4.0.0,>=3.8.3 in /usr/local/lib/python3.11/dist-packages (from langchain-community) (3.11.11)\n",
            "Collecting dataclasses-json<0.7,>=0.5.7 (from langchain-community)\n",
            "  Downloading dataclasses_json-0.6.7-py3-none-any.whl.metadata (25 kB)\n",
            "Collecting httpx-sse<0.5.0,>=0.4.0 (from langchain-community)\n",
            "  Downloading httpx_sse-0.4.0-py3-none-any.whl.metadata (9.0 kB)\n",
            "Requirement already satisfied: langchain<0.4.0,>=0.3.15 in /usr/local/lib/python3.11/dist-packages (from langchain-community) (0.3.15)\n",
            "Requirement already satisfied: langchain-core<0.4.0,>=0.3.31 in /usr/local/lib/python3.11/dist-packages (from langchain-community) (0.3.31)\n",
            "Requirement already satisfied: langsmith<0.4,>=0.1.125 in /usr/local/lib/python3.11/dist-packages (from langchain-community) (0.3.0)\n",
            "Requirement already satisfied: numpy<2,>=1.22.4 in /usr/local/lib/python3.11/dist-packages (from langchain-community) (1.26.4)\n",
            "Collecting pydantic-settings<3.0.0,>=2.4.0 (from langchain-community)\n",
            "  Downloading pydantic_settings-2.7.1-py3-none-any.whl.metadata (3.5 kB)\n",
            "Requirement already satisfied: requests<3,>=2 in /usr/local/lib/python3.11/dist-packages (from langchain-community) (2.32.3)\n",
            "Requirement already satisfied: tenacity!=8.4.0,<10,>=8.1.0 in /usr/local/lib/python3.11/dist-packages (from langchain-community) (9.0.0)\n",
            "Requirement already satisfied: aiohappyeyeballs>=2.3.0 in /usr/local/lib/python3.11/dist-packages (from aiohttp<4.0.0,>=3.8.3->langchain-community) (2.4.4)\n",
            "Requirement already satisfied: aiosignal>=1.1.2 in /usr/local/lib/python3.11/dist-packages (from aiohttp<4.0.0,>=3.8.3->langchain-community) (1.3.2)\n",
            "Requirement already satisfied: attrs>=17.3.0 in /usr/local/lib/python3.11/dist-packages (from aiohttp<4.0.0,>=3.8.3->langchain-community) (24.3.0)\n",
            "Requirement already satisfied: frozenlist>=1.1.1 in /usr/local/lib/python3.11/dist-packages (from aiohttp<4.0.0,>=3.8.3->langchain-community) (1.5.0)\n",
            "Requirement already satisfied: multidict<7.0,>=4.5 in /usr/local/lib/python3.11/dist-packages (from aiohttp<4.0.0,>=3.8.3->langchain-community) (6.1.0)\n",
            "Requirement already satisfied: propcache>=0.2.0 in /usr/local/lib/python3.11/dist-packages (from aiohttp<4.0.0,>=3.8.3->langchain-community) (0.2.1)\n",
            "Requirement already satisfied: yarl<2.0,>=1.17.0 in /usr/local/lib/python3.11/dist-packages (from aiohttp<4.0.0,>=3.8.3->langchain-community) (1.18.3)\n",
            "Collecting marshmallow<4.0.0,>=3.18.0 (from dataclasses-json<0.7,>=0.5.7->langchain-community)\n",
            "  Downloading marshmallow-3.26.0-py3-none-any.whl.metadata (7.3 kB)\n",
            "Collecting typing-inspect<1,>=0.4.0 (from dataclasses-json<0.7,>=0.5.7->langchain-community)\n",
            "  Downloading typing_inspect-0.9.0-py3-none-any.whl.metadata (1.5 kB)\n",
            "Requirement already satisfied: langchain-text-splitters<0.4.0,>=0.3.3 in /usr/local/lib/python3.11/dist-packages (from langchain<0.4.0,>=0.3.15->langchain-community) (0.3.5)\n",
            "Requirement already satisfied: pydantic<3.0.0,>=2.7.4 in /usr/local/lib/python3.11/dist-packages (from langchain<0.4.0,>=0.3.15->langchain-community) (2.10.5)\n",
            "Requirement already satisfied: jsonpatch<2.0,>=1.33 in /usr/local/lib/python3.11/dist-packages (from langchain-core<0.4.0,>=0.3.31->langchain-community) (1.33)\n",
            "Requirement already satisfied: packaging<25,>=23.2 in /usr/local/lib/python3.11/dist-packages (from langchain-core<0.4.0,>=0.3.31->langchain-community) (24.2)\n",
            "Requirement already satisfied: typing-extensions>=4.7 in /usr/local/lib/python3.11/dist-packages (from langchain-core<0.4.0,>=0.3.31->langchain-community) (4.12.2)\n",
            "Requirement already satisfied: httpx<1,>=0.23.0 in /usr/local/lib/python3.11/dist-packages (from langsmith<0.4,>=0.1.125->langchain-community) (0.28.1)\n",
            "Requirement already satisfied: orjson<4.0.0,>=3.9.14 in /usr/local/lib/python3.11/dist-packages (from langsmith<0.4,>=0.1.125->langchain-community) (3.10.15)\n",
            "Requirement already satisfied: requests-toolbelt<2.0.0,>=1.0.0 in /usr/local/lib/python3.11/dist-packages (from langsmith<0.4,>=0.1.125->langchain-community) (1.0.0)\n",
            "Requirement already satisfied: zstandard<0.24.0,>=0.23.0 in /usr/local/lib/python3.11/dist-packages (from langsmith<0.4,>=0.1.125->langchain-community) (0.23.0)\n",
            "Collecting python-dotenv>=0.21.0 (from pydantic-settings<3.0.0,>=2.4.0->langchain-community)\n",
            "  Downloading python_dotenv-1.0.1-py3-none-any.whl.metadata (23 kB)\n",
            "Requirement already satisfied: charset-normalizer<4,>=2 in /usr/local/lib/python3.11/dist-packages (from requests<3,>=2->langchain-community) (3.4.1)\n",
            "Requirement already satisfied: idna<4,>=2.5 in /usr/local/lib/python3.11/dist-packages (from requests<3,>=2->langchain-community) (3.10)\n",
            "Requirement already satisfied: urllib3<3,>=1.21.1 in /usr/local/lib/python3.11/dist-packages (from requests<3,>=2->langchain-community) (2.3.0)\n",
            "Requirement already satisfied: certifi>=2017.4.17 in /usr/local/lib/python3.11/dist-packages (from requests<3,>=2->langchain-community) (2024.12.14)\n",
            "Requirement already satisfied: greenlet!=0.4.17 in /usr/local/lib/python3.11/dist-packages (from SQLAlchemy<3,>=1.4->langchain-community) (3.1.1)\n",
            "Requirement already satisfied: anyio in /usr/local/lib/python3.11/dist-packages (from httpx<1,>=0.23.0->langsmith<0.4,>=0.1.125->langchain-community) (3.7.1)\n",
            "Requirement already satisfied: httpcore==1.* in /usr/local/lib/python3.11/dist-packages (from httpx<1,>=0.23.0->langsmith<0.4,>=0.1.125->langchain-community) (1.0.7)\n",
            "Requirement already satisfied: h11<0.15,>=0.13 in /usr/local/lib/python3.11/dist-packages (from httpcore==1.*->httpx<1,>=0.23.0->langsmith<0.4,>=0.1.125->langchain-community) (0.14.0)\n",
            "Requirement already satisfied: jsonpointer>=1.9 in /usr/local/lib/python3.11/dist-packages (from jsonpatch<2.0,>=1.33->langchain-core<0.4.0,>=0.3.31->langchain-community) (3.0.0)\n",
            "Requirement already satisfied: annotated-types>=0.6.0 in /usr/local/lib/python3.11/dist-packages (from pydantic<3.0.0,>=2.7.4->langchain<0.4.0,>=0.3.15->langchain-community) (0.7.0)\n",
            "Requirement already satisfied: pydantic-core==2.27.2 in /usr/local/lib/python3.11/dist-packages (from pydantic<3.0.0,>=2.7.4->langchain<0.4.0,>=0.3.15->langchain-community) (2.27.2)\n",
            "Collecting mypy-extensions>=0.3.0 (from typing-inspect<1,>=0.4.0->dataclasses-json<0.7,>=0.5.7->langchain-community)\n",
            "  Downloading mypy_extensions-1.0.0-py3-none-any.whl.metadata (1.1 kB)\n",
            "Requirement already satisfied: sniffio>=1.1 in /usr/local/lib/python3.11/dist-packages (from anyio->httpx<1,>=0.23.0->langsmith<0.4,>=0.1.125->langchain-community) (1.3.1)\n",
            "Downloading langchain_community-0.3.15-py3-none-any.whl (2.5 MB)\n",
            "\u001b[2K   \u001b[90m━━━━━━━━━━━━━━━━━━━━━━━━━━━━━━━━━━━━━━━━\u001b[0m \u001b[32m2.5/2.5 MB\u001b[0m \u001b[31m32.8 MB/s\u001b[0m eta \u001b[36m0:00:00\u001b[0m\n",
            "\u001b[?25hDownloading dataclasses_json-0.6.7-py3-none-any.whl (28 kB)\n",
            "Downloading httpx_sse-0.4.0-py3-none-any.whl (7.8 kB)\n",
            "Downloading pydantic_settings-2.7.1-py3-none-any.whl (29 kB)\n",
            "Downloading marshmallow-3.26.0-py3-none-any.whl (50 kB)\n",
            "\u001b[2K   \u001b[90m━━━━━━━━━━━━━━━━━━━━━━━━━━━━━━━━━━━━━━━━\u001b[0m \u001b[32m50.8/50.8 kB\u001b[0m \u001b[31m4.3 MB/s\u001b[0m eta \u001b[36m0:00:00\u001b[0m\n",
            "\u001b[?25hDownloading python_dotenv-1.0.1-py3-none-any.whl (19 kB)\n",
            "Downloading typing_inspect-0.9.0-py3-none-any.whl (8.8 kB)\n",
            "Downloading mypy_extensions-1.0.0-py3-none-any.whl (4.7 kB)\n",
            "Installing collected packages: python-dotenv, mypy-extensions, marshmallow, httpx-sse, typing-inspect, pydantic-settings, dataclasses-json, langchain-community\n",
            "Successfully installed dataclasses-json-0.6.7 httpx-sse-0.4.0 langchain-community-0.3.15 marshmallow-3.26.0 mypy-extensions-1.0.0 pydantic-settings-2.7.1 python-dotenv-1.0.1 typing-inspect-0.9.0\n"
          ]
        }
      ]
    },
    {
      "cell_type": "code",
      "source": [
        "from google.colab import userdata\n",
        "from langchain.prompts import PromptTemplate\n",
        "from langchain.chains import LLMChain\n",
        "from langchain.llms import OpenAI\n",
        "\n",
        "# 1.定义一个提示词模版\n",
        "prompt = PromptTemplate(\n",
        "    input_variables=[\"word\"], # 动态输出变量\n",
        "    template=\"What's {word}?\",\n",
        ")\n",
        "\n",
        "# 2.查看提示词\n",
        "print(\"Prompt:\", prompt.template)\n",
        "\n",
        "# 3.使用 OpenAI 模型\n",
        "llm = OpenAI(\n",
        "    model=\"gpt-3.5-turbo-instruct\",\n",
        "    openai_api_key = userdata.get('OPENAI_API_KEY'),\n",
        "    base_url=\"https://api.chatanywhere.tech/v1\"\n",
        ")\n",
        "\n",
        "# 4.将语言模型 llm 和提示词模板 prompt 组合起来\n",
        "chain= LLMChain(llm=llm, prompt=prompt)\n",
        "\n",
        "# 5.输入变量并运行链\n",
        "reponse = chain.run(word=\"LangChain\")\n",
        "\n",
        "# 6.输出结果\n",
        "print(reponse)"
      ],
      "metadata": {
        "colab": {
          "base_uri": "https://localhost:8080/"
        },
        "id": "pUnc1Kadf0jF",
        "outputId": "a771fd34-503f-4226-baa4-d093bfa786dd"
      },
      "execution_count": 15,
      "outputs": [
        {
          "output_type": "stream",
          "name": "stdout",
          "text": [
            "Prompt: What's {word}?\n",
            "\n",
            "\n",
            "LangChain is a blockchain-based platform that aims to revolutionize language learning by creating a decentralized ecosystem where users can connect with native speakers and practice their target language in real-time. It also offers a variety of tools and resources, such as interactive lessons, language exchange programs, and language proficiency tests, to help users improve their language skills. The platform uses blockchain technology to ensure transparency, security, and fairness in all language learning transactions, including payments and reviews. LangChain also incentivizes native speakers to participate in the platform by rewarding them with tokens for their contributions. \n"
          ]
        }
      ]
    },
    {
      "cell_type": "markdown",
      "source": [
        "### 1.2.模拟简单的问答场景\n",
        "下面我们用一个实例来进一步学习 LangChain 中的提示词 (Prompt)。这个实例会模拟一个简单的问答场景，结合用户的输入问题，生成回答。"
      ],
      "metadata": {
        "id": "Zim4I432lQCB"
      }
    },
    {
      "cell_type": "code",
      "source": [
        "from google.colab import userdata\n",
        "from langchain.prompts import PromptTemplate\n",
        "from langchain.chains import LLMChain\n",
        "from langchain.llms import OpenAI\n",
        "\n",
        "# 1.使用 PromptTemplate 定义一个提示词，包含动态变量 {question}\n",
        "prompt = PromptTemplate(\n",
        "    input_variables=[\"question\"],\n",
        "    template=(\n",
        "        \"你是一个专业的百科全书，请问答以下问题: \\n\\n\"\n",
        "        \"问题: {question}\\n\"\n",
        "        \"答案1(用中文回答): \"\n",
        "        \"答案2(用英文回答): \"\n",
        "    )\n",
        ")\n",
        "\n",
        "# 2.初始化 OpenAI 的语言模型，用于处理提示词模版并生成回答\n",
        "llm = OpenAI(\n",
        "    model=\"gpt-3.5-turbo-instruct\",\n",
        "    openai_api_key = userdata.get('OPENAI_API_KEY'),\n",
        "    base_url=userdata.get('BASE_URL'),\n",
        ")\n",
        "\n",
        "# 3.创建 LLMChain，将语言模型 llm 和提示词模板 prompt 组合起来，形成可执行的链\n",
        "chain = LLMChain(llm=llm, prompt=prompt)\n",
        "\n",
        "# 4.输入问题并运行链\n",
        "user_question = \"谁是马拉松最快世界记录保持者，中文名叫什么？哪场比赛？最好成绩是多少？\"\n",
        "response = chain.run(question=user_question)\n",
        "\n",
        "# 5.输出用户提问和模型生成的回答\n",
        "print(f\"问题: {user_question}\")\n",
        "print(response)"
      ],
      "metadata": {
        "colab": {
          "base_uri": "https://localhost:8080/"
        },
        "id": "ZH5PzjAllfO_",
        "outputId": "0090b02f-bc5b-4619-86bb-dc58566d968a"
      },
      "execution_count": 28,
      "outputs": [
        {
          "output_type": "stream",
          "name": "stdout",
          "text": [
            "问题: 谁是马拉松最快世界记录保持者，中文名叫什么？哪场比赛？最好成绩是多少？\n",
            "\n",
            "答案1：肯尼亚选手基普乔格（Eliud Kipchoge），中文名叫基普乔格·基普特鲁伊（Eliud Kipchoge），保持着马拉松最快世界记录。他在2018年柏林马拉松中跑出2小时01分39秒的成绩，刷新了世界纪录。\n",
            "\n",
            "答案2：The fastest marathon world record holder is Kenyan athlete Eliud Kipchoge, whose Chinese name is Kipchoge Kiptrui. He set the record in 2018 Berlin Marathon with a time of 2 hours 1 minute 39 seconds. \n"
          ]
        }
      ]
    },
    {
      "cell_type": "markdown",
      "source": [
        "## 2.ChatPromptTemplate\n",
        "适用于对话式任务，支持定义多轮对话的提示模板。\n",
        "\n"
      ],
      "metadata": {
        "id": "6bGPVQaSw5Zg"
      }
    },
    {
      "cell_type": "markdown",
      "source": [
        "### 2.1.基础使用实例"
      ],
      "metadata": {
        "id": "d7qHC0iR4Pzl"
      }
    },
    {
      "cell_type": "code",
      "source": [
        "# ChatPromptTemplate：用于创建聊天对话的提示模板，支持多轮对话，允许组合系统消息、用户消息、以及 AI 消息等内容\n",
        "# SystemMessagePromptTemplate：定义系统消息（System Message），通常用于描述 AI 的角色、行为或背景信息\n",
        "# HumanMessagePromptTemplate：定义用户消息（Human Message），表示人类在对话中说的话\n",
        "from langchain.prompts import ChatPromptTemplate, SystemMessagePromptTemplate, HumanMessagePromptTemplate\n",
        "from langchain.llms import OpenAI\n",
        "from google.colab import userdata\n",
        "\n",
        "# 1.创建一个多轮对话的提示词模版\n",
        "chat_prompt = ChatPromptTemplate.from_messages([\n",
        "    # 系统消息: 定义助手的角色\n",
        "    SystemMessagePromptTemplate.from_template(\"你是一个专业的百科全书，请回答以下问题\"),\n",
        "    # 人类消息: 动态模版,包含问题变量\n",
        "    HumanMessagePromptTemplate.from_template(\"你好，我的问题是：{question}\")\n",
        "])\n",
        "\n",
        "# 2.填充动态问题变量\n",
        "filled_chat = chat_prompt.format_prompt(question=\"谁是马拉松最快世界记录保持者，中文名叫什么？哪场比赛？最好成绩是多少？\")\n",
        "\n",
        "# 3.查看格式化后的完整提示词\n",
        "print(filled_chat)\n",
        "\n",
        "# 4.初始化语言模型\n",
        "llm = OpenAI(\n",
        "    model=\"gpt-3.5-turbo-instruct\",\n",
        "    openai_api_key = userdata.get('OPENAI_API_KEY'),\n",
        "    base_url=userdata.get('BASE_URL'),\n",
        ")\n",
        "\n",
        "# 5.将 filled_chat 转换为文本格式，传递给语言模型作为输入，模型会根据提示词生成回答\n",
        "response = llm(filled_chat.to_string())\n",
        "print(response)"
      ],
      "metadata": {
        "colab": {
          "base_uri": "https://localhost:8080/"
        },
        "id": "Jh8KwXaNxbMS",
        "outputId": "fa256115-0a80-4967-ee2b-cdb5e0adfdb8"
      },
      "execution_count": 36,
      "outputs": [
        {
          "output_type": "stream",
          "name": "stdout",
          "text": [
            "messages=[SystemMessage(content='你是一个专业的百科全书，请回答以下问题', additional_kwargs={}, response_metadata={}), HumanMessage(content='你好，我的问题是：谁是马拉松最快世界记录保持者，中文名叫什么？哪场比赛？最好成绩是多少？', additional_kwargs={}, response_metadata={})]\n",
            "\n",
            "\n",
            "System: 目前马拉松最快世界记录保持者是肯尼亚选手Eliud Kipchoge，中文名为伊利亚·基普乔格。他在2018年的柏林马拉松比赛中创造了2小时1分39秒的最好成绩。\n"
          ]
        }
      ]
    },
    {
      "cell_type": "markdown",
      "source": [
        "### 2.2.模拟旅游推荐助手\n",
        "以下是一个进阶的 LangChain 使用案例，展示如何通过 ChatPromptTemplate 实现多轮对话动态填充，并结合复杂的上下文和任务。我们将模拟一个旅游推荐助手。"
      ],
      "metadata": {
        "id": "jjek8G7f4ZvW"
      }
    },
    {
      "cell_type": "code",
      "source": [
        "# ChatPromptTemplate：用于构建多轮对话的整体提示模板\n",
        "# SystemMessagePromptTemplate：定义系统消息，用于设定 AI 的角色、背景或行为规则\n",
        "# HumanMessagePromptTemplate：定义人类消息，表示对话中由人类发出的消息\n",
        "# AIMessagePromptTemplate：定义 AI 消息，表示对话中由 AI 回答的消息\n",
        "from langchain.prompts import ChatPromptTemplate, SystemMessagePromptTemplate, HumanMessagePromptTemplate, AIMessagePromptTemplate\n",
        "from google.colab import userdata\n",
        "# LangChainDeprecationWarning: The class `OpenAI` was deprecated in LangChain 0.0.10 and will be removed in 1.0.\n",
        "# An updated version of the class exists in the :class:`~langchain-openai package and should be used instead.\n",
        "# To use it run `pip install -U :class:`~langchain-openai` and import as `from :class:`~langchain_openai import OpenAI``.\n",
        "# from langchain.llms import OpenAI\n",
        "from langchain_openai import OpenAI\n",
        "\n",
        "# 1.定义多轮对话的提示词模版\n",
        "chat_prompt = ChatPromptTemplate.from_messages([\n",
        "    # 系统消息：定义助手的角色\n",
        "    SystemMessagePromptTemplate.from_template(\n",
        "      \"你是一个专业的旅游规划助手，可以根据用户的需求提供详细的旅游建议！\"\n",
        "    ),\n",
        "    # 人类消息：第一轮对话，询问用户的需求\n",
        "    HumanMessagePromptTemplate.from_template(\n",
        "      \"我想去一个地方旅游，但是还没有决定，请推荐几个合适的地方，我的兴趣是：{interests}\"\n",
        "    ),\n",
        "    # AI 消息：提供推荐\n",
        "    AIMessagePromptTemplate.from_template(\n",
        "        \"根据你的兴趣，我推荐以下几个地方：{recommendations}，你对这些地方感兴趣嘛？\"\n",
        "    ),\n",
        "    # 人类消息：用户反馈\n",
        "    HumanMessagePromptTemplate.from_template(\n",
        "        \"这些地方很有趣！能否为 {selected_place} 设计一个详细的三日行程？\"\n",
        "    ),\n",
        "])\n",
        "\n",
        "# 2.动态填充第一轮变量\n",
        "filled_chat = chat_prompt.format_prompt(\n",
        "    interests = \"自然风光，历史文化\",\n",
        "    recommendations = \"\\n1.日本\\n2.美国\\n3.台湾\",\n",
        "    selected_place = \"台湾\"\n",
        ")\n",
        "\n",
        "# 3.输出格式化后的提示词\n",
        "print(\"格式化后的完整对话：\")\n",
        "print(filled_chat.to_string())\n",
        "\n",
        "# 4.调用`文本补全`语言模型生成响应\n",
        "llm = OpenAI(\n",
        "    model=\"gpt-3.5-turbo-instruct\",\n",
        "    openai_api_key = userdata.get('OPENAI_API_KEY'),\n",
        "    base_url=userdata.get('BASE_URL'),\n",
        ")\n",
        "\n",
        "# 5.输出响应结果\n",
        "response = llm(filled_chat.to_string())\n",
        "print(\"\\n模型生成的回答：\")\n",
        "print(response)"
      ],
      "metadata": {
        "colab": {
          "base_uri": "https://localhost:8080/"
        },
        "id": "dvnqGnFc6xuF",
        "outputId": "313381c7-11ce-4f6f-af1a-750dc092cf18"
      },
      "execution_count": 51,
      "outputs": [
        {
          "output_type": "stream",
          "name": "stdout",
          "text": [
            "格式化后的完整对话：\n",
            "System: 你是一个专业的旅游规划助手，可以根据用户的需求提供详细的旅游建议！\n",
            "Human: 我想去一个地方旅游，但是还没有决定，请推荐几个合适的地方，我的兴趣是：自然风光，历史文化\n",
            "AI: 根据你的兴趣，我推荐以下几个地方：\n",
            "1.日本\n",
            "2.美国\n",
            "3.台湾，你对这些地方感兴趣嘛？\n",
            "Human: 这些地方很有趣！能否为 台湾 设计一个详细的三日行程？\n",
            "\n",
            "模型生成的回答：\n",
            "\n",
            "AI: 当然可以！第一天可以去台北市的龙山寺和中正纪念堂，感受当地的宗教氛围和历史文化。第二天可以到阳明山国家公园，欣赏自然风光和热带植物。第三天可以去九份老街和淡水老街，体验当地的传统文化和美食。如需更多建议，请告诉我你的具体偏好，我会为你提供更个性化的旅游建议。\n"
          ]
        }
      ]
    },
    {
      "cell_type": "markdown",
      "source": [],
      "metadata": {
        "id": "yHwCv8hkMHis"
      }
    },
    {
      "cell_type": "markdown",
      "source": [
        "⭐️⭐️⭐️ 下述代码将使用聊天模型代替文本补全模型，因为 OpenAI 官方表示要废弃模型Completions API，后续 OpenAI 的规划是让开发者都使用模型Chat Completions API！\n",
        "\n",
        "知识扩展1:\n",
        "> OpenAI在2023年3月份引入了Chat Completions API，现在有大约97%的API使用量都来源于Chat Completions API。\n",
        ">\n",
        "> Completions API是在2020年6月份引入的，当时是为了给开发者提供和OpenAI语言模型交互的能力。\n",
        ">\n",
        "> 👍 现在有了Chat Completions API后，完全可以覆盖Completions API的功能，而且Chat Completions API更为强大，可以满足非常多的使用场景和对话需求。\n",
        "\n",
        "知识扩展2:\n",
        "> 注.在 Langchain 的环境中，LLM特指文本补全模型（text completion model）\n"
      ],
      "metadata": {
        "id": "Ikq-f08g_6Rz"
      }
    },
    {
      "cell_type": "code",
      "source": [
        "!pip install langchain_openai"
      ],
      "metadata": {
        "colab": {
          "base_uri": "https://localhost:8080/"
        },
        "id": "p1WsXWBxCjnW",
        "outputId": "ce52ad7d-0097-40c8-b13f-0c992088cb6c"
      },
      "execution_count": 47,
      "outputs": [
        {
          "output_type": "stream",
          "name": "stdout",
          "text": [
            "Collecting langchain_openai\n",
            "  Downloading langchain_openai-0.3.2-py3-none-any.whl.metadata (2.7 kB)\n",
            "Requirement already satisfied: langchain-core<0.4.0,>=0.3.31 in /usr/local/lib/python3.11/dist-packages (from langchain_openai) (0.3.31)\n",
            "Requirement already satisfied: openai<2.0.0,>=1.58.1 in /usr/local/lib/python3.11/dist-packages (from langchain_openai) (1.59.9)\n",
            "Collecting tiktoken<1,>=0.7 (from langchain_openai)\n",
            "  Downloading tiktoken-0.8.0-cp311-cp311-manylinux_2_17_x86_64.manylinux2014_x86_64.whl.metadata (6.6 kB)\n",
            "Requirement already satisfied: PyYAML>=5.3 in /usr/local/lib/python3.11/dist-packages (from langchain-core<0.4.0,>=0.3.31->langchain_openai) (6.0.2)\n",
            "Requirement already satisfied: jsonpatch<2.0,>=1.33 in /usr/local/lib/python3.11/dist-packages (from langchain-core<0.4.0,>=0.3.31->langchain_openai) (1.33)\n",
            "Requirement already satisfied: langsmith<0.4,>=0.1.125 in /usr/local/lib/python3.11/dist-packages (from langchain-core<0.4.0,>=0.3.31->langchain_openai) (0.3.0)\n",
            "Requirement already satisfied: packaging<25,>=23.2 in /usr/local/lib/python3.11/dist-packages (from langchain-core<0.4.0,>=0.3.31->langchain_openai) (24.2)\n",
            "Requirement already satisfied: pydantic<3.0.0,>=2.5.2 in /usr/local/lib/python3.11/dist-packages (from langchain-core<0.4.0,>=0.3.31->langchain_openai) (2.10.5)\n",
            "Requirement already satisfied: tenacity!=8.4.0,<10.0.0,>=8.1.0 in /usr/local/lib/python3.11/dist-packages (from langchain-core<0.4.0,>=0.3.31->langchain_openai) (9.0.0)\n",
            "Requirement already satisfied: typing-extensions>=4.7 in /usr/local/lib/python3.11/dist-packages (from langchain-core<0.4.0,>=0.3.31->langchain_openai) (4.12.2)\n",
            "Requirement already satisfied: anyio<5,>=3.5.0 in /usr/local/lib/python3.11/dist-packages (from openai<2.0.0,>=1.58.1->langchain_openai) (3.7.1)\n",
            "Requirement already satisfied: distro<2,>=1.7.0 in /usr/local/lib/python3.11/dist-packages (from openai<2.0.0,>=1.58.1->langchain_openai) (1.9.0)\n",
            "Requirement already satisfied: httpx<1,>=0.23.0 in /usr/local/lib/python3.11/dist-packages (from openai<2.0.0,>=1.58.1->langchain_openai) (0.28.1)\n",
            "Requirement already satisfied: jiter<1,>=0.4.0 in /usr/local/lib/python3.11/dist-packages (from openai<2.0.0,>=1.58.1->langchain_openai) (0.8.2)\n",
            "Requirement already satisfied: sniffio in /usr/local/lib/python3.11/dist-packages (from openai<2.0.0,>=1.58.1->langchain_openai) (1.3.1)\n",
            "Requirement already satisfied: tqdm>4 in /usr/local/lib/python3.11/dist-packages (from openai<2.0.0,>=1.58.1->langchain_openai) (4.67.1)\n",
            "Requirement already satisfied: regex>=2022.1.18 in /usr/local/lib/python3.11/dist-packages (from tiktoken<1,>=0.7->langchain_openai) (2024.11.6)\n",
            "Requirement already satisfied: requests>=2.26.0 in /usr/local/lib/python3.11/dist-packages (from tiktoken<1,>=0.7->langchain_openai) (2.32.3)\n",
            "Requirement already satisfied: idna>=2.8 in /usr/local/lib/python3.11/dist-packages (from anyio<5,>=3.5.0->openai<2.0.0,>=1.58.1->langchain_openai) (3.10)\n",
            "Requirement already satisfied: certifi in /usr/local/lib/python3.11/dist-packages (from httpx<1,>=0.23.0->openai<2.0.0,>=1.58.1->langchain_openai) (2024.12.14)\n",
            "Requirement already satisfied: httpcore==1.* in /usr/local/lib/python3.11/dist-packages (from httpx<1,>=0.23.0->openai<2.0.0,>=1.58.1->langchain_openai) (1.0.7)\n",
            "Requirement already satisfied: h11<0.15,>=0.13 in /usr/local/lib/python3.11/dist-packages (from httpcore==1.*->httpx<1,>=0.23.0->openai<2.0.0,>=1.58.1->langchain_openai) (0.14.0)\n",
            "Requirement already satisfied: jsonpointer>=1.9 in /usr/local/lib/python3.11/dist-packages (from jsonpatch<2.0,>=1.33->langchain-core<0.4.0,>=0.3.31->langchain_openai) (3.0.0)\n",
            "Requirement already satisfied: orjson<4.0.0,>=3.9.14 in /usr/local/lib/python3.11/dist-packages (from langsmith<0.4,>=0.1.125->langchain-core<0.4.0,>=0.3.31->langchain_openai) (3.10.15)\n",
            "Requirement already satisfied: requests-toolbelt<2.0.0,>=1.0.0 in /usr/local/lib/python3.11/dist-packages (from langsmith<0.4,>=0.1.125->langchain-core<0.4.0,>=0.3.31->langchain_openai) (1.0.0)\n",
            "Requirement already satisfied: zstandard<0.24.0,>=0.23.0 in /usr/local/lib/python3.11/dist-packages (from langsmith<0.4,>=0.1.125->langchain-core<0.4.0,>=0.3.31->langchain_openai) (0.23.0)\n",
            "Requirement already satisfied: annotated-types>=0.6.0 in /usr/local/lib/python3.11/dist-packages (from pydantic<3.0.0,>=2.5.2->langchain-core<0.4.0,>=0.3.31->langchain_openai) (0.7.0)\n",
            "Requirement already satisfied: pydantic-core==2.27.2 in /usr/local/lib/python3.11/dist-packages (from pydantic<3.0.0,>=2.5.2->langchain-core<0.4.0,>=0.3.31->langchain_openai) (2.27.2)\n",
            "Requirement already satisfied: charset-normalizer<4,>=2 in /usr/local/lib/python3.11/dist-packages (from requests>=2.26.0->tiktoken<1,>=0.7->langchain_openai) (3.4.1)\n",
            "Requirement already satisfied: urllib3<3,>=1.21.1 in /usr/local/lib/python3.11/dist-packages (from requests>=2.26.0->tiktoken<1,>=0.7->langchain_openai) (2.3.0)\n",
            "Downloading langchain_openai-0.3.2-py3-none-any.whl (54 kB)\n",
            "\u001b[2K   \u001b[90m━━━━━━━━━━━━━━━━━━━━━━━━━━━━━━━━━━━━━━━━\u001b[0m \u001b[32m54.4/54.4 kB\u001b[0m \u001b[31m2.4 MB/s\u001b[0m eta \u001b[36m0:00:00\u001b[0m\n",
            "\u001b[?25hDownloading tiktoken-0.8.0-cp311-cp311-manylinux_2_17_x86_64.manylinux2014_x86_64.whl (1.2 MB)\n",
            "\u001b[2K   \u001b[90m━━━━━━━━━━━━━━━━━━━━━━━━━━━━━━━━━━━━━━━━\u001b[0m \u001b[32m1.2/1.2 MB\u001b[0m \u001b[31m18.0 MB/s\u001b[0m eta \u001b[36m0:00:00\u001b[0m\n",
            "\u001b[?25hInstalling collected packages: tiktoken, langchain_openai\n",
            "Successfully installed langchain_openai-0.3.2 tiktoken-0.8.0\n"
          ]
        }
      ]
    },
    {
      "cell_type": "code",
      "source": [
        "from langchain.prompts import ChatPromptTemplate, SystemMessagePromptTemplate, HumanMessagePromptTemplate, AIMessagePromptTemplate\n",
        "# from langchain_openai import OpenAI\n",
        "from langchain_openai import ChatOpenAI\n",
        "\n",
        "# 1.定义多轮对话的提示词模版\n",
        "chat_prompt = ChatPromptTemplate.from_messages([\n",
        "    # 系统消息：定义助手的角色\n",
        "    SystemMessagePromptTemplate.from_template(\n",
        "      \"你是一个专业的旅游规划助手，可以根据用户的需求提供详细的旅游建议！\"\n",
        "    ),\n",
        "    # 人类消息：第一轮对话，询问用户的需求\n",
        "    HumanMessagePromptTemplate.from_template(\n",
        "      \"我想去一个地方旅游，但是还没有决定，请推荐几个合适的地方，我的兴趣是：{interests}\"\n",
        "    ),\n",
        "    # AI 消息：提供推荐\n",
        "    AIMessagePromptTemplate.from_template(\n",
        "        \"根据你的兴趣，我推荐以下几个地方：{recommendations}，你对这些地方感兴趣嘛？\"\n",
        "    ),\n",
        "    # 人类消息：用户反馈\n",
        "    HumanMessagePromptTemplate.from_template(\n",
        "        \"这些地方很有趣！能否为 {selected_place} 设计一个详细的三日行程？\"\n",
        "    ),\n",
        "])\n",
        "\n",
        "# 2.动态填充第一轮变量\n",
        "filled_chat = chat_prompt.format_prompt(\n",
        "    interests = \"自然风光，历史文化\",\n",
        "    recommendations = \"\\n1.日本\\n2.美国\\n3.台湾\",\n",
        "    selected_place = \"台湾\"\n",
        ")\n",
        "\n",
        "# 3.输出格式化后的提示词\n",
        "print(\"格式化后的完整对话：\")\n",
        "print(filled_chat.to_string())\n",
        "\n",
        "# 4.调用`聊天`语言模型生成响应\n",
        "llm = ChatOpenAI(\n",
        "    temperature=0,\n",
        "    model_name=\"gpt-4o\",\n",
        "    openai_api_key = userdata.get('OPENAI_API_KEY'),\n",
        "    base_url=userdata.get('BASE_URL'),\n",
        ")\n",
        "\n",
        "# 5.输出响应结果\n",
        "# LangChainDeprecationWarning: The method `BaseChatModel.__call__` was deprecated in langchain-core 0.1.7 and will be removed in 1.0. Use :meth:`~invoke` instead.\n",
        "# response = llm(filled_chat.to_string())\n",
        "response = llm.invoke(filled_chat.to_string())\n",
        "print(\"\\n模型生成的回答：\")\n",
        "print(response)"
      ],
      "metadata": {
        "colab": {
          "base_uri": "https://localhost:8080/"
        },
        "id": "HdRmPPTDBz2t",
        "outputId": "1fe1d1bb-9194-4b5a-9b1c-cc881a9909ab"
      },
      "execution_count": 49,
      "outputs": [
        {
          "output_type": "stream",
          "name": "stdout",
          "text": [
            "格式化后的完整对话：\n",
            "System: 你是一个专业的旅游规划助手，可以根据用户的需求提供详细的旅游建议！\n",
            "Human: 我想去一个地方旅游，但是还没有决定，请推荐几个合适的地方，我的兴趣是：自然风光，历史文化\n",
            "AI: 根据你的兴趣，我推荐以下几个地方：\n",
            "1.日本\n",
            "2.美国\n",
            "3.台湾，你对这些地方感兴趣嘛？\n",
            "Human: 这些地方很有趣！能否为 台湾 设计一个详细的三日行程？\n",
            "\n",
            "模型生成的回答：\n",
            "content='当然可以！以下是一个为期三天的台湾旅游行程，专注于自然风光和历史文化：\\n\\n### 第一天：台北市区探索\\n- **上午：**\\n  - **故宫博物院**：参观世界著名的博物馆，欣赏丰富的中华文化瑰宝。\\n  - **中正纪念堂**：了解台湾的历史和蒋中正的生平，欣赏庄严的建筑和卫兵换岗仪式。\\n\\n- **下午：**\\n  - **龙山寺**：体验台湾最古老的寺庙之一，感受浓厚的宗教氛围。\\n  - **剥皮寮历史街区**：漫步在保存完好的清代街区，了解台北的历史变迁。\\n\\n- **晚上：**\\n  - **士林夜市**：品尝台湾地道小吃，如蚵仔煎、珍珠奶茶和臭豆腐。\\n\\n### 第二天：自然风光与文化体验\\n- **上午：**\\n  - **阳明山国家公园**：徒步探索美丽的自然景观，欣赏火山地形和丰富的动植物。\\n\\n- **下午：**\\n  - **淡水老街**：漫步在充满历史气息的街道，参观红毛城，了解淡水的历史。\\n  - **渔人码头**：欣赏淡水河的美丽风光，体验浪漫的夕阳景色。\\n\\n- **晚上：**\\n  - **淡水夜市**：继续品尝当地美食，享受夜市的热闹氛围。\\n\\n### 第三天：九份与平溪一日游\\n- **上午：**\\n  - **九份老街**：探索这个充满怀旧气息的小镇，欣赏山城美景，品尝芋圆等特色小吃。\\n\\n- **下午：**\\n  - **平溪线小火车**：乘坐复古小火车，体验沿途的自然风光。\\n  - **放天灯**：在平溪放天灯，写下愿望，感受传统文化的魅力。\\n\\n- **晚上：**\\n  - 返回台北，享受最后一晚的城市夜景，或在酒店休息。\\n\\n这个行程结合了台湾的自然美景和丰富的历史文化，希望你能享受这次旅行！如果有任何特别的需求或调整，请随时告诉我。' additional_kwargs={'refusal': None} response_metadata={'token_usage': {'completion_tokens': 543, 'prompt_tokens': 113, 'total_tokens': 656, 'completion_tokens_details': {'accepted_prediction_tokens': None, 'audio_tokens': 0, 'reasoning_tokens': 0, 'rejected_prediction_tokens': None}, 'prompt_tokens_details': {'audio_tokens': 0, 'cached_tokens': 0}}, 'model_name': 'gpt-4o-2024-08-06', 'system_fingerprint': 'fp_f3927aa00d', 'finish_reason': 'stop', 'logprobs': None} id='run-cd89406b-4ba8-4acd-a474-18f558d6ffe2-0' usage_metadata={'input_tokens': 113, 'output_tokens': 543, 'total_tokens': 656, 'input_token_details': {'audio': 0, 'cache_read': 0}, 'output_token_details': {'audio': 0, 'reasoning': 0}}\n"
          ]
        }
      ]
    },
    {
      "cell_type": "markdown",
      "source": [
        "通过对比上述两种模型的运行结果，可得使用聊天模型（`gpt-4o`）的运行效果远比使用文本补全模型(`gpt-3.5-turbo-instruct`)要好很多！！！\n",
        "\n",
        "1. 使用文本补全模型的运行结果：\n",
        "```\n",
        "当然可以！\n",
        "第一天，你可以前往台北市中心的龙山寺，感受当地的宗教氛围；接着可以去士林夜市，品尝当地美食。\n",
        "第二天，你可以前往九份老街，体验传统的台湾文化；然后可以乘坐缆车前往平溪天灯，欣赏美丽的自然风光。\n",
        "第三天，你可以前往台北101观景台，俯瞰整个城市的美景；随后可以去阳明山国家公园，享受自然风光和温泉。如此行程，你觉得怎么样？\n",
        "```\n",
        "\n",
        "\n",
        "2. 使用聊天模型的运行效果：\n",
        "```\n",
        "当然可以！以下是一个为期三天的台湾旅游行程，专注于自然风光和历史文化：\\n\\n\n",
        "### 第一天：台北市区探索\\n- **上午：**\\n  - **故宫博物院**：参观世界著名的博物馆，欣赏丰富的中华文化瑰宝。\\n  - **中正纪念堂**：了解台湾的历史和蒋中正的生平，欣赏庄严的建筑和卫兵换岗仪式。\\n\\n- **下午：**\\n  - **龙山寺**：体验台湾最古老的寺庙之一，感受浓厚的宗教氛围。\\n  - **剥皮寮历史街区**：漫步在保存完好的清代街区，了解台北的历史变迁。\\n\\n- **晚上：**\\n  - **士林夜市**：品尝台湾地道小吃，如蚵仔煎、珍珠奶茶和臭豆腐。\\n\\n\n",
        "### 第二天：自然风光与文化体验\\n- **上午：**\\n  - **阳明山国家公园**：徒步探索美丽的自然景观，欣赏火山地形和丰富的动植物。\\n\\n- **下午：**\\n  - **淡水老街**：漫步在充满历史气息的街道，参观红毛城，了解淡水的历史。\\n  - **渔人码头**：欣赏淡水河的美丽风光，体验浪漫的夕阳景色。\\n\\n- **晚上：**\\n  - **淡水夜市**：继续品尝当地美食，享受夜市的热闹氛围。\\n\\n\n",
        "### 第三天：九份与平溪一日游\\n- **上午：**\\n  - **九份老街**：探索这个充满怀旧气息的小镇，欣赏山城美景，品尝芋圆等特色小吃。\\n\\n- **下午：**\\n  - **平溪线小火车**：乘坐复古小火车，体验沿途的自然风光。\\n  - **放天灯**：在平溪放天灯，写下愿望，感受传统文化的魅力。\\n\\n- **晚上：**\\n  - 返回台北，享受最后一晚的城市夜景，或在酒店休息。\\n\\n这个行程结合了台湾的自然美景和丰富的历史文化，希望你能享受这次旅行！如果有任何特别的需求或调整，请随时告诉我。\n",
        "```"
      ],
      "metadata": {
        "id": "amKksWWjF1rV"
      }
    },
    {
      "cell_type": "markdown",
      "source": [
        "# 05 : 输出解释器 Ouput Parser\n",
        "\n"
      ],
      "metadata": {
        "id": "oWYCTT7viUAS"
      }
    }
  ]
}